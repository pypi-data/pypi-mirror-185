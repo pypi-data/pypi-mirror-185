{
 "cells": [
  {
   "attachments": {},
   "cell_type": "markdown",
   "metadata": {},
   "source": [
    "# Kmeans clustering methodology"
   ]
  },
  {
   "cell_type": "code",
   "execution_count": 1,
   "metadata": {
    "execution": {
     "iopub.execute_input": "2023-01-09T18:47:08.733823Z",
     "iopub.status.busy": "2023-01-09T18:47:08.733298Z",
     "iopub.status.idle": "2023-01-09T18:47:08.744236Z",
     "shell.execute_reply": "2023-01-09T18:47:08.743374Z"
    }
   },
   "outputs": [
    {
     "name": "stdout",
     "output_type": "stream",
     "text": [
      "To be completed...\n"
     ]
    }
   ],
   "source": [
    "print(\"To be completed...\")"
   ]
  }
 ],
 "metadata": {
  "kernelspec": {
   "display_name": "pyteseo-dev",
   "language": "python",
   "name": "python3"
  },
  "language_info": {
   "codemirror_mode": {
    "name": "ipython",
    "version": 3
   },
   "file_extension": ".py",
   "mimetype": "text/x-python",
   "name": "python",
   "nbconvert_exporter": "python",
   "pygments_lexer": "ipython3",
   "version": "3.10.8"
  },
  "vscode": {
   "interpreter": {
    "hash": "792594d832ea4326378f39c6741adae5559c80a209244a934d002d1e59cc9c68"
   }
  }
 },
 "nbformat": 4,
 "nbformat_minor": 2
}
