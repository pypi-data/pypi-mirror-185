{
 "cells": [
  {
   "cell_type": "code",
   "execution_count": null,
   "metadata": {
    "collapsed": true
   },
   "outputs": [],
   "source": []
  },
  {
   "cell_type": "code",
   "execution_count": 7,
   "outputs": [
    {
     "name": "stdout",
     "output_type": "stream",
     "text": [
      "\n",
      "[('__init__', <bound method MonkeyPatch.__init__ of <__main__.MonkeyPatch object at 0x000001537BB1BCD0>>), ('addition', <bound method MonkeyPatch.addition of <__main__.MonkeyPatch object at 0x000001537BB1BCD0>>)]\n",
      "\n",
      "\n",
      "[('__init__', <bound method MonkeyPatch.__init__ of <__main__.MonkeyPatch object at 0x000001537BB1BCD0>>), ('addition', <bound method MonkeyPatch.addition of <__main__.MonkeyPatch object at 0x000001537BB1BCD0>>), ('subtraction', <bound method subtraction of <__main__.MonkeyPatch object at 0x000001537BB1BCD0>>)]\n",
      "\n"
     ]
    },
    {
     "data": {
      "text/plain": "'roobar'"
     },
     "execution_count": 7,
     "metadata": {},
     "output_type": "execute_result"
    }
   ],
   "source": [
    "import os\n",
    "\n",
    "\n",
    "class MonkeyPatch:\n",
    "    def __init__(self, num):\n",
    "        self.num = num\n",
    "\n",
    "    def addition(self, other):\n",
    "        return self.num + other\n",
    "\n",
    "\n",
    "obj = MonkeyPatch(10)\n",
    "obj.addition(20)\n",
    "\n",
    "\n",
    "import inspect\n",
    "\n",
    "print()\n",
    "print(inspect.getmembers(obj, predicate=inspect.ismethod))\n",
    "print()\n",
    "\n",
    "\n",
    "def subtraction(self, num2):\n",
    "    return self.num - num2\n",
    "\n",
    "MonkeyPatch.subtraction = subtraction\n",
    "\n",
    "\n",
    "\n",
    "\n",
    "import inspect\n",
    "\n",
    "\n",
    "\n",
    "print()\n",
    "print(inspect.getmembers(obj, predicate=inspect.ismethod))\n",
    "print()\n",
    "\n",
    "def foobar():\n",
    "    return \"roobar\"\n",
    "\n",
    "\n",
    "os.foobar = foobar\n",
    "os.foobar()"
   ],
   "metadata": {
    "collapsed": false
   }
  }
 ],
 "metadata": {
  "kernelspec": {
   "display_name": "Python 3",
   "language": "python",
   "name": "python3"
  },
  "language_info": {
   "codemirror_mode": {
    "name": "ipython",
    "version": 2
   },
   "file_extension": ".py",
   "mimetype": "text/x-python",
   "name": "python",
   "nbconvert_exporter": "python",
   "pygments_lexer": "ipython2",
   "version": "2.7.6"
  }
 },
 "nbformat": 4,
 "nbformat_minor": 0
}
