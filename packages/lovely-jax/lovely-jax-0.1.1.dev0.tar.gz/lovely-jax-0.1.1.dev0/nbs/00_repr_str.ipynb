{
 "cells": [
  {
   "cell_type": "markdown",
   "metadata": {},
   "source": [
    "# 🧾 View as a summary"
   ]
  },
  {
   "cell_type": "code",
   "execution_count": null,
   "metadata": {},
   "outputs": [],
   "source": [
    "#| default_exp repr_str"
   ]
  },
  {
   "cell_type": "code",
   "execution_count": null,
   "metadata": {},
   "outputs": [],
   "source": [
    "#| hide\n",
    "import nbdev; nbdev.nbdev_export()"
   ]
  },
  {
   "cell_type": "code",
   "execution_count": null,
   "metadata": {},
   "outputs": [],
   "source": [
    "# |hide\n",
    "import os\n",
    "from nbdev.showdoc import *\n",
    "from fastcore.test import test_eq, test"
   ]
  },
  {
   "cell_type": "code",
   "execution_count": null,
   "metadata": {},
   "outputs": [],
   "source": [
    "# |hide\n",
    "# os.environ[\"JAX_PLATFORM_NAME\"] = \"cpu\""
   ]
  },
  {
   "cell_type": "code",
   "execution_count": null,
   "metadata": {},
   "outputs": [],
   "source": [
    "#| hide\n",
    "#| export\n",
    "\n",
    "import warnings\n",
    "from typing import Union, Optional as O\n",
    "\n",
    "import numpy as np\n",
    "import jax, jax.numpy as jnp\n",
    "\n",
    "from lovely_numpy import np_to_str_common, pretty_str, sparse_join, ansi_color, in_debugger\n",
    "from lovely_numpy import config as lnp_config\n",
    "\n",
    "from lovely_jax.utils.config import get_config\n",
    "from lovely_jax.utils.misc import to_numpy, is_cpu, test_array_repr"
   ]
  },
  {
   "cell_type": "code",
   "execution_count": null,
   "metadata": {},
   "outputs": [],
   "source": [
    "# |hide\n",
    "# torch.manual_seed(42)\n",
    "\n",
    "\n",
    "key = jax.random.PRNGKey(0)\n",
    "randoms = jax.random.normal(key, (100,))"
   ]
  },
  {
   "cell_type": "code",
   "execution_count": null,
   "metadata": {},
   "outputs": [],
   "source": [
    "spicy = (randoms[:12].at[0].mul(10000)\n",
    "                    .at[1].divide(10000)\n",
    "                    .at[3].set(float('inf'))\n",
    "                    .at[4].set(float('-inf'))\n",
    "                    .at[5].set(float('nan'))\n",
    "                    .reshape((2,6)))"
   ]
  },
  {
   "cell_type": "code",
   "execution_count": null,
   "metadata": {},
   "outputs": [],
   "source": [
    "# |exporti\n",
    "dtnames =   {   \"float16\": \"f16\",\n",
    "                \"float32\": \"\", # Default dtype in jax\n",
    "                \"float64\": \"f64\", \n",
    "                \"bfloat16\": \"bf16\",\n",
    "                \"uint8\": \"u8\",\n",
    "                \"uint16\": \"u16\",\n",
    "                \"uint32\": \"u32\",\n",
    "                \"uint64\": \"u64\",\n",
    "                \"int8\": \"i8\",\n",
    "                \"int16\": \"i16\",\n",
    "                \"int32\": \"i32\",\n",
    "                \"int64\": \"i64\",\n",
    "            }\n",
    "\n",
    "def short_dtype(x: jax.Array) -> str:\n",
    "    return dtnames.get(x.dtype.name, str(x.dtype))"
   ]
  },
  {
   "cell_type": "code",
   "execution_count": null,
   "metadata": {},
   "outputs": [],
   "source": [
    "# |hide\n",
    "test_eq(short_dtype(jnp.array(1., dtype=jnp.bfloat16)), \"bf16\")"
   ]
  },
  {
   "cell_type": "code",
   "execution_count": null,
   "metadata": {},
   "outputs": [],
   "source": [
    "# | exporti\n",
    "def plain_repr(x: jax.Array):\n",
    "    \"Pick the right function to get a plain repr\"\n",
    "    # assert isinstance(x, np.ndarray), f\"expected np.ndarray but got {type(x)}\" # Could be a sub-class.\n",
    "    return x._plain_repr() if hasattr(type(x), \"_plain_repr\") else repr(x)\n",
    "\n",
    "# def plain_str(x: torch.Tensor):\n",
    "#     \"Pick the right function to get a plain str.\"\n",
    "#     # assert isinstance(x, np.ndarray), f\"expected np.ndarray but got {type(x)}\"\n",
    "#     return x._plain_str() if hasattr(type(x), \"_plain_str\") else str(x)"
   ]
  },
  {
   "cell_type": "code",
   "execution_count": null,
   "metadata": {},
   "outputs": [],
   "source": [
    "# | exporti\n",
    "def is_nasty(x: jax.Array):\n",
    "    \"\"\"Return true of any `x` values are inf or nan\"\"\"\n",
    "    \n",
    "    if x.size == 0: return False # min/max don't like zero-lenght arrays\n",
    "    \n",
    "    x_min = x.min()\n",
    "    x_max = x.max()\n",
    "    \n",
    "    return jnp.isnan(x_min) or jnp.isinf(x_min) or jnp.isinf(x_max)"
   ]
  },
  {
   "cell_type": "code",
   "execution_count": null,
   "metadata": {},
   "outputs": [],
   "source": [
    "#| hide\n",
    "\n",
    "test_eq(is_nasty(jnp.array([1, 2, float(\"nan\")])), True)\n",
    "test_eq(is_nasty(jnp.array([1, 2, float(\"inf\")])), True)\n",
    "test_eq(is_nasty(jnp.array([1, 2, 3])), False)\n",
    "test_eq(is_nasty(jnp.array([])), False)"
   ]
  },
  {
   "cell_type": "code",
   "execution_count": null,
   "metadata": {},
   "outputs": [],
   "source": [
    "# |export\n",
    "def jax_to_str_common(x: jax.Array,  # Input\n",
    "                        color=True,                     # ANSI color highlighting\n",
    "                        ddof=0):                        # For \"std\" unbiasing\n",
    "\n",
    "    if x.size == 0:\n",
    "        return ansi_color(\"empty\", \"grey\", color)\n",
    "\n",
    "    zeros = ansi_color(\"all_zeros\", \"grey\", color) if jnp.equal(x, 0.).all() and x.size > 1 else None\n",
    "    pinf = ansi_color(\"+Inf!\", \"red\", color) if jnp.isposinf(x).any() else None\n",
    "    ninf = ansi_color(\"-Inf!\", \"red\", color) if jnp.isneginf(x).any() else None\n",
    "    nan = ansi_color(\"NaN!\", \"red\", color) if jnp.isnan(x).any() else None\n",
    "\n",
    "    attention = sparse_join([zeros,pinf,ninf,nan])\n",
    "    numel = f\"n={x.size}\" if x.size > 5 and max(x.shape) != x.size else None\n",
    "\n",
    "    summary = None\n",
    "    if not zeros and x.ndim > 0:\n",
    "        # Calculate stats on good values only.\n",
    "        # This is memory expensive, don't do it on GPU.\n",
    "        # We divert to numpy if there are any nasties in the data.\n",
    "        # gx = x[ jnp.isfinite(x) ]\n",
    "\n",
    "        minmax = f\"x∈[{pretty_str(x.min())}, {pretty_str(x.max())}]\" if x.size > 2 else None\n",
    "        meanstd = f\"μ={pretty_str(x.mean())} σ={pretty_str(x.std(ddof=ddof))}\" if x.size >= 2 else None\n",
    "        summary = sparse_join([numel, minmax, meanstd])\n",
    "\n",
    "\n",
    "    return sparse_join([ summary, attention])"
   ]
  },
  {
   "cell_type": "code",
   "execution_count": null,
   "metadata": {},
   "outputs": [],
   "source": [
    "# |exporti\n",
    "\n",
    "def to_str(x: jax.Array,  # Input\n",
    "            plain: bool=False,\n",
    "            verbose: bool=False,\n",
    "            depth=0,\n",
    "            lvl=0,\n",
    "            color=None) -> str:\n",
    "\n",
    "    if plain:\n",
    "        return plain_repr(x)\n",
    "\n",
    "    conf = get_config()\n",
    "\n",
    "    tname = type(x).__name__.split(\".\")[-1]\n",
    "    shape = str(list(x.shape)) if x.ndim else None\n",
    "    type_str = sparse_join([tname, shape], sep=\"\")\n",
    "    \n",
    "\n",
    "    dev = f\"{x.device().platform}:{x.device().id}\"\n",
    "    dtype = short_dtype(x)\n",
    "    # grad_fn = t.grad_fn.name() if t.grad_fn else None\n",
    "    # PyTorch does not want you to know, but all `grad_fn``\n",
    "    # tensors actuall have `requires_grad=True`` too.\n",
    "    # grad = \"grad\" if t.requires_grad else None \n",
    "    grad = grad_fn = None\n",
    "\n",
    "\n",
    "    # For complex tensors, just show the shape / size part for now.\n",
    "    if not jnp.iscomplexobj(x):\n",
    "        if color is None: color=conf.color\n",
    "        if in_debugger(): color = False\n",
    "        # `lovely-numpy` is used to calculate stats when doing so on GPU would require\n",
    "        # memory allocation (not float tensors, tensors with bad numbers), or if the\n",
    "        # data is on CPU (because numpy is faster).\n",
    "        #\n",
    "        # Temporarily set the numpy config to match our config for consistency.\n",
    "        with lnp_config(precision=conf.precision,\n",
    "                        threshold_min=conf.threshold_min,\n",
    "                        threshold_max=conf.threshold_max,\n",
    "                        sci_mode=conf.sci_mode):\n",
    "\n",
    "            if is_cpu(x) or is_nasty(x):\n",
    "                common = np_to_str_common(np.array(x), color=color)\n",
    "            else:\n",
    "                common = jax_to_str_common(x, color=color)\n",
    "\n",
    "            vals = pretty_str(x) if 0 < x.size <= 10 else None\n",
    "            res = sparse_join([type_str, dtype, common, grad, grad_fn, dev, vals])\n",
    "    else:\n",
    "        res = plain_repr(x)\n",
    "\n",
    "\n",
    "    if verbose:\n",
    "        res += \"\\n\" + plain_repr(x)\n",
    "\n",
    "    if depth and x.ndim > 1:\n",
    "\n",
    "        deep_width = min((x.shape[0]), conf.deeper_width) # Print at most this many lines\n",
    "        deep_lines = [ \" \"*conf.indent*(lvl+1) + to_str(x[i,:], depth=depth-1, lvl=lvl+1)\n",
    "                            for i in range(deep_width)] \n",
    "\n",
    "        # If we were limited by width, print ...\n",
    "        if deep_width < x.shape[0]: deep_lines.append(\" \"*conf.indent*(lvl+1) + \"...\")\n",
    "\n",
    "        res += \"\\n\" + \"\\n\".join(deep_lines)\n",
    "\n",
    "    return res"
   ]
  },
  {
   "cell_type": "code",
   "execution_count": null,
   "metadata": {},
   "outputs": [],
   "source": [
    "# |exporti\n",
    "def history_warning():\n",
    "    \"Issue a warning (once) ifw e are running in IPYthon with output cache enabled\"\n",
    "\n",
    "    if \"get_ipython\" in globals() and get_ipython().cache_size > 0:\n",
    "        warnings.warn(\"IPYthon has its output cache enabled. See https://xl0.github.io/lovely-tensors/history.html\")"
   ]
  },
  {
   "cell_type": "code",
   "execution_count": null,
   "metadata": {},
   "outputs": [
    {
     "name": "stderr",
     "output_type": "stream",
     "text": [
      "/tmp/ipykernel_662013/3648473780.py:6: UserWarning: IPYthon has its output cache enabled. See https://xl0.github.io/lovely-tensors/history.html\n",
      "  warnings.warn(\"IPYthon has its output cache enabled. See https://xl0.github.io/lovely-tensors/history.html\")\n"
     ]
    }
   ],
   "source": [
    "# |hide\n",
    "get_ipython().cache_size=1000\n",
    "history_warning()"
   ]
  },
  {
   "cell_type": "code",
   "execution_count": null,
   "metadata": {},
   "outputs": [],
   "source": [
    "# |hide\n",
    "get_ipython().cache_size=0"
   ]
  },
  {
   "cell_type": "code",
   "execution_count": null,
   "metadata": {},
   "outputs": [],
   "source": [
    "#| exporti\n",
    "\n",
    "class StrProxy():\n",
    "    def __init__(self, x: jax.Array, plain=False, verbose=False, depth=0, lvl=0, color=None):\n",
    "        self.x = x\n",
    "        self.plain = plain\n",
    "        self.verbose = verbose\n",
    "        self.depth=depth\n",
    "        self.lvl=lvl\n",
    "        self.color=color\n",
    "        history_warning()\n",
    "    \n",
    "    def __repr__(self):\n",
    "        return to_str(self.x, plain=self.plain, verbose=self.verbose,\n",
    "                      depth=self.depth, lvl=self.lvl, color=self.color)\n",
    "\n",
    "    # This is used for .deeper attribute and .deeper(depth=...).\n",
    "    # The second onthe results in a __call__.\n",
    "    def __call__(self, depth=1):\n",
    "        return StrProxy(self.x, depth=depth)"
   ]
  },
  {
   "cell_type": "code",
   "execution_count": null,
   "metadata": {},
   "outputs": [],
   "source": [
    "# |export\n",
    "def lovely(x: jax.Array, # Tensor of interest\n",
    "            verbose=False,  # Whether to show the full tensor\n",
    "            plain=False,    # Just print if exactly as before\n",
    "            depth=0,        # Show stats in depth\n",
    "            color=None):    # Force color (True/False) or auto.\n",
    "    return StrProxy(x, verbose=verbose, plain=plain, depth=depth, color=color)"
   ]
  },
  {
   "cell_type": "markdown",
   "metadata": {},
   "source": [
    "### Examples"
   ]
  },
  {
   "cell_type": "code",
   "execution_count": null,
   "metadata": {},
   "outputs": [],
   "source": []
  },
  {
   "cell_type": "code",
   "execution_count": null,
   "metadata": {},
   "outputs": [
    {
     "name": "stdout",
     "output_type": "stream",
     "text": [
      "Array gpu:0 -1.981\n",
      "Array[2] μ=-0.466 σ=1.515 gpu:0 [-1.981, 1.048]\n",
      "Array[2, 3] n=6 x∈[-1.981, 1.048] μ=-0.017 σ=1.113 gpu:0 [[-1.981, 1.048, 0.890], [0.035, -0.947, 0.851]]\n",
      "Array[11] x∈[-1.981, 1.048] μ=-0.191 σ=0.899 gpu:0\n"
     ]
    }
   ],
   "source": [
    "print(lovely(randoms[0]))\n",
    "print(lovely(randoms[:2]))\n",
    "print(lovely(randoms[:6].reshape((2, 3)))) # More than 2 elements -> show statistics\n",
    "print(lovely(randoms[:11]))           # More than 10 -> suppress data output\n"
   ]
  },
  {
   "cell_type": "code",
   "execution_count": null,
   "metadata": {},
   "outputs": [],
   "source": [
    "# |hide\n",
    "test_array_repr(str(lovely(randoms[0])),                \"Array gpu:0 -1.981\")\n",
    "test_array_repr(str(lovely(randoms[:2])),               \"Array[2] μ=-0.466 σ=1.515 gpu:0 [-1.981, 1.048]\")\n",
    "test_array_repr(str(lovely(randoms[:6].reshape(2, 3))), \"Array[2, 3] n=6 x∈[-1.981, 1.048] μ=-0.017 σ=1.113 gpu:0 [[-1.981, 1.048, 0.890], [0.035, -0.947, 0.851]]\")\n",
    "test_array_repr(str(lovely(randoms[:11])),              \"Array[11] x∈[-1.981, 1.048] μ=-0.191 σ=0.899 gpu:0\")"
   ]
  },
  {
   "cell_type": "code",
   "execution_count": null,
   "metadata": {},
   "outputs": [
    {
     "name": "stdout",
     "output_type": "stream",
     "text": [
      "Array f16 gpu:0 1.000\n",
      "Array f16 gpu:0 2.000\n"
     ]
    }
   ],
   "source": [
    "grad = jnp.array(1., dtype=jnp.float16)\n",
    "print(lovely(grad)); print(lovely(grad+1))"
   ]
  },
  {
   "cell_type": "code",
   "execution_count": null,
   "metadata": {},
   "outputs": [],
   "source": [
    "# |hide\n",
    "# test_eq(str(lovely(grad)), \"tensor f64 grad 1.000\")\n",
    "# test_eq(str(lovely(grad+1)), \"tensor f64 grad AddBackward0 2.000\")"
   ]
  },
  {
   "cell_type": "code",
   "execution_count": null,
   "metadata": {},
   "outputs": [],
   "source": [
    "# if torch.cuda.is_available():\n",
    "#     print(lovely(torch.tensor(1., device=torch.device(\"cuda:0\"))))\n",
    "#     test_eq(str(lovely(torch.tensor(1., device=torch.device(\"cuda:0\")))), \"tensor cuda:0 1.000\")"
   ]
  },
  {
   "cell_type": "markdown",
   "metadata": {},
   "source": [
    "Do we have __any__ floating point nasties? Is the tensor __all__ zeros?"
   ]
  },
  {
   "cell_type": "code",
   "execution_count": null,
   "metadata": {},
   "outputs": [
    {
     "data": {
      "text/plain": [
       "Array[2, 6] n=12 x∈[-1.981e+04, 0.890] μ=-2.201e+03 σ=6.226e+03 \u001b[31m+Inf!\u001b[0m \u001b[31m-Inf!\u001b[0m \u001b[31mNaN!\u001b[0m gpu:0"
      ]
     },
     "execution_count": null,
     "metadata": {},
     "output_type": "execute_result"
    }
   ],
   "source": [
    "# Statistics and range are calculated on good values only, if there are at lest 3 of them.\n",
    "lovely(spicy)"
   ]
  },
  {
   "cell_type": "code",
   "execution_count": null,
   "metadata": {},
   "outputs": [],
   "source": [
    "# |hide\n",
    "test_array_repr(str(lovely(spicy)),\n",
    "    'Array[2, 6] n=12 x∈[-1.981e+04, 0.890] μ=-2.201e+03 σ=6.226e+03 \\x1b[31m+Inf!\\x1b[0m \\x1b[31m-Inf!\\x1b[0m \\x1b[31mNaN!\\x1b[0m gpu:0')"
   ]
  },
  {
   "cell_type": "code",
   "execution_count": null,
   "metadata": {},
   "outputs": [
    {
     "data": {
      "text/plain": [
       "Array[2, 6] n=12 x∈[-1.981e+04, 0.890] μ=-2.201e+03 σ=6.226e+03 +Inf! -Inf! NaN! gpu:0"
      ]
     },
     "execution_count": null,
     "metadata": {},
     "output_type": "execute_result"
    }
   ],
   "source": [
    "lovely(spicy, color=False)"
   ]
  },
  {
   "cell_type": "code",
   "execution_count": null,
   "metadata": {},
   "outputs": [
    {
     "data": {
      "text/plain": [
       "'Array[11] \\x1b[31mNaN!\\x1b[0m gpu:0'"
      ]
     },
     "execution_count": null,
     "metadata": {},
     "output_type": "execute_result"
    }
   ],
   "source": [
    "str(lovely(jnp.array([float(\"nan\")]*11)))"
   ]
  },
  {
   "cell_type": "code",
   "execution_count": null,
   "metadata": {},
   "outputs": [],
   "source": [
    "# |hide \n",
    "test_array_repr(str(lovely(jnp.array([float(\"nan\")]*11))),\n",
    "        'Array[11] \\x1b[31mNaN!\\x1b[0m gpu:0')"
   ]
  },
  {
   "cell_type": "code",
   "execution_count": null,
   "metadata": {},
   "outputs": [
    {
     "data": {
      "text/plain": [
       "Array[12] \u001b[38;2;127;127;127mall_zeros\u001b[0m gpu:0"
      ]
     },
     "execution_count": null,
     "metadata": {},
     "output_type": "execute_result"
    }
   ],
   "source": [
    "lovely(jnp.zeros(12))"
   ]
  },
  {
   "cell_type": "code",
   "execution_count": null,
   "metadata": {},
   "outputs": [],
   "source": [
    "# |hide\n",
    "test_array_repr(str(lovely(jnp.zeros(12))),\n",
    "        'Array[12] \\x1b[38;2;127;127;127mall_zeros\\x1b[0m gpu:0')"
   ]
  },
  {
   "cell_type": "code",
   "execution_count": null,
   "metadata": {},
   "outputs": [
    {
     "data": {
      "text/plain": [
       "Array[0, 0, 0] f16 \u001b[38;2;127;127;127mempty\u001b[0m gpu:0"
      ]
     },
     "execution_count": null,
     "metadata": {},
     "output_type": "execute_result"
    }
   ],
   "source": [
    "lovely(jnp.array([], dtype=jnp.float16).reshape((0,0,0)))"
   ]
  },
  {
   "cell_type": "code",
   "execution_count": null,
   "metadata": {},
   "outputs": [],
   "source": [
    "# |hide\n",
    "test_array_repr(str(lovely(jnp.array([], dtype=jnp.float16).reshape((0,0,0)))),\n",
    "        'Array[0, 0, 0] f16 \\x1b[38;2;127;127;127mempty\\x1b[0m gpu:0')"
   ]
  },
  {
   "cell_type": "code",
   "execution_count": null,
   "metadata": {},
   "outputs": [
    {
     "data": {
      "text/plain": [
       "Array[3] i32 x∈[1, 3] μ=2.000 σ=0.816 gpu:0 [1, 2, 3]"
      ]
     },
     "execution_count": null,
     "metadata": {},
     "output_type": "execute_result"
    }
   ],
   "source": [
    "lovely(jnp.array([1,2,3], dtype=jnp.int32))"
   ]
  },
  {
   "cell_type": "code",
   "execution_count": null,
   "metadata": {},
   "outputs": [],
   "source": [
    "# |hide\n",
    "test_array_repr(str(lovely(jnp.array([1,2,3], dtype=jnp.int32))),\n",
    "        'Array[3] i32 x∈[1, 3] μ=2.000 σ=0.816 gpu:0 [1, 2, 3]')"
   ]
  },
  {
   "cell_type": "code",
   "execution_count": null,
   "metadata": {},
   "outputs": [
    {
     "data": {
      "text/plain": [
       "Array[2, 6] n=12 x∈[-1.981e+04, 0.890] μ=-2.201e+03 σ=6.226e+03 \u001b[31m+Inf!\u001b[0m \u001b[31m-Inf!\u001b[0m \u001b[31mNaN!\u001b[0m gpu:0\n",
       "Array([[-1.98e+04,  1.05e-04,  8.90e-01,       inf,      -inf,       nan],\n",
       "       [ 3.12e-02, -3.90e-01,  1.32e-02, -4.21e-01, -1.23e+00, -1.25e+00]], dtype=float32)"
      ]
     },
     "execution_count": null,
     "metadata": {},
     "output_type": "execute_result"
    }
   ],
   "source": [
    "jnp.set_printoptions(linewidth=120, precision=2)\n",
    "lovely(spicy, verbose=True)"
   ]
  },
  {
   "cell_type": "code",
   "execution_count": null,
   "metadata": {},
   "outputs": [
    {
     "data": {
      "text/plain": [
       "Array([[-1.98e+04,  1.05e-04,  8.90e-01,       inf,      -inf,       nan],\n",
       "       [ 3.12e-02, -3.90e-01,  1.32e-02, -4.21e-01, -1.23e+00, -1.25e+00]], dtype=float32)"
      ]
     },
     "execution_count": null,
     "metadata": {},
     "output_type": "execute_result"
    }
   ],
   "source": [
    "lovely(spicy, plain=True)"
   ]
  },
  {
   "cell_type": "code",
   "execution_count": null,
   "metadata": {},
   "outputs": [
    {
     "data": {
      "text/plain": [
       "Array[3, 196, 196] n=115248 x∈[-2.118, 2.640] μ=-0.388 σ=1.073 \u001b[31mNaN!\u001b[0m gpu:0\n",
       "  Array[196, 196] n=38416 x∈[-2.118, 2.249] μ=-0.324 σ=1.036 gpu:0\n",
       "    Array[196] x∈[-1.912, 2.249] μ=-0.673 σ=0.521 gpu:0\n",
       "    Array[196] x∈[-1.861, 2.163] μ=-0.738 σ=0.417 gpu:0\n",
       "    Array[196] x∈[-1.758, 2.198] μ=-0.806 σ=0.396 gpu:0\n",
       "    Array[196] x∈[-1.656, 2.249] μ=-0.849 σ=0.368 gpu:0\n",
       "    Array[196] x∈[-1.673, 2.198] μ=-0.857 σ=0.356 gpu:0\n",
       "    Array[196] x∈[-1.656, 2.146] μ=-0.848 σ=0.371 gpu:0\n",
       "    Array[196] x∈[-1.433, 2.215] μ=-0.784 σ=0.396 gpu:0\n",
       "    Array[196] x∈[-1.279, 2.249] μ=-0.695 σ=0.485 gpu:0\n",
       "    Array[196] x∈[-1.364, 2.249] μ=-0.637 σ=0.538 gpu:0\n",
       "    ...\n",
       "  Array[196, 196] n=38416 x∈[-1.966, 2.429] μ=-0.274 σ=0.973 \u001b[31mNaN!\u001b[0m gpu:0\n",
       "    Array[196] x∈[-1.861, 2.411] μ=-0.529 σ=0.555 gpu:0\n",
       "    Array[196] x∈[-1.826, 2.359] μ=-0.562 σ=0.472 gpu:0\n",
       "    Array[196] x∈[-1.756, 2.376] μ=-0.622 σ=0.458 \u001b[31mNaN!\u001b[0m gpu:0\n",
       "    Array[196] x∈[-1.633, 2.429] μ=-0.664 σ=0.429 gpu:0\n",
       "    Array[196] x∈[-1.651, 2.376] μ=-0.669 σ=0.398 gpu:0\n",
       "    Array[196] x∈[-1.633, 2.376] μ=-0.701 σ=0.390 gpu:0\n",
       "    Array[196] x∈[-1.563, 2.429] μ=-0.670 σ=0.379 gpu:0\n",
       "    Array[196] x∈[-1.475, 2.429] μ=-0.616 σ=0.385 gpu:0\n",
       "    Array[196] x∈[-1.511, 2.429] μ=-0.593 σ=0.398 gpu:0\n",
       "    ...\n",
       "  Array[196, 196] n=38416 x∈[-1.804, 2.640] μ=-0.567 σ=1.178 gpu:0\n",
       "    Array[196] x∈[-1.717, 2.396] μ=-0.982 σ=0.349 gpu:0\n",
       "    Array[196] x∈[-1.752, 2.326] μ=-1.034 σ=0.313 gpu:0\n",
       "    Array[196] x∈[-1.648, 2.379] μ=-1.086 σ=0.313 gpu:0\n",
       "    Array[196] x∈[-1.630, 2.466] μ=-1.121 σ=0.304 gpu:0\n",
       "    Array[196] x∈[-1.717, 2.448] μ=-1.120 σ=0.301 gpu:0\n",
       "    Array[196] x∈[-1.717, 2.431] μ=-1.166 σ=0.313 gpu:0\n",
       "    Array[196] x∈[-1.560, 2.448] μ=-1.124 σ=0.325 gpu:0\n",
       "    Array[196] x∈[-1.421, 2.431] μ=-1.064 σ=0.382 gpu:0\n",
       "    Array[196] x∈[-1.526, 2.396] μ=-1.047 σ=0.416 gpu:0\n",
       "    ..."
      ]
     },
     "execution_count": null,
     "metadata": {},
     "output_type": "execute_result"
    }
   ],
   "source": [
    "image = jnp.load(\"mysteryman.npy\")\n",
    "image = image.at[1,2,3].set(float('nan'))\n",
    "\n",
    "lovely(image, depth=2) # Limited by set_config(deeper_lines=N)"
   ]
  },
  {
   "cell_type": "code",
   "execution_count": null,
   "metadata": {},
   "outputs": [],
   "source": [
    "# |hide\n",
    "#### CUDA memory is not leaked"
   ]
  },
  {
   "cell_type": "code",
   "execution_count": null,
   "metadata": {},
   "outputs": [],
   "source": [
    "# |hide\n",
    "# |eval: false\n",
    "# def memstats():\n",
    "#     allocated = int(torch.cuda.memory_allocated() // (1024*1024))\n",
    "#     max_allocated = int(torch.cuda.max_memory_allocated() // (1024*1024))\n",
    "#     return f\"Allocated: {allocated} MB, Max: {max_allocated} Mb\"\n",
    "\n",
    "# if torch.cuda.is_available():\n",
    "#     cudamem = torch.cuda.memory_allocated()\n",
    "#     print(f\"before allocation: {memstats()}\")\n",
    "#     numbers = torch.randn((3, 1024, 1024), device=\"cuda\") # 12Mb image\n",
    "#     torch.cuda.synchronize()\n",
    "\n",
    "#     print(f\"after allocation: {memstats()}\")\n",
    "#     # Note, the return value of lovely() is not a string, but a\n",
    "#     # StrProxy that holds reference to 'numbers'. You have to del\n",
    "#     # the references to it, but once it's gone, the reference to\n",
    "#     # the tensor is gone too.\n",
    "#     display(lovely(numbers) )\n",
    "#     print(f\"after repr: {memstats()}\")\n",
    "    \n",
    "#     del numbers\n",
    "#     # torch.cuda.memory.empty_cache()\n",
    "\n",
    "#     print(f\"after cleanup: {memstats()}\")\n",
    "#     test_eq(cudamem >= torch.cuda.memory_allocated(), True)"
   ]
  },
  {
   "cell_type": "code",
   "execution_count": null,
   "metadata": {},
   "outputs": [
    {
     "data": {
      "text/plain": [
       "Array([-0.4 -0.4j ,  1.13+0.08j, -0.03+1.j  , -0.46+0.61j, -1.15-0.99j], dtype=complex64)"
      ]
     },
     "execution_count": null,
     "metadata": {},
     "output_type": "execute_result"
    }
   ],
   "source": [
    "# We don't really supposed complex numbers yet\n",
    "c = jnp.array([-0.4011-0.4035j,  1.1300+0.0788j, -0.0277+0.9978j, -0.4636+0.6064j, -1.1505-0.9865j])\n",
    "lovely(c)"
   ]
  }
 ],
 "metadata": {
  "kernelspec": {
   "display_name": "jax",
   "language": "python",
   "name": "python3"
  }
 },
 "nbformat": 4,
 "nbformat_minor": 4
}
