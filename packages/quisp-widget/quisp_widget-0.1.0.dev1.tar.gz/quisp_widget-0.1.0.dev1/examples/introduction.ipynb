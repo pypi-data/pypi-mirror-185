{
 "cells": [
  {
   "cell_type": "markdown",
   "metadata": {},
   "source": [
    "# Introduction"
   ]
  },
  {
   "cell_type": "code",
   "execution_count": 1,
   "metadata": {},
   "outputs": [],
   "source": [
    "from quisp_widget import QuispWidget, QNode, Network, ChannelOption, LinkType"
   ]
  },
  {
   "cell_type": "code",
   "execution_count": 2,
   "metadata": {},
   "outputs": [],
   "source": [
    "simulator = QuispWidget()"
   ]
  },
  {
   "cell_type": "code",
   "execution_count": 18,
   "metadata": {},
   "outputs": [],
   "source": [
    "network = Network(\"test\")\n",
    "qnode1 = QNode(name=\"qnode1\", network=network, is_initiator = True)\n",
    "qnode2 = QNode(name=\"qnode2\", network=network)\n",
    "# qnode3 = QNode(name=\"qnode3\", network=network)\n",
    "# qnode4 = QNode(name=\"qnode4\", network=network)\n",
    "qnode1.connect(qnode2)\n",
    "# qnode2.connect(qnode3)\n",
    "# qnode4.connect(qnode2, ChannelOption(link_type=LinkType.MIM, quantum_channel_distance=5))\n",
    "simulator.load(network)"
   ]
  },
  {
   "cell_type": "code",
   "execution_count": 17,
   "metadata": {},
   "outputs": [],
   "source": [
    "#print(network.dump())"
   ]
  },
  {
   "cell_type": "code",
   "execution_count": 4,
   "metadata": {},
   "outputs": [
    {
     "data": {
      "application/vnd.jupyter.widget-view+json": {
       "model_id": "5723c7b4202f478289254bed3c04220f",
       "version_major": 2,
       "version_minor": 0
      },
      "text/plain": [
       "QuispWidget(layout=Layout(width='100%'))"
      ]
     },
     "metadata": {},
     "output_type": "display_data"
    }
   ],
   "source": [
    "display(simulator)"
   ]
  },
  {
   "cell_type": "code",
   "execution_count": 6,
   "metadata": {},
   "outputs": [],
   "source": [
    "simulator.runFast()"
   ]
  },
  {
   "cell_type": "code",
   "execution_count": 19,
   "metadata": {},
   "outputs": [],
   "source": [
    "simulator.readResult()"
   ]
  },
  {
   "cell_type": "code",
   "execution_count": 21,
   "metadata": {},
   "outputs": [
    {
     "name": "stdout",
     "output_type": "stream",
     "text": [
      "3957870\n"
     ]
    }
   ],
   "source": [
    "if simulator.jsonl:\n",
    "  print(len(simulator.jsonl))"
   ]
  },
  {
   "cell_type": "code",
   "execution_count": 22,
   "metadata": {},
   "outputs": [],
   "source": [
    "simulator.output"
   ]
  }
 ],
 "metadata": {
  "kernelspec": {
   "display_name": "Python 3 (ipykernel)",
   "language": "python",
   "name": "python3"
  },
  "language_info": {
   "codemirror_mode": {
    "name": "ipython",
    "version": 3
   },
   "file_extension": ".py",
   "mimetype": "text/x-python",
   "name": "python",
   "nbconvert_exporter": "python",
   "pygments_lexer": "ipython3",
   "version": "3.10.9"
  },
  "vscode": {
   "interpreter": {
    "hash": "1299d8cc001d0b451e1bdd71d5fff11080a556321d5971aae175c25dc5443763"
   }
  }
 },
 "nbformat": 4,
 "nbformat_minor": 4
}
