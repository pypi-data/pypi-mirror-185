{
 "cells": [
  {
   "cell_type": "code",
   "execution_count": 1,
   "metadata": {},
   "outputs": [
    {
     "name": "stdout",
     "output_type": "stream",
     "text": [
      "Looking in indexes: https://test.pypi.org/simple/\n",
      "Requirement already satisfied: quisp-widget in /Users/zigen/Library/Caches/pypoetry/virtualenvs/quisp-widget-oWZk5Svb-py3.10/lib/python3.10/site-packages (0.1.0.dev0)\n",
      "Requirement already satisfied: ipywidgets>=7.0.0 in /Users/zigen/Library/Caches/pypoetry/virtualenvs/quisp-widget-oWZk5Svb-py3.10/lib/python3.10/site-packages (from quisp-widget) (8.0.4)\n",
      "Requirement already satisfied: jupyterlab-widgets~=3.0 in /Users/zigen/Library/Caches/pypoetry/virtualenvs/quisp-widget-oWZk5Svb-py3.10/lib/python3.10/site-packages (from ipywidgets>=7.0.0->quisp-widget) (3.0.5)\n",
      "Requirement already satisfied: widgetsnbextension~=4.0 in /Users/zigen/Library/Caches/pypoetry/virtualenvs/quisp-widget-oWZk5Svb-py3.10/lib/python3.10/site-packages (from ipywidgets>=7.0.0->quisp-widget) (4.0.5)\n",
      "Requirement already satisfied: ipykernel>=4.5.1 in /Users/zigen/Library/Caches/pypoetry/virtualenvs/quisp-widget-oWZk5Svb-py3.10/lib/python3.10/site-packages (from ipywidgets>=7.0.0->quisp-widget) (6.19.4)\n",
      "Requirement already satisfied: traitlets>=4.3.1 in /Users/zigen/Library/Caches/pypoetry/virtualenvs/quisp-widget-oWZk5Svb-py3.10/lib/python3.10/site-packages (from ipywidgets>=7.0.0->quisp-widget) (5.8.0)\n",
      "Requirement already satisfied: ipython>=6.1.0 in /Users/zigen/Library/Caches/pypoetry/virtualenvs/quisp-widget-oWZk5Svb-py3.10/lib/python3.10/site-packages (from ipywidgets>=7.0.0->quisp-widget) (8.7.0)\n",
      "Requirement already satisfied: matplotlib-inline>=0.1 in /Users/zigen/Library/Caches/pypoetry/virtualenvs/quisp-widget-oWZk5Svb-py3.10/lib/python3.10/site-packages (from ipykernel>=4.5.1->ipywidgets>=7.0.0->quisp-widget) (0.1.6)\n",
      "Requirement already satisfied: jupyter-client>=6.1.12 in /Users/zigen/Library/Caches/pypoetry/virtualenvs/quisp-widget-oWZk5Svb-py3.10/lib/python3.10/site-packages (from ipykernel>=4.5.1->ipywidgets>=7.0.0->quisp-widget) (7.4.8)\n",
      "Requirement already satisfied: debugpy>=1.0 in /Users/zigen/Library/Caches/pypoetry/virtualenvs/quisp-widget-oWZk5Svb-py3.10/lib/python3.10/site-packages (from ipykernel>=4.5.1->ipywidgets>=7.0.0->quisp-widget) (1.6.4)\n",
      "Requirement already satisfied: appnope in /Users/zigen/Library/Caches/pypoetry/virtualenvs/quisp-widget-oWZk5Svb-py3.10/lib/python3.10/site-packages (from ipykernel>=4.5.1->ipywidgets>=7.0.0->quisp-widget) (0.1.3)\n",
      "Requirement already satisfied: comm>=0.1.1 in /Users/zigen/Library/Caches/pypoetry/virtualenvs/quisp-widget-oWZk5Svb-py3.10/lib/python3.10/site-packages (from ipykernel>=4.5.1->ipywidgets>=7.0.0->quisp-widget) (0.1.2)\n",
      "Requirement already satisfied: tornado>=6.1 in /Users/zigen/Library/Caches/pypoetry/virtualenvs/quisp-widget-oWZk5Svb-py3.10/lib/python3.10/site-packages (from ipykernel>=4.5.1->ipywidgets>=7.0.0->quisp-widget) (6.2)\n",
      "Requirement already satisfied: packaging in /Users/zigen/Library/Caches/pypoetry/virtualenvs/quisp-widget-oWZk5Svb-py3.10/lib/python3.10/site-packages (from ipykernel>=4.5.1->ipywidgets>=7.0.0->quisp-widget) (22.0)\n",
      "Requirement already satisfied: psutil in /Users/zigen/Library/Caches/pypoetry/virtualenvs/quisp-widget-oWZk5Svb-py3.10/lib/python3.10/site-packages (from ipykernel>=4.5.1->ipywidgets>=7.0.0->quisp-widget) (5.9.4)\n",
      "Requirement already satisfied: pyzmq>=17 in /Users/zigen/Library/Caches/pypoetry/virtualenvs/quisp-widget-oWZk5Svb-py3.10/lib/python3.10/site-packages (from ipykernel>=4.5.1->ipywidgets>=7.0.0->quisp-widget) (24.0.1)\n",
      "Requirement already satisfied: nest-asyncio in /Users/zigen/Library/Caches/pypoetry/virtualenvs/quisp-widget-oWZk5Svb-py3.10/lib/python3.10/site-packages (from ipykernel>=4.5.1->ipywidgets>=7.0.0->quisp-widget) (1.5.6)\n",
      "Requirement already satisfied: pickleshare in /Users/zigen/Library/Caches/pypoetry/virtualenvs/quisp-widget-oWZk5Svb-py3.10/lib/python3.10/site-packages (from ipython>=6.1.0->ipywidgets>=7.0.0->quisp-widget) (0.7.5)\n",
      "Requirement already satisfied: pexpect>4.3 in /Users/zigen/Library/Caches/pypoetry/virtualenvs/quisp-widget-oWZk5Svb-py3.10/lib/python3.10/site-packages (from ipython>=6.1.0->ipywidgets>=7.0.0->quisp-widget) (4.8.0)\n",
      "Requirement already satisfied: jedi>=0.16 in /Users/zigen/Library/Caches/pypoetry/virtualenvs/quisp-widget-oWZk5Svb-py3.10/lib/python3.10/site-packages (from ipython>=6.1.0->ipywidgets>=7.0.0->quisp-widget) (0.18.2)\n",
      "Requirement already satisfied: pygments>=2.4.0 in /Users/zigen/Library/Caches/pypoetry/virtualenvs/quisp-widget-oWZk5Svb-py3.10/lib/python3.10/site-packages (from ipython>=6.1.0->ipywidgets>=7.0.0->quisp-widget) (2.13.0)\n",
      "Requirement already satisfied: prompt-toolkit<3.1.0,>=3.0.11 in /Users/zigen/Library/Caches/pypoetry/virtualenvs/quisp-widget-oWZk5Svb-py3.10/lib/python3.10/site-packages (from ipython>=6.1.0->ipywidgets>=7.0.0->quisp-widget) (3.0.36)\n",
      "Requirement already satisfied: decorator in /Users/zigen/Library/Caches/pypoetry/virtualenvs/quisp-widget-oWZk5Svb-py3.10/lib/python3.10/site-packages (from ipython>=6.1.0->ipywidgets>=7.0.0->quisp-widget) (5.1.1)\n",
      "Requirement already satisfied: stack-data in /Users/zigen/Library/Caches/pypoetry/virtualenvs/quisp-widget-oWZk5Svb-py3.10/lib/python3.10/site-packages (from ipython>=6.1.0->ipywidgets>=7.0.0->quisp-widget) (0.6.2)\n",
      "Requirement already satisfied: backcall in /Users/zigen/Library/Caches/pypoetry/virtualenvs/quisp-widget-oWZk5Svb-py3.10/lib/python3.10/site-packages (from ipython>=6.1.0->ipywidgets>=7.0.0->quisp-widget) (0.2.0)\n",
      "Requirement already satisfied: parso<0.9.0,>=0.8.0 in /Users/zigen/Library/Caches/pypoetry/virtualenvs/quisp-widget-oWZk5Svb-py3.10/lib/python3.10/site-packages (from jedi>=0.16->ipython>=6.1.0->ipywidgets>=7.0.0->quisp-widget) (0.8.3)\n",
      "Requirement already satisfied: python-dateutil>=2.8.2 in /Users/zigen/Library/Caches/pypoetry/virtualenvs/quisp-widget-oWZk5Svb-py3.10/lib/python3.10/site-packages (from jupyter-client>=6.1.12->ipykernel>=4.5.1->ipywidgets>=7.0.0->quisp-widget) (2.8.2)\n",
      "Requirement already satisfied: entrypoints in /Users/zigen/Library/Caches/pypoetry/virtualenvs/quisp-widget-oWZk5Svb-py3.10/lib/python3.10/site-packages (from jupyter-client>=6.1.12->ipykernel>=4.5.1->ipywidgets>=7.0.0->quisp-widget) (0.4)\n",
      "Requirement already satisfied: jupyter-core>=4.9.2 in /Users/zigen/Library/Caches/pypoetry/virtualenvs/quisp-widget-oWZk5Svb-py3.10/lib/python3.10/site-packages (from jupyter-client>=6.1.12->ipykernel>=4.5.1->ipywidgets>=7.0.0->quisp-widget) (5.1.1)\n",
      "Requirement already satisfied: ptyprocess>=0.5 in /Users/zigen/Library/Caches/pypoetry/virtualenvs/quisp-widget-oWZk5Svb-py3.10/lib/python3.10/site-packages (from pexpect>4.3->ipython>=6.1.0->ipywidgets>=7.0.0->quisp-widget) (0.7.0)\n",
      "Requirement already satisfied: wcwidth in /Users/zigen/Library/Caches/pypoetry/virtualenvs/quisp-widget-oWZk5Svb-py3.10/lib/python3.10/site-packages (from prompt-toolkit<3.1.0,>=3.0.11->ipython>=6.1.0->ipywidgets>=7.0.0->quisp-widget) (0.2.5)\n",
      "Requirement already satisfied: asttokens>=2.1.0 in /Users/zigen/Library/Caches/pypoetry/virtualenvs/quisp-widget-oWZk5Svb-py3.10/lib/python3.10/site-packages (from stack-data->ipython>=6.1.0->ipywidgets>=7.0.0->quisp-widget) (2.2.1)\n",
      "Requirement already satisfied: pure-eval in /Users/zigen/Library/Caches/pypoetry/virtualenvs/quisp-widget-oWZk5Svb-py3.10/lib/python3.10/site-packages (from stack-data->ipython>=6.1.0->ipywidgets>=7.0.0->quisp-widget) (0.2.2)\n",
      "Requirement already satisfied: executing>=1.2.0 in /Users/zigen/Library/Caches/pypoetry/virtualenvs/quisp-widget-oWZk5Svb-py3.10/lib/python3.10/site-packages (from stack-data->ipython>=6.1.0->ipywidgets>=7.0.0->quisp-widget) (1.2.0)\n",
      "Requirement already satisfied: six in /Users/zigen/Library/Caches/pypoetry/virtualenvs/quisp-widget-oWZk5Svb-py3.10/lib/python3.10/site-packages (from asttokens>=2.1.0->stack-data->ipython>=6.1.0->ipywidgets>=7.0.0->quisp-widget) (1.16.0)\n",
      "Requirement already satisfied: platformdirs>=2.5 in /Users/zigen/Library/Caches/pypoetry/virtualenvs/quisp-widget-oWZk5Svb-py3.10/lib/python3.10/site-packages (from jupyter-core>=4.9.2->jupyter-client>=6.1.12->ipykernel>=4.5.1->ipywidgets>=7.0.0->quisp-widget) (2.6.2)\n"
     ]
    }
   ],
   "source": [
    "!pip install -i https://test.pypi.org/simple/ quisp-widget"
   ]
  },
  {
   "cell_type": "code",
   "execution_count": 3,
   "metadata": {},
   "outputs": [
    {
     "data": {
      "application/vnd.jupyter.widget-view+json": {
       "model_id": "92fb3daed2af42c5afc99b8ae3e5c364",
       "version_major": 2,
       "version_minor": 0
      },
      "text/plain": [
       "QuispWidget(layout=Layout(width='100%'))"
      ]
     },
     "execution_count": 3,
     "metadata": {},
     "output_type": "execute_result"
    }
   ],
   "source": [
    "from quisp_widget import QuispWidget, QNode, Network\n",
    "sim = QuispWidget()\n",
    "sim"
   ]
  }
 ],
 "metadata": {
  "kernelspec": {
   "display_name": "quisp-widget-oWZk5Svb-py3.10",
   "language": "python",
   "name": "python3"
  },
  "language_info": {
   "codemirror_mode": {
    "name": "ipython",
    "version": 3
   },
   "file_extension": ".py",
   "mimetype": "text/x-python",
   "name": "python",
   "nbconvert_exporter": "python",
   "pygments_lexer": "ipython3",
   "version": "3.10.9"
  },
  "orig_nbformat": 4,
  "vscode": {
   "interpreter": {
    "hash": "1299d8cc001d0b451e1bdd71d5fff11080a556321d5971aae175c25dc5443763"
   }
  }
 },
 "nbformat": 4,
 "nbformat_minor": 2
}
