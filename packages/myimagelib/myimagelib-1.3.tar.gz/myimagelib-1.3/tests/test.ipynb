{
 "cells": [
  {
   "cell_type": "markdown",
   "id": "dc2f5f7e-c94d-468e-9a4d-8f3a4c0126b9",
   "metadata": {},
   "source": [
    "# Test\n",
    "\n",
    "This notebook tests the functions and classes in myimagelib."
   ]
  },
  {
   "cell_type": "code",
   "execution_count": 1,
   "id": "5b560d98-6845-4a52-abef-70b0c41e1a80",
   "metadata": {},
   "outputs": [],
   "source": [
    "from myimagelib.myImageLib import readdata"
   ]
  },
  {
   "cell_type": "code",
   "execution_count": 3,
   "id": "fe27fa90-71ae-4c12-ae65-d4f5005a16d6",
   "metadata": {},
   "outputs": [
    {
     "name": "stdout",
     "output_type": "stream",
     "text": [
      "Help on function readdata in module myimagelib.myImageLib:\n",
      "\n",
      "readdata(folder, ext='csv', mode='i')\n",
      "    Wrapper of :py:func:`dirrec`, but easier to use when reading one type of files in a given folder. Instead of returning a list of directories as :py:func:`dirrec` does, :py:func:`readdata` puts the file names and corresponding full directories in a :code:`pandas.DataFrame`. The table will be sorted by the file names (strings), so the order would likely be correct. In the worst case, it is still easier to resort the :code:`pandas.DataFrame`, compared to the list of strings returned by :py:func:`dirrec`.\n",
      "    \n",
      "    :param folder: the folder to read files from\n",
      "    :type folder: str\n",
      "    :param ext: optional param, default to \"csv\", specifies the extension of files to be read\n",
      "    :type ext: str\n",
      "    :param mode: \"i\" for immediate, \"r\" for recursive. Default to \"i\"\n",
      "    :type mode: str\n",
      "    :return: a 2-column table containing file names and the corresponding full directories\n",
      "    :rtype: pandas.DataFrame\n",
      "    \n",
      "    .. rubric:: EDIT\n",
      "    \n",
      "    :11152022: Add mode optional argument, to specify whether to read data only in the immediate folder, or read recursively.\n",
      "\n"
     ]
    }
   ],
   "source": [
    "help(readdata)"
   ]
  }
 ],
 "metadata": {
  "kernelspec": {
   "display_name": "Python 3 (ipykernel)",
   "language": "python",
   "name": "python3"
  },
  "language_info": {
   "codemirror_mode": {
    "name": "ipython",
    "version": 3
   },
   "file_extension": ".py",
   "mimetype": "text/x-python",
   "name": "python",
   "nbconvert_exporter": "python",
   "pygments_lexer": "ipython3",
   "version": "3.9.12"
  }
 },
 "nbformat": 4,
 "nbformat_minor": 5
}
