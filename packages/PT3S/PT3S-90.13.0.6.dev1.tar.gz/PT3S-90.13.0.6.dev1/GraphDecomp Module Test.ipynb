{
 "cells": [
  {
   "cell_type": "markdown",
   "id": "50e5bb2a-08b4-4a27-ba08-c64e26306936",
   "metadata": {},
   "source": [
    "# Imports"
   ]
  },
  {
   "cell_type": "code",
   "execution_count": 1,
   "id": "fecafbef-71a1-4809-bf56-b57b2e1be0d3",
   "metadata": {},
   "outputs": [],
   "source": [
    "import GraphDecomp"
   ]
  },
  {
   "cell_type": "code",
   "execution_count": 2,
   "id": "59125785-7b6d-48ab-a05b-590ed424081d",
   "metadata": {},
   "outputs": [
    {
     "name": "stdout",
     "output_type": "stream",
     "text": [
      "Help on function GraphDecomp in module GraphDecomp:\n",
      "\n",
      "GraphDecomp(logfile)\n",
      "    Liest die SIR3S Graphenzerlegungs-logfile in ein Dictionary ein\n",
      "\n"
     ]
    }
   ],
   "source": [
    "help(GraphDecomp.GraphDecomp)"
   ]
  },
  {
   "cell_type": "markdown",
   "id": "34ab2c9b-7059-4cbb-aa82-277acf12032c",
   "metadata": {},
   "source": [
    "# Paramter"
   ]
  },
  {
   "cell_type": "code",
   "execution_count": 3,
   "id": "8ca2b456-f85a-423d-bd22-ea07e06e3b07",
   "metadata": {},
   "outputs": [],
   "source": [
    "logfile = r'testdata\\WDDHNetwork\\B1\\V0\\BZ1\\GraphDecomp.log'"
   ]
  },
  {
   "cell_type": "markdown",
   "id": "060289f8-e24c-44e8-a50a-879ca71eb6a9",
   "metadata": {},
   "source": [
    "# Graphenzerlegung einlesen"
   ]
  },
  {
   "cell_type": "code",
   "execution_count": 4,
   "id": "53c3b431-e2fe-4cd7-8ad9-e7c9647bd609",
   "metadata": {},
   "outputs": [
    {
     "data": {
      "text/plain": [
       "{'NODES':                      IDREFERENZ           NAME       GRAPHPOS       TREE  \\\n",
       " 0                            -1         V-1582          Block         -1   \n",
       " 1                            -1         V-3207          Block         -1   \n",
       " 2                            -1         V-1502          Block         -1   \n",
       " 3                            -1         V-2605          Block         -1   \n",
       " 4                            -1         V-3410          Block         -1   \n",
       " ...                         ...            ...            ...        ...   \n",
       " 1457                         -1         V-1560          Block         -1   \n",
       " 1458                         -1         V-1621          Block         -1   \n",
       " 1459                         -1         V-1545          Block         -1   \n",
       " 1460                         -1         R-1354          Block         -1   \n",
       " 1461                         -1         V-1315          Block         -1   \n",
       " \n",
       "           BLOCK     BRIDGE    SIGNATURE       CODE             SIR 3S TK  \\\n",
       " 0             0         -1       010010         18   5366637331296524784   \n",
       " 1             0         -1       010010         18   4764179657020672802   \n",
       " 2             0         -1       010010         18   5515860554883531706   \n",
       " 3             0         -1       010010         18   4693377173321325966   \n",
       " 4             0         -1       010010         18   4919374328104761745   \n",
       " ...         ...        ...          ...        ...                   ...   \n",
       " 1457          0         -1       010010         18   5678922239932644953   \n",
       " 1458          0         -1       010010         18   4803932323947673795   \n",
       " 1459          0         -1       010010         18   5306950231954659637   \n",
       " 1460          0         -1       010010         18   5024831552147654708   \n",
       " 1461          0         -1       010010         18   5190830492042413413   \n",
       " \n",
       "      SUPERNODE  \n",
       " 0           Ja  \n",
       " 1           Ja  \n",
       " 2           Ja  \n",
       " 3           Ja  \n",
       " 4           Ja  \n",
       " ...        ...  \n",
       " 1457        Ja  \n",
       " 1458        Ja  \n",
       " 1459        Ja  \n",
       " 1460        Ja  \n",
       " 1461        Ja  \n",
       " \n",
       " [1462 rows x 10 columns],\n",
       " 'LINKS':                      IDREFERENZ                       NAME       GRAPHPOS  \\\n",
       " 0                            -1              V-1632~V-1633          Block   \n",
       " 1                            -1              V-1803~V-1804          Block   \n",
       " 2                            -1              R-1901~R-1920          Block   \n",
       " 3                            -1              V-1340~V-1341          Block   \n",
       " 4                           1,1              V-1610~R-1610          Block   \n",
       " ...                         ...                        ...            ...   \n",
       " 3205                         -1              V-1614~V-1671          Block   \n",
       " 3206                        1,1              V-1375~R-1375          Block   \n",
       " 3207                        1,1              V-2311~R-2311          Block   \n",
       " 3208                         -1              V-1164~V-1168          Block   \n",
       " 3209                         -1              V-1153~V-1157          Block   \n",
       " \n",
       "            TREE      BLOCK     BRIDGE  SUPERLINK            SIR 3S TK  \n",
       " 0            -1          0         -1       1955  4839074590848573933  \n",
       " 1            -1          0         -1       1761  5159318824479351644  \n",
       " 2            -1          0         -1        383  4741168372760323569  \n",
       " 3            -1          0         -1       2971  5063376729303173547  \n",
       " 4            -1          0         -1       1249  5108876811016931654  \n",
       " ...         ...        ...        ...        ...                  ...  \n",
       " 3205         -1          0         -1       1205  5025108431029079554  \n",
       " 3206         -1          0         -1       2245  5306008060996677726  \n",
       " 3207         -1          0         -1       2964  4813917720065572990  \n",
       " 3208         -1          0         -1        121  4795480653370652926  \n",
       " 3209         -1          0         -1        747  4941335125072048604  \n",
       " \n",
       " [3210 rows x 8 columns]}"
      ]
     },
     "execution_count": 4,
     "metadata": {},
     "output_type": "execute_result"
    }
   ],
   "source": [
    "GraphDecomp.GraphDecomp(logfile)"
   ]
  },
  {
   "cell_type": "code",
   "execution_count": null,
   "id": "61193cdd-672f-4e9a-8a87-d14f5ea2d8f2",
   "metadata": {},
   "outputs": [],
   "source": []
  }
 ],
 "metadata": {
  "kernelspec": {
   "display_name": "py310",
   "language": "python",
   "name": "py310"
  },
  "language_info": {
   "codemirror_mode": {
    "name": "ipython",
    "version": 3
   },
   "file_extension": ".py",
   "mimetype": "text/x-python",
   "name": "python",
   "nbconvert_exporter": "python",
   "pygments_lexer": "ipython3",
   "version": "3.10.0"
  }
 },
 "nbformat": 4,
 "nbformat_minor": 5
}
