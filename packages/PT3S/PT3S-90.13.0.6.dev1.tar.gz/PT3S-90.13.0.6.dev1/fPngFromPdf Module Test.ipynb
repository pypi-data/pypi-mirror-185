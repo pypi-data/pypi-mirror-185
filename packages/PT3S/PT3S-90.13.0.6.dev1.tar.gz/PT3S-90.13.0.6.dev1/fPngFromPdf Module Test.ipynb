{
 "cells": [
  {
   "cell_type": "markdown",
   "id": "181cb333-9aca-4dc3-ad96-51aa89c30123",
   "metadata": {},
   "source": [
    "# Imports"
   ]
  },
  {
   "cell_type": "code",
   "execution_count": 1,
   "id": "1e02bba4-9d7a-41df-ba5c-4d0fe366001a",
   "metadata": {},
   "outputs": [],
   "source": [
    "import fPngFromPdf"
   ]
  },
  {
   "cell_type": "code",
   "execution_count": 2,
   "id": "982faa30-8a30-43a2-a0e8-9f26b7e27e86",
   "metadata": {},
   "outputs": [
    {
     "name": "stdout",
     "output_type": "stream",
     "text": [
      "Help on function fPngFromPdf in module fPngFromPdf:\n",
      "\n",
      "fPngFromPdf(file, crop='ZK')\n",
      "    generates PNG-Files for every Page in PDF-File\n",
      "    \n",
      "    cropping options:\n",
      "    \n",
      "        * ZK\n",
      "        * NDD\n",
      "        * Station\n",
      "        * NFD\n",
      "        * None\n",
      "        * (left, top, right, bottom)\n",
      "\n"
     ]
    }
   ],
   "source": [
    "help(fPngFromPdf.fPngFromPdf)"
   ]
  },
  {
   "cell_type": "markdown",
   "id": "8efcacae-940f-4bfd-ae09-49184b105aa4",
   "metadata": {},
   "source": [
    "# Parameter"
   ]
  },
  {
   "cell_type": "code",
   "execution_count": 3,
   "id": "a6b5b964-29e3-4584-88f7-c67e0d5cd684",
   "metadata": {},
   "outputs": [],
   "source": [
    "file = r'testdata\\DHNetwork-ZK.pdf'"
   ]
  },
  {
   "cell_type": "markdown",
   "id": "48524e9b-b591-4e9f-a201-56c380179213",
   "metadata": {},
   "source": [
    "# Bilder aus Pdf extrahieren"
   ]
  },
  {
   "cell_type": "code",
   "execution_count": 4,
   "id": "aa0da9eb-077a-429f-ba08-6c56df774c59",
   "metadata": {},
   "outputs": [],
   "source": [
    "fPngFromPdf.fPngFromPdf(\n",
    "    file # Pdf-Datei\n",
    "   ,crop='ZK' # Wie soll das Bild nach der Extraktion aus der Pdf-Datei zugeschnitten werden (Optionen: 'ZK', 'NDD', 'Station', 'NFD' or None or (left,top,right,bottom))\n",
    "    )"
   ]
  },
  {
   "cell_type": "code",
   "execution_count": null,
   "id": "4041f132-bb6f-426d-8ece-68cf81cfd879",
   "metadata": {},
   "outputs": [],
   "source": []
  }
 ],
 "metadata": {
  "kernelspec": {
   "display_name": "py310",
   "language": "python",
   "name": "py310"
  },
  "language_info": {
   "codemirror_mode": {
    "name": "ipython",
    "version": 3
   },
   "file_extension": ".py",
   "mimetype": "text/x-python",
   "name": "python",
   "nbconvert_exporter": "python",
   "pygments_lexer": "ipython3",
   "version": "3.10.0"
  }
 },
 "nbformat": 4,
 "nbformat_minor": 5
}
