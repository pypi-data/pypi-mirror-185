{
 "cells": [
  {
   "cell_type": "code",
   "execution_count": null,
   "metadata": {},
   "outputs": [],
   "source": [
    "!pip install fabler"
   ]
  },
  {
   "cell_type": "code",
   "execution_count": 5,
   "metadata": {},
   "outputs": [],
   "source": [
    "from pathlib import Path\n",
    "from fabler import FablerConfig\n",
    "\n",
    "num_images = 1\n",
    "\n",
    "config = FablerConfig(\n",
    "  output_dir = str(Path().cwd() / \"out\"),\n",
    "  nsfw_check = False,\n",
    "  seed = 42,\n",
    "  num_images = num_images,\n",
    "\n",
    "  writer = \"gpt2\",\n",
    "  writer_device = \"cuda:0\",\n",
    "  max_new_tokens = 50,\n",
    "  writer_prompt_prefix = f\"Acting as a story teller. Tell a fascinating, {num_images} sentence story from begining to end about the following:\\n\",\n",
    "  writer_prompt = \"Once upon a time, unicorns roamed the Earth.\",\n",
    "\n",
    "  painter = \"prompthero/openjourney\",\n",
    "  painter_device = \"gpu:0\",\n",
    "  image_size = 512,\n",
    "  painter_prompt_prefix = \"beautiful painting\",\n",
    "  painter_prompt_postfix = \"\\n\\n\",\n",
    ")\n"
   ]
  },
  {
   "cell_type": "code",
   "execution_count": null,
   "metadata": {},
   "outputs": [],
   "source": [
    "from fabler import Fabler\n",
    "\n",
    "story_teller = Fabler(config)\n"
   ]
  },
  {
   "cell_type": "code",
   "execution_count": null,
   "metadata": {},
   "outputs": [],
   "source": [
    "story_teller.generate(\n",
    "  config[\"writer_prompt\"],\n",
    "  config[\"num_images\"]\n",
    ")"
   ]
  }
 ],
 "metadata": {
  "kernelspec": {
   "display_name": "Python 3",
   "language": "python",
   "name": "python3"
  },
  "language_info": {
   "codemirror_mode": {
    "name": "ipython",
    "version": 3
   },
   "file_extension": ".py",
   "mimetype": "text/x-python",
   "name": "python",
   "nbconvert_exporter": "python",
   "pygments_lexer": "ipython3",
   "version": "3.10.6"
  },
  "orig_nbformat": 4,
  "vscode": {
   "interpreter": {
    "hash": "9337a79df3e5d869f0c5777e0d2b1209a728c6a52c1d44e22a85de3e5a3843fd"
   }
  }
 },
 "nbformat": 4,
 "nbformat_minor": 2
}
