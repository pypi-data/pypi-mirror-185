{
 "cells": [
  {
   "cell_type": "markdown",
   "metadata": {},
   "source": [
    "# Tutorial"
   ]
  },
  {
   "cell_type": "markdown",
   "metadata": {},
   "source": [
    "## Introduction"
   ]
  },
  {
   "cell_type": "markdown",
   "metadata": {},
   "source": [
    "This notebook will provide a step-by-step tutorial for using the [caterpillard](https://pypi.org/project/caterpillard/) package to create Caterpillar Diagram as proposed in the [research article](https://doi.org/10.1177/20597991221144577).\n",
    "\n",
    "Caterpillar Diagram is a visualization technique, used for analyzing a univariate time-series data. It consists of a series of colored circles with varying radius. The color of the circle represents the direction of change in the time-series data and the size of the circle shows the amount of variation in it.\n",
    "\n",
    "It implements the innovative and intuitive **_Difference of Differences (DoD)_** approach to create a color schema. As proposed, it segregates the time-series data under analysis into cohort of three consecutive time units and further utilizes the unsigned diferences between observations to assign a size to each cohort.This novel visualization technique can segregate the time-series data using seven colors or five stages of **_Aggressive, Ascent, Descent, Controlled and Status Quo_**. \n",
    "\n",
    "Further, the proposed mechanism utilizes the accumulated color information regarding each cohort to provide a forecast for next step transition using stationary matrix of Markov Chains."
   ]
  },
  {
   "cell_type": "code",
   "execution_count": 1,
   "metadata": {},
   "outputs": [],
   "source": [
    "import numpy as np\n",
    "import pandas as pd\n",
    "\n",
    "from caterpillard import CaterpillarDiagram"
   ]
  },
  {
   "cell_type": "markdown",
   "metadata": {},
   "source": [
    "## Relative Analysis\n",
    "\n",
    "The Caterpillar Diagram can analyze a collection of time-series dataset together and produce a visualization for the user-defined data series out of them. This kind of analysis is termed here as relative analysis.\n",
    "\n",
    "An example dataset is provided with the package which can be imported using `from caterpillard import load_dataframe`"
   ]
  },
  {
   "cell_type": "code",
   "execution_count": 2,
   "metadata": {},
   "outputs": [],
   "source": [
    "from caterpillard import load_dataframe"
   ]
  },
  {
   "cell_type": "markdown",
   "metadata": {},
   "source": [
    "### DataFrame info\n",
    "\n",
    "As shown in the output of `info` command above, the dataframe is a wide form dataset where each column stores the repeated response of each item (row) over the years. The package requires the dataframe in this format to create the diagram. This dataframe has 205 distinct entities in the index which will serve as an identification information for selecting the collection of time-series to work with. There are 49 columns in the dataset each reporting a numeric observation. "
   ]
  },
  {
   "cell_type": "code",
   "execution_count": 3,
   "metadata": {
    "scrolled": true
   },
   "outputs": [
    {
     "name": "stdout",
     "output_type": "stream",
     "text": [
      "<class 'pandas.core.frame.DataFrame'>\n",
      "Int64Index: 205 entries, 4 to 499\n",
      "Data columns (total 49 columns):\n",
      " #   Column  Non-Null Count  Dtype\n",
      "---  ------  --------------  -----\n",
      " 0   1970    205 non-null    int64\n",
      " 1   1971    205 non-null    int64\n",
      " 2   1972    205 non-null    int64\n",
      " 3   1973    205 non-null    int64\n",
      " 4   1974    205 non-null    int64\n",
      " 5   1975    205 non-null    int64\n",
      " 6   1976    205 non-null    int64\n",
      " 7   1977    205 non-null    int64\n",
      " 8   1978    205 non-null    int64\n",
      " 9   1979    205 non-null    int64\n",
      " 10  1980    205 non-null    int64\n",
      " 11  1981    205 non-null    int64\n",
      " 12  1982    205 non-null    int64\n",
      " 13  1983    205 non-null    int64\n",
      " 14  1984    205 non-null    int64\n",
      " 15  1985    205 non-null    int64\n",
      " 16  1986    205 non-null    int64\n",
      " 17  1987    205 non-null    int64\n",
      " 18  1988    205 non-null    int64\n",
      " 19  1989    205 non-null    int64\n",
      " 20  1990    205 non-null    int64\n",
      " 21  1991    205 non-null    int64\n",
      " 22  1992    205 non-null    int64\n",
      " 23  1994    205 non-null    int64\n",
      " 24  1995    205 non-null    int64\n",
      " 25  1996    205 non-null    int64\n",
      " 26  1997    205 non-null    int64\n",
      " 27  1998    205 non-null    int64\n",
      " 28  1999    205 non-null    int64\n",
      " 29  2000    205 non-null    int64\n",
      " 30  2001    205 non-null    int64\n",
      " 31  2002    205 non-null    int64\n",
      " 32  2003    205 non-null    int64\n",
      " 33  2004    205 non-null    int64\n",
      " 34  2005    205 non-null    int64\n",
      " 35  2006    205 non-null    int64\n",
      " 36  2007    205 non-null    int64\n",
      " 37  2008    205 non-null    int64\n",
      " 38  2009    205 non-null    int64\n",
      " 39  2010    205 non-null    int64\n",
      " 40  2011    205 non-null    int64\n",
      " 41  2012    205 non-null    int64\n",
      " 42  2013    205 non-null    int64\n",
      " 43  2014    205 non-null    int64\n",
      " 44  2015    205 non-null    int64\n",
      " 45  2016    205 non-null    int64\n",
      " 46  2017    205 non-null    int64\n",
      " 47  2018    205 non-null    int64\n",
      " 48  2019    205 non-null    int64\n",
      "dtypes: int64(49)\n",
      "memory usage: 80.1 KB\n",
      "None\n"
     ]
    }
   ],
   "source": [
    "df = load_dataframe()\n",
    "print(df.info())"
   ]
  },
  {
   "cell_type": "markdown",
   "metadata": {},
   "source": [
    "### Step 1 - Initialization\n",
    "\n",
    "The generation of caterpillar diagram requires a series of steps. The first step is to initialize the `CaterpillarDiagram` class with the required parameters, `data`, `relative` and the optional `output_path`.\n",
    "\n",
    "Select the sub-collection of data series from the dataframe as the input for the `data` parameter and assign `True` to `relative` parameter because we are performing the relative analysis.\n",
    "\n",
    "Here, we select indexes (4, 19, 25, 92, 122, 129, 141, 153, 186) from the dataframe for relative analysis."
   ]
  },
  {
   "cell_type": "code",
   "execution_count": 4,
   "metadata": {
    "scrolled": true
   },
   "outputs": [
    {
     "name": "stdout",
     "output_type": "stream",
     "text": [
      "<class 'pandas.core.frame.DataFrame'>\n",
      "Int64Index: 9 entries, 4 to 186\n",
      "Data columns (total 49 columns):\n",
      " #   Column  Non-Null Count  Dtype\n",
      "---  ------  --------------  -----\n",
      " 0   1970    9 non-null      int64\n",
      " 1   1971    9 non-null      int64\n",
      " 2   1972    9 non-null      int64\n",
      " 3   1973    9 non-null      int64\n",
      " 4   1974    9 non-null      int64\n",
      " 5   1975    9 non-null      int64\n",
      " 6   1976    9 non-null      int64\n",
      " 7   1977    9 non-null      int64\n",
      " 8   1978    9 non-null      int64\n",
      " 9   1979    9 non-null      int64\n",
      " 10  1980    9 non-null      int64\n",
      " 11  1981    9 non-null      int64\n",
      " 12  1982    9 non-null      int64\n",
      " 13  1983    9 non-null      int64\n",
      " 14  1984    9 non-null      int64\n",
      " 15  1985    9 non-null      int64\n",
      " 16  1986    9 non-null      int64\n",
      " 17  1987    9 non-null      int64\n",
      " 18  1988    9 non-null      int64\n",
      " 19  1989    9 non-null      int64\n",
      " 20  1990    9 non-null      int64\n",
      " 21  1991    9 non-null      int64\n",
      " 22  1992    9 non-null      int64\n",
      " 23  1994    9 non-null      int64\n",
      " 24  1995    9 non-null      int64\n",
      " 25  1996    9 non-null      int64\n",
      " 26  1997    9 non-null      int64\n",
      " 27  1998    9 non-null      int64\n",
      " 28  1999    9 non-null      int64\n",
      " 29  2000    9 non-null      int64\n",
      " 30  2001    9 non-null      int64\n",
      " 31  2002    9 non-null      int64\n",
      " 32  2003    9 non-null      int64\n",
      " 33  2004    9 non-null      int64\n",
      " 34  2005    9 non-null      int64\n",
      " 35  2006    9 non-null      int64\n",
      " 36  2007    9 non-null      int64\n",
      " 37  2008    9 non-null      int64\n",
      " 38  2009    9 non-null      int64\n",
      " 39  2010    9 non-null      int64\n",
      " 40  2011    9 non-null      int64\n",
      " 41  2012    9 non-null      int64\n",
      " 42  2013    9 non-null      int64\n",
      " 43  2014    9 non-null      int64\n",
      " 44  2015    9 non-null      int64\n",
      " 45  2016    9 non-null      int64\n",
      " 46  2017    9 non-null      int64\n",
      " 47  2018    9 non-null      int64\n",
      " 48  2019    9 non-null      int64\n",
      "dtypes: int64(49)\n",
      "memory usage: 3.5 KB\n",
      "None\n"
     ]
    }
   ],
   "source": [
    "df_subset = df[df.index.isin([4, 19, 25, 92, 122, 129, 141, 153, 186])]\n",
    "print(df_subset.info())"
   ]
  },
  {
   "cell_type": "code",
   "execution_count": 5,
   "metadata": {},
   "outputs": [],
   "source": [
    "cd = CaterpillarDiagram(data=df_subset, relative=True, output_path=\"/tmp/tut_output/\")"
   ]
  },
  {
   "cell_type": "markdown",
   "metadata": {},
   "source": [
    "### Step 2 - Data Summary\n",
    "Use the `data_summary` method available in the class object to get info regarding the input data for analysis"
   ]
  },
  {
   "cell_type": "code",
   "execution_count": 6,
   "metadata": {
    "scrolled": true
   },
   "outputs": [
    {
     "name": "stdout",
     "output_type": "stream",
     "text": [
      "Summarizing Data\n",
      "<class 'pandas.core.frame.DataFrame'>\n",
      "Int64Index: 9 entries, 4 to 186\n",
      "Data columns (total 49 columns):\n",
      " #   Column  Non-Null Count  Dtype\n",
      "---  ------  --------------  -----\n",
      " 0   1970    9 non-null      int64\n",
      " 1   1971    9 non-null      int64\n",
      " 2   1972    9 non-null      int64\n",
      " 3   1973    9 non-null      int64\n",
      " 4   1974    9 non-null      int64\n",
      " 5   1975    9 non-null      int64\n",
      " 6   1976    9 non-null      int64\n",
      " 7   1977    9 non-null      int64\n",
      " 8   1978    9 non-null      int64\n",
      " 9   1979    9 non-null      int64\n",
      " 10  1980    9 non-null      int64\n",
      " 11  1981    9 non-null      int64\n",
      " 12  1982    9 non-null      int64\n",
      " 13  1983    9 non-null      int64\n",
      " 14  1984    9 non-null      int64\n",
      " 15  1985    9 non-null      int64\n",
      " 16  1986    9 non-null      int64\n",
      " 17  1987    9 non-null      int64\n",
      " 18  1988    9 non-null      int64\n",
      " 19  1989    9 non-null      int64\n",
      " 20  1990    9 non-null      int64\n",
      " 21  1991    9 non-null      int64\n",
      " 22  1992    9 non-null      int64\n",
      " 23  1994    9 non-null      int64\n",
      " 24  1995    9 non-null      int64\n",
      " 25  1996    9 non-null      int64\n",
      " 26  1997    9 non-null      int64\n",
      " 27  1998    9 non-null      int64\n",
      " 28  1999    9 non-null      int64\n",
      " 29  2000    9 non-null      int64\n",
      " 30  2001    9 non-null      int64\n",
      " 31  2002    9 non-null      int64\n",
      " 32  2003    9 non-null      int64\n",
      " 33  2004    9 non-null      int64\n",
      " 34  2005    9 non-null      int64\n",
      " 35  2006    9 non-null      int64\n",
      " 36  2007    9 non-null      int64\n",
      " 37  2008    9 non-null      int64\n",
      " 38  2009    9 non-null      int64\n",
      " 39  2010    9 non-null      int64\n",
      " 40  2011    9 non-null      int64\n",
      " 41  2012    9 non-null      int64\n",
      " 42  2013    9 non-null      int64\n",
      " 43  2014    9 non-null      int64\n",
      " 44  2015    9 non-null      int64\n",
      " 45  2016    9 non-null      int64\n",
      " 46  2017    9 non-null      int64\n",
      " 47  2018    9 non-null      int64\n",
      " 48  2019    9 non-null      int64\n",
      "dtypes: int64(49)\n",
      "memory usage: 3.5 KB\n"
     ]
    }
   ],
   "source": [
    "cd.data_summary()"
   ]
  },
  {
   "cell_type": "markdown",
   "metadata": {},
   "source": [
    "### Step 3 - Generate Color Schema"
   ]
  },
  {
   "cell_type": "code",
   "execution_count": 7,
   "metadata": {},
   "outputs": [
    {
     "name": "stdout",
     "output_type": "stream",
     "text": [
      "<class 'pandas.core.frame.DataFrame'>\n",
      "Int64Index: 423 entries, 0 to 46\n",
      "Data columns (total 8 columns):\n",
      " #   Column      Non-Null Count  Dtype \n",
      "---  ------      --------------  ----- \n",
      " 0   d11         423 non-null    int64 \n",
      " 1   d12         423 non-null    int64 \n",
      " 2   d2          423 non-null    int64 \n",
      " 3   data_index  423 non-null    int64 \n",
      " 4   Cohort      423 non-null    object\n",
      " 5   color       423 non-null    object\n",
      " 6   level       423 non-null    object\n",
      " 7   n_color     423 non-null    int64 \n",
      "dtypes: int64(5), object(3)\n",
      "memory usage: 29.7+ KB\n"
     ]
    }
   ],
   "source": [
    "cd.color_schema()"
   ]
  },
  {
   "cell_type": "markdown",
   "metadata": {},
   "source": [
    "The `color_schema` method has implemented the DoD approach and created a dataframe `complete_cohort_df` which is available as the instance attribute to the class object `cd` as shown below.\n",
    "\n",
    "The column $d_{11}$, $d_{12}$ are the first differences and $d_2$ is the second difference, respectively. The `data_index` column shows the index of the subset of dataframe that we selected earlier.\n",
    "\n",
    "The `Cohort` column marks the cohort number for which the row of this dataframe (`complet_cohort_df`) is storing the information. The columns `color`, `level` and `n_color` stores the color and level information for the particular cohort as assigned by the DoD approach."
   ]
  },
  {
   "cell_type": "code",
   "execution_count": 8,
   "metadata": {},
   "outputs": [
    {
     "data": {
      "text/html": [
       "<div>\n",
       "<style scoped>\n",
       "    .dataframe tbody tr th:only-of-type {\n",
       "        vertical-align: middle;\n",
       "    }\n",
       "\n",
       "    .dataframe tbody tr th {\n",
       "        vertical-align: top;\n",
       "    }\n",
       "\n",
       "    .dataframe thead th {\n",
       "        text-align: right;\n",
       "    }\n",
       "</style>\n",
       "<table border=\"1\" class=\"dataframe\">\n",
       "  <thead>\n",
       "    <tr style=\"text-align: right;\">\n",
       "      <th></th>\n",
       "      <th>d11</th>\n",
       "      <th>d12</th>\n",
       "      <th>d2</th>\n",
       "      <th>data_index</th>\n",
       "      <th>Cohort</th>\n",
       "      <th>color</th>\n",
       "      <th>level</th>\n",
       "      <th>n_color</th>\n",
       "    </tr>\n",
       "  </thead>\n",
       "  <tbody>\n",
       "    <tr>\n",
       "      <th>0</th>\n",
       "      <td>0</td>\n",
       "      <td>0</td>\n",
       "      <td>0</td>\n",
       "      <td>4</td>\n",
       "      <td>Cohort1</td>\n",
       "      <td>grey</td>\n",
       "      <td>level7</td>\n",
       "      <td>7</td>\n",
       "    </tr>\n",
       "    <tr>\n",
       "      <th>1</th>\n",
       "      <td>0</td>\n",
       "      <td>2</td>\n",
       "      <td>2</td>\n",
       "      <td>4</td>\n",
       "      <td>Cohort2</td>\n",
       "      <td>red</td>\n",
       "      <td>level1</td>\n",
       "      <td>1</td>\n",
       "    </tr>\n",
       "    <tr>\n",
       "      <th>2</th>\n",
       "      <td>2</td>\n",
       "      <td>-2</td>\n",
       "      <td>-4</td>\n",
       "      <td>4</td>\n",
       "      <td>Cohort3</td>\n",
       "      <td>cyan</td>\n",
       "      <td>level4</td>\n",
       "      <td>4</td>\n",
       "    </tr>\n",
       "    <tr>\n",
       "      <th>3</th>\n",
       "      <td>-2</td>\n",
       "      <td>0</td>\n",
       "      <td>2</td>\n",
       "      <td>4</td>\n",
       "      <td>Cohort4</td>\n",
       "      <td>blue</td>\n",
       "      <td>level5</td>\n",
       "      <td>5</td>\n",
       "    </tr>\n",
       "    <tr>\n",
       "      <th>4</th>\n",
       "      <td>0</td>\n",
       "      <td>0</td>\n",
       "      <td>0</td>\n",
       "      <td>4</td>\n",
       "      <td>Cohort5</td>\n",
       "      <td>grey</td>\n",
       "      <td>level7</td>\n",
       "      <td>7</td>\n",
       "    </tr>\n",
       "  </tbody>\n",
       "</table>\n",
       "</div>"
      ],
      "text/plain": [
       "   d11  d12  d2  data_index   Cohort color   level  n_color\n",
       "0    0    0   0           4  Cohort1  grey  level7        7\n",
       "1    0    2   2           4  Cohort2   red  level1        1\n",
       "2    2   -2  -4           4  Cohort3  cyan  level4        4\n",
       "3   -2    0   2           4  Cohort4  blue  level5        5\n",
       "4    0    0   0           4  Cohort5  grey  level7        7"
      ]
     },
     "execution_count": 8,
     "metadata": {},
     "output_type": "execute_result"
    }
   ],
   "source": [
    "cd.complete_cohort_df.head()"
   ]
  },
  {
   "cell_type": "markdown",
   "metadata": {},
   "source": [
    "### Step 4 - Caterpillar Size\n",
    "\n",
    "The class object has a method named `caterpillar_size` which facilitates the assignment of size to each cohort. There are only four radii lengths that can be assigned to a cohort based on the dispersion in the unsigned differences of consecutive observations in the time series. Please refer the original article or source code for implementation details."
   ]
  },
  {
   "cell_type": "code",
   "execution_count": 9,
   "metadata": {},
   "outputs": [
    {
     "name": "stdout",
     "output_type": "stream",
     "text": [
      "Calculating sizes for each cohort\n"
     ]
    }
   ],
   "source": [
    "cd.caterpillar_size()"
   ]
  },
  {
   "cell_type": "markdown",
   "metadata": {},
   "source": [
    "The above method will update the instance attribute `complete_cohort_df` with size information for each cohort."
   ]
  },
  {
   "cell_type": "code",
   "execution_count": 10,
   "metadata": {},
   "outputs": [
    {
     "data": {
      "text/html": [
       "<div>\n",
       "<style scoped>\n",
       "    .dataframe tbody tr th:only-of-type {\n",
       "        vertical-align: middle;\n",
       "    }\n",
       "\n",
       "    .dataframe tbody tr th {\n",
       "        vertical-align: top;\n",
       "    }\n",
       "\n",
       "    .dataframe thead th {\n",
       "        text-align: right;\n",
       "    }\n",
       "</style>\n",
       "<table border=\"1\" class=\"dataframe\">\n",
       "  <thead>\n",
       "    <tr style=\"text-align: right;\">\n",
       "      <th></th>\n",
       "      <th>d11</th>\n",
       "      <th>d12</th>\n",
       "      <th>d2</th>\n",
       "      <th>data_index</th>\n",
       "      <th>Cohort</th>\n",
       "      <th>color</th>\n",
       "      <th>level</th>\n",
       "      <th>n_color</th>\n",
       "      <th>d11_radius</th>\n",
       "      <th>d12_radius</th>\n",
       "      <th>final_cohort_radius</th>\n",
       "    </tr>\n",
       "  </thead>\n",
       "  <tbody>\n",
       "    <tr>\n",
       "      <th>0</th>\n",
       "      <td>0</td>\n",
       "      <td>0</td>\n",
       "      <td>0</td>\n",
       "      <td>4</td>\n",
       "      <td>Cohort1</td>\n",
       "      <td>grey</td>\n",
       "      <td>level7</td>\n",
       "      <td>7</td>\n",
       "      <td>4</td>\n",
       "      <td>4</td>\n",
       "      <td>4.0</td>\n",
       "    </tr>\n",
       "    <tr>\n",
       "      <th>1</th>\n",
       "      <td>0</td>\n",
       "      <td>2</td>\n",
       "      <td>2</td>\n",
       "      <td>4</td>\n",
       "      <td>Cohort2</td>\n",
       "      <td>red</td>\n",
       "      <td>level1</td>\n",
       "      <td>1</td>\n",
       "      <td>4</td>\n",
       "      <td>4</td>\n",
       "      <td>4.0</td>\n",
       "    </tr>\n",
       "    <tr>\n",
       "      <th>2</th>\n",
       "      <td>2</td>\n",
       "      <td>-2</td>\n",
       "      <td>-4</td>\n",
       "      <td>4</td>\n",
       "      <td>Cohort3</td>\n",
       "      <td>cyan</td>\n",
       "      <td>level4</td>\n",
       "      <td>4</td>\n",
       "      <td>4</td>\n",
       "      <td>4</td>\n",
       "      <td>4.0</td>\n",
       "    </tr>\n",
       "    <tr>\n",
       "      <th>3</th>\n",
       "      <td>-2</td>\n",
       "      <td>0</td>\n",
       "      <td>2</td>\n",
       "      <td>4</td>\n",
       "      <td>Cohort4</td>\n",
       "      <td>blue</td>\n",
       "      <td>level5</td>\n",
       "      <td>5</td>\n",
       "      <td>4</td>\n",
       "      <td>4</td>\n",
       "      <td>4.0</td>\n",
       "    </tr>\n",
       "    <tr>\n",
       "      <th>4</th>\n",
       "      <td>0</td>\n",
       "      <td>0</td>\n",
       "      <td>0</td>\n",
       "      <td>4</td>\n",
       "      <td>Cohort5</td>\n",
       "      <td>grey</td>\n",
       "      <td>level7</td>\n",
       "      <td>7</td>\n",
       "      <td>4</td>\n",
       "      <td>4</td>\n",
       "      <td>4.0</td>\n",
       "    </tr>\n",
       "  </tbody>\n",
       "</table>\n",
       "</div>"
      ],
      "text/plain": [
       "   d11  d12  d2  data_index   Cohort color   level  n_color  d11_radius  \\\n",
       "0    0    0   0           4  Cohort1  grey  level7        7           4   \n",
       "1    0    2   2           4  Cohort2   red  level1        1           4   \n",
       "2    2   -2  -4           4  Cohort3  cyan  level4        4           4   \n",
       "3   -2    0   2           4  Cohort4  blue  level5        5           4   \n",
       "4    0    0   0           4  Cohort5  grey  level7        7           4   \n",
       "\n",
       "   d12_radius  final_cohort_radius  \n",
       "0           4                  4.0  \n",
       "1           4                  4.0  \n",
       "2           4                  4.0  \n",
       "3           4                  4.0  \n",
       "4           4                  4.0  "
      ]
     },
     "execution_count": 10,
     "metadata": {},
     "output_type": "execute_result"
    }
   ],
   "source": [
    "cd.complete_cohort_df.head()"
   ]
  },
  {
   "cell_type": "markdown",
   "metadata": {},
   "source": [
    "Since each cohort contains two first differences, $d_{11}$ and $d_{12}$, the package will assign the radius to each of them. The final radius of the cohort is the mean of these two radii stored in `final_cohort_radius`."
   ]
  },
  {
   "cell_type": "markdown",
   "metadata": {},
   "source": [
    "### Step 5 - Caterpillar Diagram Generation\n",
    "\n",
    "The class object provides the `generate` method to create and store the caterpillar diagram of the user-defined entity from the collection of time-series data which was provided as input."
   ]
  },
  {
   "cell_type": "code",
   "execution_count": 11,
   "metadata": {},
   "outputs": [
    {
     "data": {
      "image/png": "[encoded data removed]",
      "text/plain": [
       "<Figure size 1540x900 with 1 Axes>"
      ]
     },
     "metadata": {},
     "output_type": "display_data"
    }
   ],
   "source": [
    "# Caterpillar diagram for entity 92 based on relative analysis\n",
    "# Showing last 11 cohorts out of available 47 cohorts\n",
    "cd.generate(data_index=92, n_last_cohorts=11)"
   ]
  },
  {
   "cell_type": "code",
   "execution_count": 12,
   "metadata": {},
   "outputs": [
    {
     "data": {
      "image/png": "[encoded data removed]",
      "text/plain": [
       "<Figure size 980x900 with 1 Axes>"
      ]
     },
     "metadata": {},
     "output_type": "display_data"
    }
   ],
   "source": [
    "# Caterpillar diagram for entity 153 based on relative analysis\n",
    "# Showing last seven cohorts out of available 47 cohorts\n",
    "cd.generate(data_index=153, n_last_cohorts=7)"
   ]
  },
  {
   "cell_type": "markdown",
   "metadata": {},
   "source": [
    "### Step 6 - Color Schema Transitions\n",
    "\n",
    "The `schema_transitions` method will count the the occurence of transition from a particul color in a cohort to the another color in the next consecutive cohort and creates a transition matrix for applying Markov Chains. \n",
    "\n",
    "The relative analysis will utilize the color transitions of all the entities under anlaysis to forecast the next state transition."
   ]
  },
  {
   "cell_type": "code",
   "execution_count": 13,
   "metadata": {},
   "outputs": [
    {
     "name": "stdout",
     "output_type": "stream",
     "text": [
      "Finding transitions\n"
     ]
    }
   ],
   "source": [
    "cd.schema_transitions()"
   ]
  },
  {
   "cell_type": "code",
   "execution_count": 14,
   "metadata": {},
   "outputs": [
    {
     "data": {
      "text/html": [
       "<div>\n",
       "<style scoped>\n",
       "    .dataframe tbody tr th:only-of-type {\n",
       "        vertical-align: middle;\n",
       "    }\n",
       "\n",
       "    .dataframe tbody tr th {\n",
       "        vertical-align: top;\n",
       "    }\n",
       "\n",
       "    .dataframe thead th {\n",
       "        text-align: right;\n",
       "    }\n",
       "</style>\n",
       "<table border=\"1\" class=\"dataframe\">\n",
       "  <thead>\n",
       "    <tr style=\"text-align: right;\">\n",
       "      <th></th>\n",
       "      <th>red</th>\n",
       "      <th>orange</th>\n",
       "      <th>yellow</th>\n",
       "      <th>cyan</th>\n",
       "      <th>blue</th>\n",
       "      <th>green</th>\n",
       "      <th>grey</th>\n",
       "    </tr>\n",
       "  </thead>\n",
       "  <tbody>\n",
       "    <tr>\n",
       "      <th>red</th>\n",
       "      <td>13</td>\n",
       "      <td>13</td>\n",
       "      <td>0</td>\n",
       "      <td>36</td>\n",
       "      <td>0</td>\n",
       "      <td>0</td>\n",
       "      <td>0</td>\n",
       "    </tr>\n",
       "    <tr>\n",
       "      <th>orange</th>\n",
       "      <td>10</td>\n",
       "      <td>1</td>\n",
       "      <td>0</td>\n",
       "      <td>16</td>\n",
       "      <td>0</td>\n",
       "      <td>0</td>\n",
       "      <td>0</td>\n",
       "    </tr>\n",
       "    <tr>\n",
       "      <th>yellow</th>\n",
       "      <td>21</td>\n",
       "      <td>13</td>\n",
       "      <td>0</td>\n",
       "      <td>25</td>\n",
       "      <td>1</td>\n",
       "      <td>0</td>\n",
       "      <td>1</td>\n",
       "    </tr>\n",
       "    <tr>\n",
       "      <th>cyan</th>\n",
       "      <td>0</td>\n",
       "      <td>0</td>\n",
       "      <td>40</td>\n",
       "      <td>0</td>\n",
       "      <td>28</td>\n",
       "      <td>8</td>\n",
       "      <td>1</td>\n",
       "    </tr>\n",
       "    <tr>\n",
       "      <th>blue</th>\n",
       "      <td>3</td>\n",
       "      <td>0</td>\n",
       "      <td>16</td>\n",
       "      <td>0</td>\n",
       "      <td>5</td>\n",
       "      <td>3</td>\n",
       "      <td>11</td>\n",
       "    </tr>\n",
       "    <tr>\n",
       "      <th>green</th>\n",
       "      <td>0</td>\n",
       "      <td>0</td>\n",
       "      <td>6</td>\n",
       "      <td>0</td>\n",
       "      <td>4</td>\n",
       "      <td>1</td>\n",
       "      <td>1</td>\n",
       "    </tr>\n",
       "    <tr>\n",
       "      <th>grey</th>\n",
       "      <td>15</td>\n",
       "      <td>0</td>\n",
       "      <td>0</td>\n",
       "      <td>0</td>\n",
       "      <td>0</td>\n",
       "      <td>0</td>\n",
       "      <td>130</td>\n",
       "    </tr>\n",
       "  </tbody>\n",
       "</table>\n",
       "</div>"
      ],
      "text/plain": [
       "        red  orange  yellow  cyan  blue  green  grey\n",
       "red      13      13       0    36     0      0     0\n",
       "orange   10       1       0    16     0      0     0\n",
       "yellow   21      13       0    25     1      0     1\n",
       "cyan      0       0      40     0    28      8     1\n",
       "blue      3       0      16     0     5      3    11\n",
       "green     0       0       6     0     4      1     1\n",
       "grey     15       0       0     0     0      0   130"
      ]
     },
     "execution_count": 14,
     "metadata": {},
     "output_type": "execute_result"
    }
   ],
   "source": [
    "# Instance attribute transition_mat stores the matrix\n",
    "cd.transition_mat"
   ]
  },
  {
   "cell_type": "markdown",
   "metadata": {},
   "source": [
    "For example, the matrix above shows that the color red has transitioned 36 times to color cyan. \n",
    "\n",
    "The above matrix facilitates in creating the stationary matrix for the Markov chain."
   ]
  },
  {
   "cell_type": "markdown",
   "metadata": {},
   "source": [
    "### Step 7 - Stationary Matrix"
   ]
  },
  {
   "cell_type": "code",
   "execution_count": 15,
   "metadata": {},
   "outputs": [
    {
     "name": "stdout",
     "output_type": "stream",
     "text": [
      "Finding stationary matrix\n"
     ]
    },
    {
     "name": "stderr",
     "output_type": "stream",
     "text": [
      "100% (10000 of 10000) |##################| Elapsed Time: 0:00:13 Time:  0:00:13\n"
     ]
    },
    {
     "data": {
      "text/html": [
       "<div>\n",
       "<style scoped>\n",
       "    .dataframe tbody tr th:only-of-type {\n",
       "        vertical-align: middle;\n",
       "    }\n",
       "\n",
       "    .dataframe tbody tr th {\n",
       "        vertical-align: top;\n",
       "    }\n",
       "\n",
       "    .dataframe thead th {\n",
       "        text-align: right;\n",
       "    }\n",
       "</style>\n",
       "<table border=\"1\" class=\"dataframe\">\n",
       "  <thead>\n",
       "    <tr style=\"text-align: right;\">\n",
       "      <th></th>\n",
       "      <th>red</th>\n",
       "      <th>orange</th>\n",
       "      <th>yellow</th>\n",
       "      <th>cyan</th>\n",
       "      <th>blue</th>\n",
       "      <th>green</th>\n",
       "      <th>grey</th>\n",
       "    </tr>\n",
       "  </thead>\n",
       "  <tbody>\n",
       "    <tr>\n",
       "      <th>red</th>\n",
       "      <td>0.148306</td>\n",
       "      <td>0.065532</td>\n",
       "      <td>0.150192</td>\n",
       "      <td>0.186501</td>\n",
       "      <td>0.092087</td>\n",
       "      <td>0.029069</td>\n",
       "      <td>0.328313</td>\n",
       "    </tr>\n",
       "    <tr>\n",
       "      <th>orange</th>\n",
       "      <td>0.148306</td>\n",
       "      <td>0.065532</td>\n",
       "      <td>0.150192</td>\n",
       "      <td>0.186501</td>\n",
       "      <td>0.092087</td>\n",
       "      <td>0.029069</td>\n",
       "      <td>0.328313</td>\n",
       "    </tr>\n",
       "    <tr>\n",
       "      <th>yellow</th>\n",
       "      <td>0.148306</td>\n",
       "      <td>0.065532</td>\n",
       "      <td>0.150192</td>\n",
       "      <td>0.186501</td>\n",
       "      <td>0.092087</td>\n",
       "      <td>0.029069</td>\n",
       "      <td>0.328313</td>\n",
       "    </tr>\n",
       "    <tr>\n",
       "      <th>cyan</th>\n",
       "      <td>0.148306</td>\n",
       "      <td>0.065532</td>\n",
       "      <td>0.150192</td>\n",
       "      <td>0.186501</td>\n",
       "      <td>0.092087</td>\n",
       "      <td>0.029069</td>\n",
       "      <td>0.328313</td>\n",
       "    </tr>\n",
       "    <tr>\n",
       "      <th>blue</th>\n",
       "      <td>0.148306</td>\n",
       "      <td>0.065532</td>\n",
       "      <td>0.150192</td>\n",
       "      <td>0.186501</td>\n",
       "      <td>0.092087</td>\n",
       "      <td>0.029069</td>\n",
       "      <td>0.328313</td>\n",
       "    </tr>\n",
       "    <tr>\n",
       "      <th>green</th>\n",
       "      <td>0.148306</td>\n",
       "      <td>0.065532</td>\n",
       "      <td>0.150192</td>\n",
       "      <td>0.186501</td>\n",
       "      <td>0.092087</td>\n",
       "      <td>0.029069</td>\n",
       "      <td>0.328313</td>\n",
       "    </tr>\n",
       "    <tr>\n",
       "      <th>grey</th>\n",
       "      <td>0.148306</td>\n",
       "      <td>0.065532</td>\n",
       "      <td>0.150192</td>\n",
       "      <td>0.186501</td>\n",
       "      <td>0.092087</td>\n",
       "      <td>0.029069</td>\n",
       "      <td>0.328313</td>\n",
       "    </tr>\n",
       "  </tbody>\n",
       "</table>\n",
       "</div>"
      ],
      "text/plain": [
       "             red    orange    yellow      cyan      blue     green      grey\n",
       "red     0.148306  0.065532  0.150192  0.186501  0.092087  0.029069  0.328313\n",
       "orange  0.148306  0.065532  0.150192  0.186501  0.092087  0.029069  0.328313\n",
       "yellow  0.148306  0.065532  0.150192  0.186501  0.092087  0.029069  0.328313\n",
       "cyan    0.148306  0.065532  0.150192  0.186501  0.092087  0.029069  0.328313\n",
       "blue    0.148306  0.065532  0.150192  0.186501  0.092087  0.029069  0.328313\n",
       "green   0.148306  0.065532  0.150192  0.186501  0.092087  0.029069  0.328313\n",
       "grey    0.148306  0.065532  0.150192  0.186501  0.092087  0.029069  0.328313"
      ]
     },
     "execution_count": 15,
     "metadata": {},
     "output_type": "execute_result"
    }
   ],
   "source": [
    "# n_sim_iter is the number of times the transition_mat \n",
    "# will be multiplied by itself to reach a stationary state\n",
    "\n",
    "cd.stationary_matrix(n_sim_iter=10**4)"
   ]
  },
  {
   "cell_type": "markdown",
   "metadata": {},
   "source": [
    "The above matrix is the final stationary matrix for all the entities taken together as input for the current relative analysis"
   ]
  },
  {
   "cell_type": "markdown",
   "metadata": {},
   "source": [
    "## Absolute Analysis\n",
    "\n",
    "The Caterpillar Diagram can analyze a single data deries and produce a visualization. This kind of analysis is termed here as absolute analysis. The transition matrix of the single time series data will facilitate the forecast of next-step transition based on this single data series only.\n",
    "\n",
    "The `caterpillard` package provides the single data series as an example dataset with the `load_series` function\n"
   ]
  },
  {
   "cell_type": "code",
   "execution_count": 16,
   "metadata": {},
   "outputs": [],
   "source": [
    "from caterpillard import load_series"
   ]
  },
  {
   "cell_type": "code",
   "execution_count": 17,
   "metadata": {},
   "outputs": [],
   "source": [
    "data_ser = load_series()"
   ]
  },
  {
   "cell_type": "code",
   "execution_count": 18,
   "metadata": {},
   "outputs": [
    {
     "name": "stdout",
     "output_type": "stream",
     "text": [
      "1970       0\n",
      "1971       0\n",
      "1972       1\n",
      "1973       0\n",
      "1974       0\n",
      "1975      13\n",
      "1976       1\n",
      "1977       1\n",
      "1978       0\n",
      "1979     134\n",
      "1980      74\n",
      "1981     100\n",
      "1982     307\n",
      "1983     445\n",
      "1984    1110\n",
      "1985     279\n",
      "1986    1279\n",
      "1987    2137\n",
      "1988    4307\n",
      "1989    3743\n",
      "1990    4136\n",
      "1991    5026\n",
      "1992    4622\n",
      "1994    1687\n",
      "1995    1878\n",
      "1996    2872\n",
      "1997    4168\n",
      "1998    1702\n",
      "1999    2198\n",
      "2000    3020\n",
      "2001    3478\n",
      "2002    3231\n",
      "2003    2909\n",
      "2004    2119\n",
      "2005    2837\n",
      "2006    4533\n",
      "2007    3274\n",
      "2008    4919\n",
      "2009    4190\n",
      "2010    4259\n",
      "2011    3296\n",
      "2012    2408\n",
      "2013    3208\n",
      "2014    3524\n",
      "2015    3090\n",
      "2016    3673\n",
      "2017    3681\n",
      "2018    3152\n",
      "2019    2336\n",
      "Name: 92, dtype: int64\n"
     ]
    }
   ],
   "source": [
    "print(data_ser)"
   ]
  },
  {
   "cell_type": "markdown",
   "metadata": {},
   "source": [
    "### Initialization"
   ]
  },
  {
   "cell_type": "code",
   "execution_count": 19,
   "metadata": {},
   "outputs": [],
   "source": [
    "cd_absolute = CaterpillarDiagram(data=data_ser, relative=False, output_path=\"/tmp/tut_output/\")"
   ]
  },
  {
   "cell_type": "markdown",
   "metadata": {},
   "source": [
    "### Data Summary"
   ]
  },
  {
   "cell_type": "code",
   "execution_count": 20,
   "metadata": {},
   "outputs": [
    {
     "name": "stdout",
     "output_type": "stream",
     "text": [
      "Summarizing Data\n"
     ]
    }
   ],
   "source": [
    "cd_absolute.data_summary()"
   ]
  },
  {
   "cell_type": "code",
   "execution_count": 21,
   "metadata": {},
   "outputs": [
    {
     "data": {
      "text/plain": [
       "count      49.000000\n",
       "mean     2231.775510\n",
       "std      1676.795372\n",
       "min         0.000000\n",
       "25%       279.000000\n",
       "50%      2408.000000\n",
       "75%      3524.000000\n",
       "max      5026.000000\n",
       "Name: 92, dtype: float64"
      ]
     },
     "execution_count": 21,
     "metadata": {},
     "output_type": "execute_result"
    }
   ],
   "source": [
    "cd_absolute.data.describe()"
   ]
  },
  {
   "cell_type": "markdown",
   "metadata": {},
   "source": [
    "### Generate Color Schema"
   ]
  },
  {
   "cell_type": "code",
   "execution_count": 22,
   "metadata": {},
   "outputs": [],
   "source": [
    "cd_absolute.color_schema()"
   ]
  },
  {
   "cell_type": "markdown",
   "metadata": {},
   "source": [
    "**Explain**"
   ]
  },
  {
   "cell_type": "code",
   "execution_count": 23,
   "metadata": {},
   "outputs": [
    {
     "data": {
      "text/html": [
       "<div>\n",
       "<style scoped>\n",
       "    .dataframe tbody tr th:only-of-type {\n",
       "        vertical-align: middle;\n",
       "    }\n",
       "\n",
       "    .dataframe tbody tr th {\n",
       "        vertical-align: top;\n",
       "    }\n",
       "\n",
       "    .dataframe thead th {\n",
       "        text-align: right;\n",
       "    }\n",
       "</style>\n",
       "<table border=\"1\" class=\"dataframe\">\n",
       "  <thead>\n",
       "    <tr style=\"text-align: right;\">\n",
       "      <th></th>\n",
       "      <th>d11</th>\n",
       "      <th>d12</th>\n",
       "      <th>d2</th>\n",
       "      <th>Cohort</th>\n",
       "      <th>color</th>\n",
       "      <th>level</th>\n",
       "      <th>n_color</th>\n",
       "    </tr>\n",
       "  </thead>\n",
       "  <tbody>\n",
       "    <tr>\n",
       "      <th>0</th>\n",
       "      <td>0.0</td>\n",
       "      <td>1.0</td>\n",
       "      <td>1.0</td>\n",
       "      <td>Cohort1</td>\n",
       "      <td>red</td>\n",
       "      <td>level1</td>\n",
       "      <td>1</td>\n",
       "    </tr>\n",
       "    <tr>\n",
       "      <th>1</th>\n",
       "      <td>1.0</td>\n",
       "      <td>-1.0</td>\n",
       "      <td>-2.0</td>\n",
       "      <td>Cohort2</td>\n",
       "      <td>cyan</td>\n",
       "      <td>level4</td>\n",
       "      <td>4</td>\n",
       "    </tr>\n",
       "    <tr>\n",
       "      <th>2</th>\n",
       "      <td>-1.0</td>\n",
       "      <td>0.0</td>\n",
       "      <td>1.0</td>\n",
       "      <td>Cohort3</td>\n",
       "      <td>blue</td>\n",
       "      <td>level5</td>\n",
       "      <td>5</td>\n",
       "    </tr>\n",
       "    <tr>\n",
       "      <th>3</th>\n",
       "      <td>0.0</td>\n",
       "      <td>13.0</td>\n",
       "      <td>13.0</td>\n",
       "      <td>Cohort4</td>\n",
       "      <td>red</td>\n",
       "      <td>level1</td>\n",
       "      <td>1</td>\n",
       "    </tr>\n",
       "    <tr>\n",
       "      <th>4</th>\n",
       "      <td>13.0</td>\n",
       "      <td>-12.0</td>\n",
       "      <td>-25.0</td>\n",
       "      <td>Cohort5</td>\n",
       "      <td>cyan</td>\n",
       "      <td>level4</td>\n",
       "      <td>4</td>\n",
       "    </tr>\n",
       "  </tbody>\n",
       "</table>\n",
       "</div>"
      ],
      "text/plain": [
       "    d11   d12    d2   Cohort color   level  n_color\n",
       "0   0.0   1.0   1.0  Cohort1   red  level1        1\n",
       "1   1.0  -1.0  -2.0  Cohort2  cyan  level4        4\n",
       "2  -1.0   0.0   1.0  Cohort3  blue  level5        5\n",
       "3   0.0  13.0  13.0  Cohort4   red  level1        1\n",
       "4  13.0 -12.0 -25.0  Cohort5  cyan  level4        4"
      ]
     },
     "execution_count": 23,
     "metadata": {},
     "output_type": "execute_result"
    }
   ],
   "source": [
    "cd_absolute.complete_cohort_df.head()"
   ]
  },
  {
   "cell_type": "markdown",
   "metadata": {},
   "source": [
    "### Caterpillar Size"
   ]
  },
  {
   "cell_type": "code",
   "execution_count": 24,
   "metadata": {},
   "outputs": [
    {
     "name": "stdout",
     "output_type": "stream",
     "text": [
      "Calculating sizes for each cohort\n"
     ]
    }
   ],
   "source": [
    "cd_absolute.caterpillar_size()"
   ]
  },
  {
   "cell_type": "markdown",
   "metadata": {},
   "source": [
    "`complete_cohort_df` instance attribute updated with size information"
   ]
  },
  {
   "cell_type": "code",
   "execution_count": 25,
   "metadata": {},
   "outputs": [
    {
     "data": {
      "text/html": [
       "<div>\n",
       "<style scoped>\n",
       "    .dataframe tbody tr th:only-of-type {\n",
       "        vertical-align: middle;\n",
       "    }\n",
       "\n",
       "    .dataframe tbody tr th {\n",
       "        vertical-align: top;\n",
       "    }\n",
       "\n",
       "    .dataframe thead th {\n",
       "        text-align: right;\n",
       "    }\n",
       "</style>\n",
       "<table border=\"1\" class=\"dataframe\">\n",
       "  <thead>\n",
       "    <tr style=\"text-align: right;\">\n",
       "      <th></th>\n",
       "      <th>d11</th>\n",
       "      <th>d12</th>\n",
       "      <th>d2</th>\n",
       "      <th>Cohort</th>\n",
       "      <th>color</th>\n",
       "      <th>level</th>\n",
       "      <th>n_color</th>\n",
       "      <th>d11_radius</th>\n",
       "      <th>d12_radius</th>\n",
       "      <th>final_cohort_radius</th>\n",
       "    </tr>\n",
       "  </thead>\n",
       "  <tbody>\n",
       "    <tr>\n",
       "      <th>0</th>\n",
       "      <td>0.0</td>\n",
       "      <td>1.0</td>\n",
       "      <td>1.0</td>\n",
       "      <td>Cohort1</td>\n",
       "      <td>red</td>\n",
       "      <td>level1</td>\n",
       "      <td>1</td>\n",
       "      <td>2</td>\n",
       "      <td>2</td>\n",
       "      <td>2.0</td>\n",
       "    </tr>\n",
       "    <tr>\n",
       "      <th>1</th>\n",
       "      <td>1.0</td>\n",
       "      <td>-1.0</td>\n",
       "      <td>-2.0</td>\n",
       "      <td>Cohort2</td>\n",
       "      <td>cyan</td>\n",
       "      <td>level4</td>\n",
       "      <td>4</td>\n",
       "      <td>2</td>\n",
       "      <td>2</td>\n",
       "      <td>2.0</td>\n",
       "    </tr>\n",
       "    <tr>\n",
       "      <th>2</th>\n",
       "      <td>-1.0</td>\n",
       "      <td>0.0</td>\n",
       "      <td>1.0</td>\n",
       "      <td>Cohort3</td>\n",
       "      <td>blue</td>\n",
       "      <td>level5</td>\n",
       "      <td>5</td>\n",
       "      <td>2</td>\n",
       "      <td>2</td>\n",
       "      <td>2.0</td>\n",
       "    </tr>\n",
       "    <tr>\n",
       "      <th>3</th>\n",
       "      <td>0.0</td>\n",
       "      <td>13.0</td>\n",
       "      <td>13.0</td>\n",
       "      <td>Cohort4</td>\n",
       "      <td>red</td>\n",
       "      <td>level1</td>\n",
       "      <td>1</td>\n",
       "      <td>2</td>\n",
       "      <td>2</td>\n",
       "      <td>2.0</td>\n",
       "    </tr>\n",
       "    <tr>\n",
       "      <th>4</th>\n",
       "      <td>13.0</td>\n",
       "      <td>-12.0</td>\n",
       "      <td>-25.0</td>\n",
       "      <td>Cohort5</td>\n",
       "      <td>cyan</td>\n",
       "      <td>level4</td>\n",
       "      <td>4</td>\n",
       "      <td>2</td>\n",
       "      <td>2</td>\n",
       "      <td>2.0</td>\n",
       "    </tr>\n",
       "  </tbody>\n",
       "</table>\n",
       "</div>"
      ],
      "text/plain": [
       "    d11   d12    d2   Cohort color   level  n_color  d11_radius  d12_radius  \\\n",
       "0   0.0   1.0   1.0  Cohort1   red  level1        1           2           2   \n",
       "1   1.0  -1.0  -2.0  Cohort2  cyan  level4        4           2           2   \n",
       "2  -1.0   0.0   1.0  Cohort3  blue  level5        5           2           2   \n",
       "3   0.0  13.0  13.0  Cohort4   red  level1        1           2           2   \n",
       "4  13.0 -12.0 -25.0  Cohort5  cyan  level4        4           2           2   \n",
       "\n",
       "   final_cohort_radius  \n",
       "0                  2.0  \n",
       "1                  2.0  \n",
       "2                  2.0  \n",
       "3                  2.0  \n",
       "4                  2.0  "
      ]
     },
     "execution_count": 25,
     "metadata": {},
     "output_type": "execute_result"
    }
   ],
   "source": [
    "cd_absolute.complete_cohort_df.head()"
   ]
  },
  {
   "cell_type": "markdown",
   "metadata": {},
   "source": [
    "### Caterpillar Diagram Generation\n",
    "\n",
    "Absolute analysis "
   ]
  },
  {
   "cell_type": "code",
   "execution_count": 26,
   "metadata": {},
   "outputs": [
    {
     "data": {
      "image/png": "[encoded data removed]",
      "text/plain": [
       "<Figure size 2800x900 with 1 Axes>"
      ]
     },
     "metadata": {},
     "output_type": "display_data"
    }
   ],
   "source": [
    "cd_absolute.generate(data_index=None, n_last_cohorts=20)"
   ]
  },
  {
   "cell_type": "markdown",
   "metadata": {},
   "source": [
    "### Color Schema Transitions"
   ]
  },
  {
   "cell_type": "code",
   "execution_count": 27,
   "metadata": {},
   "outputs": [
    {
     "name": "stdout",
     "output_type": "stream",
     "text": [
      "Finding transitions\n"
     ]
    }
   ],
   "source": [
    "cd_absolute.schema_transitions()"
   ]
  },
  {
   "cell_type": "code",
   "execution_count": 28,
   "metadata": {},
   "outputs": [
    {
     "data": {
      "text/html": [
       "<div>\n",
       "<style scoped>\n",
       "    .dataframe tbody tr th:only-of-type {\n",
       "        vertical-align: middle;\n",
       "    }\n",
       "\n",
       "    .dataframe tbody tr th {\n",
       "        vertical-align: top;\n",
       "    }\n",
       "\n",
       "    .dataframe thead th {\n",
       "        text-align: right;\n",
       "    }\n",
       "</style>\n",
       "<table border=\"1\" class=\"dataframe\">\n",
       "  <thead>\n",
       "    <tr style=\"text-align: right;\">\n",
       "      <th></th>\n",
       "      <th>red</th>\n",
       "      <th>orange</th>\n",
       "      <th>yellow</th>\n",
       "      <th>cyan</th>\n",
       "      <th>blue</th>\n",
       "      <th>green</th>\n",
       "      <th>grey</th>\n",
       "    </tr>\n",
       "  </thead>\n",
       "  <tbody>\n",
       "    <tr>\n",
       "      <th>red</th>\n",
       "      <td>1</td>\n",
       "      <td>2</td>\n",
       "      <td>0</td>\n",
       "      <td>7</td>\n",
       "      <td>0</td>\n",
       "      <td>0</td>\n",
       "      <td>0</td>\n",
       "    </tr>\n",
       "    <tr>\n",
       "      <th>orange</th>\n",
       "      <td>2</td>\n",
       "      <td>0</td>\n",
       "      <td>0</td>\n",
       "      <td>3</td>\n",
       "      <td>0</td>\n",
       "      <td>0</td>\n",
       "      <td>0</td>\n",
       "    </tr>\n",
       "    <tr>\n",
       "      <th>yellow</th>\n",
       "      <td>5</td>\n",
       "      <td>3</td>\n",
       "      <td>0</td>\n",
       "      <td>3</td>\n",
       "      <td>0</td>\n",
       "      <td>0</td>\n",
       "      <td>0</td>\n",
       "    </tr>\n",
       "    <tr>\n",
       "      <th>cyan</th>\n",
       "      <td>0</td>\n",
       "      <td>0</td>\n",
       "      <td>7</td>\n",
       "      <td>0</td>\n",
       "      <td>3</td>\n",
       "      <td>3</td>\n",
       "      <td>0</td>\n",
       "    </tr>\n",
       "    <tr>\n",
       "      <th>blue</th>\n",
       "      <td>1</td>\n",
       "      <td>0</td>\n",
       "      <td>1</td>\n",
       "      <td>0</td>\n",
       "      <td>0</td>\n",
       "      <td>1</td>\n",
       "      <td>0</td>\n",
       "    </tr>\n",
       "    <tr>\n",
       "      <th>green</th>\n",
       "      <td>0</td>\n",
       "      <td>0</td>\n",
       "      <td>3</td>\n",
       "      <td>0</td>\n",
       "      <td>0</td>\n",
       "      <td>1</td>\n",
       "      <td>0</td>\n",
       "    </tr>\n",
       "    <tr>\n",
       "      <th>grey</th>\n",
       "      <td>0</td>\n",
       "      <td>0</td>\n",
       "      <td>0</td>\n",
       "      <td>0</td>\n",
       "      <td>0</td>\n",
       "      <td>0</td>\n",
       "      <td>0</td>\n",
       "    </tr>\n",
       "  </tbody>\n",
       "</table>\n",
       "</div>"
      ],
      "text/plain": [
       "        red  orange  yellow  cyan  blue  green  grey\n",
       "red       1       2       0     7     0      0     0\n",
       "orange    2       0       0     3     0      0     0\n",
       "yellow    5       3       0     3     0      0     0\n",
       "cyan      0       0       7     0     3      3     0\n",
       "blue      1       0       1     0     0      1     0\n",
       "green     0       0       3     0     0      1     0\n",
       "grey      0       0       0     0     0      0     0"
      ]
     },
     "execution_count": 28,
     "metadata": {},
     "output_type": "execute_result"
    }
   ],
   "source": [
    "cd_absolute.transition_mat"
   ]
  },
  {
   "cell_type": "markdown",
   "metadata": {},
   "source": [
    "### Stationary Matrix\n",
    "\n",
    "Absolute analysis"
   ]
  },
  {
   "cell_type": "code",
   "execution_count": 29,
   "metadata": {},
   "outputs": [
    {
     "name": "stdout",
     "output_type": "stream",
     "text": [
      "Finding stationary matrix\n"
     ]
    },
    {
     "name": "stderr",
     "output_type": "stream",
     "text": [
      "100% (10000 of 10000) |##################| Elapsed Time: 0:00:12 Time:  0:00:12\n"
     ]
    },
    {
     "data": {
      "text/html": [
       "<div>\n",
       "<style scoped>\n",
       "    .dataframe tbody tr th:only-of-type {\n",
       "        vertical-align: middle;\n",
       "    }\n",
       "\n",
       "    .dataframe tbody tr th {\n",
       "        vertical-align: top;\n",
       "    }\n",
       "\n",
       "    .dataframe thead th {\n",
       "        text-align: right;\n",
       "    }\n",
       "</style>\n",
       "<table border=\"1\" class=\"dataframe\">\n",
       "  <thead>\n",
       "    <tr style=\"text-align: right;\">\n",
       "      <th></th>\n",
       "      <th>red</th>\n",
       "      <th>orange</th>\n",
       "      <th>yellow</th>\n",
       "      <th>cyan</th>\n",
       "      <th>blue</th>\n",
       "      <th>green</th>\n",
       "      <th>grey</th>\n",
       "    </tr>\n",
       "  </thead>\n",
       "  <tbody>\n",
       "    <tr>\n",
       "      <th>red</th>\n",
       "      <td>0.197381</td>\n",
       "      <td>0.107704</td>\n",
       "      <td>0.250169</td>\n",
       "      <td>0.271017</td>\n",
       "      <td>0.062542</td>\n",
       "      <td>0.111186</td>\n",
       "      <td>0.0</td>\n",
       "    </tr>\n",
       "    <tr>\n",
       "      <th>orange</th>\n",
       "      <td>0.197381</td>\n",
       "      <td>0.107704</td>\n",
       "      <td>0.250169</td>\n",
       "      <td>0.271017</td>\n",
       "      <td>0.062542</td>\n",
       "      <td>0.111186</td>\n",
       "      <td>0.0</td>\n",
       "    </tr>\n",
       "    <tr>\n",
       "      <th>yellow</th>\n",
       "      <td>0.197381</td>\n",
       "      <td>0.107704</td>\n",
       "      <td>0.250169</td>\n",
       "      <td>0.271017</td>\n",
       "      <td>0.062542</td>\n",
       "      <td>0.111186</td>\n",
       "      <td>0.0</td>\n",
       "    </tr>\n",
       "    <tr>\n",
       "      <th>cyan</th>\n",
       "      <td>0.197381</td>\n",
       "      <td>0.107704</td>\n",
       "      <td>0.250169</td>\n",
       "      <td>0.271017</td>\n",
       "      <td>0.062542</td>\n",
       "      <td>0.111186</td>\n",
       "      <td>0.0</td>\n",
       "    </tr>\n",
       "    <tr>\n",
       "      <th>blue</th>\n",
       "      <td>0.197381</td>\n",
       "      <td>0.107704</td>\n",
       "      <td>0.250169</td>\n",
       "      <td>0.271017</td>\n",
       "      <td>0.062542</td>\n",
       "      <td>0.111186</td>\n",
       "      <td>0.0</td>\n",
       "    </tr>\n",
       "    <tr>\n",
       "      <th>green</th>\n",
       "      <td>0.197381</td>\n",
       "      <td>0.107704</td>\n",
       "      <td>0.250169</td>\n",
       "      <td>0.271017</td>\n",
       "      <td>0.062542</td>\n",
       "      <td>0.111186</td>\n",
       "      <td>0.0</td>\n",
       "    </tr>\n",
       "    <tr>\n",
       "      <th>grey</th>\n",
       "      <td>0.000000</td>\n",
       "      <td>0.000000</td>\n",
       "      <td>0.000000</td>\n",
       "      <td>0.000000</td>\n",
       "      <td>0.000000</td>\n",
       "      <td>0.000000</td>\n",
       "      <td>0.0</td>\n",
       "    </tr>\n",
       "  </tbody>\n",
       "</table>\n",
       "</div>"
      ],
      "text/plain": [
       "             red    orange    yellow      cyan      blue     green  grey\n",
       "red     0.197381  0.107704  0.250169  0.271017  0.062542  0.111186   0.0\n",
       "orange  0.197381  0.107704  0.250169  0.271017  0.062542  0.111186   0.0\n",
       "yellow  0.197381  0.107704  0.250169  0.271017  0.062542  0.111186   0.0\n",
       "cyan    0.197381  0.107704  0.250169  0.271017  0.062542  0.111186   0.0\n",
       "blue    0.197381  0.107704  0.250169  0.271017  0.062542  0.111186   0.0\n",
       "green   0.197381  0.107704  0.250169  0.271017  0.062542  0.111186   0.0\n",
       "grey    0.000000  0.000000  0.000000  0.000000  0.000000  0.000000   0.0"
      ]
     },
     "execution_count": 29,
     "metadata": {},
     "output_type": "execute_result"
    }
   ],
   "source": [
    "cd_absolute.stationary_matrix(n_sim_iter=10**4)"
   ]
  },
  {
   "cell_type": "markdown",
   "metadata": {},
   "source": [
    "## Miscellaneous"
   ]
  },
  {
   "cell_type": "markdown",
   "metadata": {},
   "source": [
    "Use logging if required"
   ]
  }
 ],
 "metadata": {
  "hide_input": false,
  "kernelspec": {
   "display_name": "Python 3 (ipykernel)",
   "language": "python",
   "name": "python3"
  },
  "language_info": {
   "codemirror_mode": {
    "name": "ipython",
    "version": 3
   },
   "file_extension": ".py",
   "mimetype": "text/x-python",
   "name": "python",
   "nbconvert_exporter": "python",
   "pygments_lexer": "ipython3",
   "version": "3.10.9"
  },
  "toc": {
   "base_numbering": 1,
   "nav_menu": {},
   "number_sections": true,
   "sideBar": true,
   "skip_h1_title": false,
   "title_cell": "Table of Contents",
   "title_sidebar": "Contents",
   "toc_cell": false,
   "toc_position": {},
   "toc_section_display": true,
   "toc_window_display": false
  },
  "varInspector": {
   "cols": {
    "lenName": 16,
    "lenType": 16,
    "lenVar": 40
   },
   "kernels_config": {
    "python": {
     "delete_cmd_postfix": "",
     "delete_cmd_prefix": "del ",
     "library": "var_list.py",
     "varRefreshCmd": "print(var_dic_list())"
    },
    "r": {
     "delete_cmd_postfix": ") ",
     "delete_cmd_prefix": "rm(",
     "library": "var_list.r",
     "varRefreshCmd": "cat(var_dic_list()) "
    }
   },
   "types_to_exclude": [
    "module",
    "function",
    "builtin_function_or_method",
    "instance",
    "_Feature"
   ],
   "window_display": false
  },
  "vscode": {
   "interpreter": {
    "hash": "33607edd431f77a350415490920a41ca06f515890a9a346f0f1a5409cee14a8f"
   }
  }
 },
 "nbformat": 4,
 "nbformat_minor": 2
}
