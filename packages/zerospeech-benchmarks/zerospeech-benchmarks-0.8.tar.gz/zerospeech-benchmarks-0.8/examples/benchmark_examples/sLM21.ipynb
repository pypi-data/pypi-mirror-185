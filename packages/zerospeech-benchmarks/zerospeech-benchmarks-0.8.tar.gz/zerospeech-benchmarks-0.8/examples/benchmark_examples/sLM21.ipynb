{
 "cells": [
  {
   "cell_type": "code",
   "execution_count": null,
   "metadata": {},
   "outputs": [],
   "source": [
    "%env APP_DIR=~/zr-data\n",
    "from zerospeech.model.datasets import DatasetsDir\n",
    "from zerospeech.benchmarks.datasets import SLM21Dataset\n",
    "\n",
    "\n",
    "# Load and download AbxLs dataset\n",
    "datasets_dir = DatasetsDir.load()\n",
    "dataset = datasets_dir.get(\"sLM21-dataset\", cls=SLM21Dataset)\n",
    "if not dataset.installed:\n",
    "    dataset.pull()    "
   ]
  },
  {
   "cell_type": "code",
   "execution_count": null,
   "metadata": {},
   "outputs": [],
   "source": [
    "%env APP_DIR=~/zr-data\n",
    "from zerospeech.model.samples import SamplesDir\n",
    "from zerospeech.benchmarks import sLM_21\n",
    "\n",
    "\n",
    "# Download AbxLS random submission if not installed\n",
    "sample_dir = SamplesDir.load()\n",
    "sample_itm = sample_dir.get(\"sLM-random-submission\")\n",
    "if not sample_itm.installed:\n",
    "    sample_itm.pull()\n",
    "\n",
    "\n",
    "# load submission from disk\n",
    "random_submission = sLM_21.SLM21Submission.load(sample_itm.location)\n",
    "# load benchmark\n",
    "benchmark = sLM_21.SLM21Benchmark()\n",
    "# run benchmark\n",
    "benchmark.run(random_submission)"
   ]
  }
 ],
 "metadata": {
  "kernelspec": {
   "display_name": "Python 3.9.14 64-bit ('zr-bench')",
   "language": "python",
   "name": "python3"
  },
  "language_info": {
   "name": "python",
   "version": "3.9.14"
  },
  "orig_nbformat": 4,
  "vscode": {
   "interpreter": {
    "hash": "d1da385c3704c36a0fc1b78896f214ded57d0f475a7c8a2720df970b3e945e6d"
   }
  }
 },
 "nbformat": 4,
 "nbformat_minor": 2
}
