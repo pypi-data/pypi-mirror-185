{
 "cells": [
  {
   "cell_type": "code",
   "execution_count": 1,
   "metadata": {},
   "outputs": [
    {
     "data": {
      "application/vnd.jupyter.widget-view+json": {
       "model_id": "2c331327befc42339b304a5bb51fca97",
       "version_major": 2,
       "version_minor": 0
      },
      "text/plain": [
       "Output()"
      ]
     },
     "metadata": {},
     "output_type": "display_data"
    },
    {
     "data": {
      "text/html": [
       "<pre style=\"white-space:pre;overflow-x:auto;line-height:normal;font-family:Menlo,'DejaVu Sans Mono',consolas,'Courier New',monospace\"><span style=\"color: #008000; text-decoration-color: #008000\">Download completed Successfully!</span>\n",
       "</pre>\n"
      ],
      "text/plain": [
       "\u001b[32mDownload completed Successfully!\u001b[0m\n"
      ]
     },
     "metadata": {},
     "output_type": "display_data"
    },
    {
     "data": {
      "text/html": [
       "<pre style=\"white-space:pre;overflow-x:auto;line-height:normal;font-family:Menlo,'DejaVu Sans Mono',consolas,'Courier New',monospace\"></pre>\n"
      ],
      "text/plain": []
     },
     "metadata": {},
     "output_type": "display_data"
    },
    {
     "data": {
      "text/html": [
       "<pre style=\"white-space:pre;overflow-x:auto;line-height:normal;font-family:Menlo,'DejaVu Sans Mono',consolas,'Courier New',monospace\">\n",
       "</pre>\n"
      ],
      "text/plain": [
       "\n"
      ]
     },
     "metadata": {},
     "output_type": "display_data"
    },
    {
     "data": {
      "application/vnd.jupyter.widget-view+json": {
       "model_id": "ef240ff39be74f628ef840e92f3a32ff",
       "version_major": 2,
       "version_minor": 0
      },
      "text/plain": [
       "Output()"
      ]
     },
     "metadata": {},
     "output_type": "display_data"
    },
    {
     "data": {
      "text/html": [
       "<pre style=\"white-space:pre;overflow-x:auto;line-height:normal;font-family:Menlo,'DejaVu Sans Mono',consolas,'Courier New',monospace\"></pre>\n"
      ],
      "text/plain": []
     },
     "metadata": {},
     "output_type": "display_data"
    },
    {
     "data": {
      "text/html": [
       "<pre style=\"white-space:pre;overflow-x:auto;line-height:normal;font-family:Menlo,'DejaVu Sans Mono',consolas,'Courier New',monospace\"><span style=\"color: #008000; text-decoration-color: #008000\">MD5 sum verified!</span>\n",
       "</pre>\n"
      ],
      "text/plain": [
       "\u001b[32mMD5 sum verified!\u001b[0m\n"
      ]
     },
     "metadata": {},
     "output_type": "display_data"
    },
    {
     "data": {
      "application/vnd.jupyter.widget-view+json": {
       "model_id": "14b82520df5d4730b9d24fc12efa7c44",
       "version_major": 2,
       "version_minor": 0
      },
      "text/plain": [
       "Output()"
      ]
     },
     "metadata": {},
     "output_type": "display_data"
    },
    {
     "data": {
      "text/html": [
       "<pre style=\"white-space:pre;overflow-x:auto;line-height:normal;font-family:Menlo,'DejaVu Sans Mono',consolas,'Courier New',monospace\"></pre>\n"
      ],
      "text/plain": []
     },
     "metadata": {},
     "output_type": "display_data"
    },
    {
     "data": {
      "text/html": [
       "<pre style=\"white-space:pre;overflow-x:auto;line-height:normal;font-family:Menlo,'DejaVu Sans Mono',consolas,'Courier New',monospace\"><span style=\"color: #008000; text-decoration-color: #008000\">Dataset zrc2017-test-dataset installed successfully !!</span>\n",
       "</pre>\n"
      ],
      "text/plain": [
       "\u001b[32mDataset zrc2017-test-dataset installed successfully !!\u001b[0m\n"
      ]
     },
     "metadata": {},
     "output_type": "display_data"
    }
   ],
   "source": [
    "from zerospeech.model.datasets import DatasetsDir\n",
    "from zerospeech.benchmarks.datasets import ZRC2017Dataset\n",
    "\n",
    "\n",
    "# Load and download AbxLs dataset\n",
    "datasets_dir = DatasetsDir.load()\n",
    "dataset = datasets_dir.get(\"zrc2017-test-dataset\", cls=ZRC2017Dataset)\n",
    "if not dataset.installed:\n",
    "    dataset.pull()   "
   ]
  },
  {
   "cell_type": "code",
   "execution_count": null,
   "metadata": {},
   "outputs": [],
   "source": [
    "%env APP_DIR=~/zr-data\n",
    "from pathlib import Path\n",
    "from zerospeech.model.samples import SamplesDir\n",
    "from zerospeech.benchmarks import abx_17\n",
    "\n",
    "\n",
    "# todo: create a random submission for abx17\n",
    "# Download AbxLS random submission if not installed\n",
    "# sample_dir = SamplesDir.load()\n",
    "# sample_itm = sample_dir.get(\"sLM-random-submission\")\n",
    "# if not sample_itm.installed:\n",
    "#    sample_itm.pull()\n",
    "\n",
    "\n",
    "# load submission from disk\n",
    "random_submission = abx_17.ABX17Submission.load(Path(\"/submission/location\"))\n",
    "\n",
    "# load benchmark\n",
    "benchmark = abx_17.ABX17Benchmark()\n",
    "# run benchmark\n",
    "benchmark.run(random_submission)"
   ]
  }
 ],
 "metadata": {
  "kernelspec": {
   "display_name": "Python 3.9.14 64-bit ('zr-bench')",
   "language": "python",
   "name": "python3"
  },
  "language_info": {
   "codemirror_mode": {
    "name": "ipython",
    "version": 3
   },
   "file_extension": ".py",
   "mimetype": "text/x-python",
   "name": "python",
   "nbconvert_exporter": "python",
   "pygments_lexer": "ipython3",
   "version": "3.9.14"
  },
  "orig_nbformat": 4,
  "vscode": {
   "interpreter": {
    "hash": "d1da385c3704c36a0fc1b78896f214ded57d0f475a7c8a2720df970b3e945e6d"
   }
  }
 },
 "nbformat": 4,
 "nbformat_minor": 2
}
