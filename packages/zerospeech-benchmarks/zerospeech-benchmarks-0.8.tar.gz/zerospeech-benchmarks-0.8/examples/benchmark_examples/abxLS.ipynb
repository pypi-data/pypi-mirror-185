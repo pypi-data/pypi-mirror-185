{
 "cells": [
  {
   "cell_type": "code",
   "execution_count": null,
   "metadata": {},
   "outputs": [],
   "source": [
    "%env APP_DIR=~/zr-data\n",
    "from zerospeech.model.datasets import DatasetsDir\n",
    "from zerospeech.benchmarks.datasets import AbxLSDataset\n",
    "\n",
    "\n",
    "# Load and download AbxLs dataset\n",
    "datasets_dir = DatasetsDir.load()\n",
    "dataset = datasets_dir.get(\"abxLS-dataset\", cls=AbxLSDataset)\n",
    "if not dataset.installed:\n",
    "    dataset.pull()    "
   ]
  },
  {
   "cell_type": "code",
   "execution_count": null,
   "metadata": {},
   "outputs": [],
   "source": [
    "%env APP_DIR=~/zr-data\n",
    "from zerospeech.model.samples import SamplesDir\n",
    "from zerospeech.benchmarks import abx_LS\n",
    "\n",
    "\n",
    "# Download AbxLS random submission if not installed\n",
    "sample_dir = SamplesDir.load()\n",
    "sample_itm = sample_dir.get(\"abxLS-random-submission\")\n",
    "if not sample_itm.installed:\n",
    "    sample_itm.pull()\n",
    "\n",
    "\n",
    "# load submission from disk\n",
    "random_submission = abx_LS.AbxLSSubmission.load(sample_itm.location)\n",
    "# load benchmark\n",
    "benchmark = abx_LS.AbxLSBenchmark()\n",
    "# run benchmark\n",
    "benchmark.run(random_submission)"
   ]
  }
 ],
 "metadata": {
  "kernelspec": {
   "display_name": "Python 3.9.14 64-bit ('zr-bench')",
   "language": "python",
   "name": "python3"
  },
  "language_info": {
   "codemirror_mode": {
    "name": "ipython",
    "version": 3
   },
   "file_extension": ".py",
   "mimetype": "text/x-python",
   "name": "python",
   "nbconvert_exporter": "python",
   "pygments_lexer": "ipython3",
   "version": "3.9.14"
  },
  "orig_nbformat": 4,
  "vscode": {
   "interpreter": {
    "hash": "d1da385c3704c36a0fc1b78896f214ded57d0f475a7c8a2720df970b3e945e6d"
   }
  }
 },
 "nbformat": 4,
 "nbformat_minor": 2
}
