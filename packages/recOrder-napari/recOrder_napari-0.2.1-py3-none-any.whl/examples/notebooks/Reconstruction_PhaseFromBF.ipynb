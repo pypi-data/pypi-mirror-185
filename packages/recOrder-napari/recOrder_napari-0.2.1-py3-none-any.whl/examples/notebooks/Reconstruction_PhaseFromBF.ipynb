{
 "cells": [
  {
   "cell_type": "code",
   "execution_count": 1,
   "metadata": {},
   "outputs": [],
   "source": [
    "from recOrder.compute.qlipp_compute import initialize_reconstructor, reconstruct_qlipp_stokes, reconstruct_phase3D, \\\n",
    "                                            reconstruct_phase2D, reconstruct_qlipp_birefringence\n",
    "import numpy as np"
   ]
  },
  {
   "cell_type": "markdown",
   "metadata": {},
   "source": [
    "## Setup Fake Data and Initialize Reconstructor"
   ]
  },
  {
   "cell_type": "code",
   "execution_count": 2,
   "metadata": {},
   "outputs": [],
   "source": [
    "data = np.random.random((1, 41, 256, 256)) # (C, Z, Y, X) where C=0 is BF data"
   ]
  },
  {
   "cell_type": "code",
   "execution_count": 3,
   "metadata": {},
   "outputs": [],
   "source": [
    "image_dim = (data.shape[-2], data.shape[-1]) # (Y, X)\n",
    "NA_obj = 0.4 # Numerical Aperture of Objective\n",
    "NA_illu = 0.2 # Numerical Aperture of Condenser\n",
    "wavelength = 532 # wavelength in nm\n",
    "n_objective_media = 1.0 # refractive index of objective immersion media\n",
    "mag = 20 # magnification\n",
    "n_slices = data.shape[-3] # number of slices in z-stack\n",
    "z_step_um = 0.25 # z-step size in um\n",
    "pad_z = 0 # slices to pad for phase reconstruction boundary artifacts\n",
    "pixel_size_um = 6.5 # pixel size in um\n",
    "mode = '3D' # phase reconstruction mode, '2D' or '3D'\n",
    "use_gpu = False\n",
    "gpu_id = 0"
   ]
  },
  {
   "cell_type": "code",
   "execution_count": 4,
   "metadata": {},
   "outputs": [
    {
     "name": "stdout",
     "output_type": "stream",
     "text": [
      "Initializing Reconstructor...\n",
      "Finished Initializing Reconstructor (0.02 min)\n"
     ]
    }
   ],
   "source": [
    "# Initialize Reconstructor\n",
    "reconstructor = initialize_reconstructor(pipeline='PhaseFromBF',\n",
    "                                          image_dim=image_dim,\n",
    "                                          NA_obj=NA_obj,\n",
    "                                          NA_illu=NA_illu,\n",
    "                                          wavelength_nm=wavelength,\n",
    "                                          n_obj_media=n_objective_media,\n",
    "                                          mag=mag,\n",
    "                                          n_slices=n_slices,\n",
    "                                          z_step_um=z_step_um,\n",
    "                                          pad_z=pad_z,\n",
    "                                          pixel_size_um=pixel_size_um,\n",
    "                                          mode=mode,\n",
    "                                          use_gpu=use_gpu,\n",
    "                                          gpu_id=gpu_id)"
   ]
  },
  {
   "cell_type": "markdown",
   "metadata": {},
   "source": [
    "## Reconstruct Phase3D from BF"
   ]
  },
  {
   "cell_type": "code",
   "execution_count": 5,
   "metadata": {},
   "outputs": [
    {
     "name": "stdout",
     "output_type": "stream",
     "text": [
      "Shape of 3D phase data: (41, 256, 256)\n"
     ]
    }
   ],
   "source": [
    "S0 = np.transpose(data[0], (1, 2, 0)) # Need to transpose BF into (Y, X, Z)\n",
    "\n",
    "phase3D = reconstruct_phase3D(S0, reconstructor, method='Tikhonov', reg_re=1e-4)\n",
    "\n",
    "print(f'Shape of 3D phase data: {np.shape(phase3D)}')"
   ]
  },
  {
   "cell_type": "markdown",
   "metadata": {},
   "source": [
    "## Reconstruct Phase2D from BF\n",
    "\n",
    "we need a new reconstructor to compute phase 2D"
   ]
  },
  {
   "cell_type": "code",
   "execution_count": 7,
   "metadata": {},
   "outputs": [
    {
     "name": "stdout",
     "output_type": "stream",
     "text": [
      "Initializing Reconstructor...\n",
      "Finished Initializing Reconstructor (0.01 min)\n"
     ]
    }
   ],
   "source": [
    "mode = '2D'\n",
    "\n",
    "# Initialize Reconstructor\n",
    "reconstructor = initialize_reconstructor(pipeline='PhaseFromBF',\n",
    "                                          image_dim=image_dim,\n",
    "                                          NA_obj=NA_obj,\n",
    "                                          NA_illu=NA_illu,\n",
    "                                          wavelength_nm=wavelength,\n",
    "                                          n_obj_media=n_objective_media,\n",
    "                                          mag=mag,\n",
    "                                          n_slices=n_slices,\n",
    "                                          z_step_um=z_step_um,\n",
    "                                          pad_z=pad_z,\n",
    "                                          pixel_size_um=pixel_size_um,\n",
    "                                          mode=mode,\n",
    "                                          use_gpu=use_gpu,\n",
    "                                          gpu_id=gpu_id)"
   ]
  },
  {
   "cell_type": "code",
   "execution_count": 8,
   "metadata": {},
   "outputs": [
    {
     "name": "stdout",
     "output_type": "stream",
     "text": [
      "Shape of 2D phase data: (256, 256)\n"
     ]
    }
   ],
   "source": [
    "phase2D = reconstruct_phase2D(S0, reconstructor, method='Tikhonov', reg_p=1e-4)\n",
    "\n",
    "print(f'Shape of 2D phase data: {np.shape(phase2D)}')"
   ]
  }
 ],
 "metadata": {
  "kernelspec": {
   "display_name": "Python 3",
   "language": "python",
   "name": "python3"
  },
  "language_info": {
   "codemirror_mode": {
    "name": "ipython",
    "version": 3
   },
   "file_extension": ".py",
   "mimetype": "text/x-python",
   "name": "python",
   "nbconvert_exporter": "python",
   "pygments_lexer": "ipython3",
   "version": "3.7.6"
  }
 },
 "nbformat": 4,
 "nbformat_minor": 1
}
