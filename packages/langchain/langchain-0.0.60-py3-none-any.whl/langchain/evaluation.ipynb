{
 "cells": [
  {
   "cell_type": "code",
   "execution_count": 1,
   "id": "1c1e8fcf",
   "metadata": {},
   "outputs": [],
   "source": [
    "from langchain.prompts import PromptTemplate\n",
    "from langchain.llms import OpenAI\n",
    "from langchain.chains import LLMChain"
   ]
  },
  {
   "cell_type": "code",
   "execution_count": 2,
   "id": "6d49b6b1",
   "metadata": {},
   "outputs": [],
   "source": [
    "template = \"\"\"You are a teacher grading a quiz.\n",
    "You are given a question, the student's answer, and the true answer, and are asked to score it as either CORRECT or INCORRECT.\n",
    "\n",
    "Example Format:\n",
    "QUESTION: question here\n",
    "STUDENT ANSWER: student's answer here\n",
    "TRUE ANSWER: true answer here\n",
    "GRADE: CORRECT or INCORRECT here\n",
    "\n",
    "Please remember to grade them based on being factually accurate. Begin!\n",
    "\n",
    "QUESTION: {query}\n",
    "STUDENT ANSWER: {result}\n",
    "TRUE ANSWER: {ground_truth}\n",
    "GRADE:\"\"\"\n",
    "prompt = PromptTemplate(input_variables=['query', 'result', \"ground_truth\"], template=template)"
   ]
  },
  {
   "cell_type": "code",
   "execution_count": 3,
   "id": "dfa19707",
   "metadata": {},
   "outputs": [
    {
     "ename": "AttributeError",
     "evalue": "module 'requests' has no attribute 'Session'",
     "output_type": "error",
     "traceback": [
      "\u001b[0;31m---------------------------------------------------------------------------\u001b[0m",
      "\u001b[0;31mAttributeError\u001b[0m                            Traceback (most recent call last)",
      "Cell \u001b[0;32mIn[3], line 1\u001b[0m\n\u001b[0;32m----> 1\u001b[0m llm \u001b[38;5;241m=\u001b[39m \u001b[43mOpenAI\u001b[49m\u001b[43m(\u001b[49m\u001b[43mtemperature\u001b[49m\u001b[38;5;241;43m=\u001b[39;49m\u001b[38;5;241;43m0\u001b[39;49m\u001b[43m)\u001b[49m\n\u001b[1;32m      2\u001b[0m llm_chain \u001b[38;5;241m=\u001b[39m LLMChain(llm\u001b[38;5;241m=\u001b[39mllm, prompt\u001b[38;5;241m=\u001b[39mprompt)\n\u001b[1;32m      3\u001b[0m grade_outputs \u001b[38;5;241m=\u001b[39m llm_chain\u001b[38;5;241m.\u001b[39mapply(preds)\n",
      "File \u001b[0;32m~/workplace/langchain/.venv/lib/python3.10/site-packages/pydantic/main.py:340\u001b[0m, in \u001b[0;36mpydantic.main.BaseModel.__init__\u001b[0;34m()\u001b[0m\n",
      "File \u001b[0;32m~/workplace/langchain/.venv/lib/python3.10/site-packages/pydantic/main.py:1102\u001b[0m, in \u001b[0;36mpydantic.main.validate_model\u001b[0;34m()\u001b[0m\n",
      "File \u001b[0;32m~/workplace/langchain/langchain/llms/openai.py:79\u001b[0m, in \u001b[0;36mOpenAI.validate_environment\u001b[0;34m(cls, values)\u001b[0m\n\u001b[1;32m     75\u001b[0m openai_api_key \u001b[38;5;241m=\u001b[39m get_from_dict_or_env(\n\u001b[1;32m     76\u001b[0m     values, \u001b[38;5;124m\"\u001b[39m\u001b[38;5;124mopenai_api_key\u001b[39m\u001b[38;5;124m\"\u001b[39m, \u001b[38;5;124m\"\u001b[39m\u001b[38;5;124mOPENAI_API_KEY\u001b[39m\u001b[38;5;124m\"\u001b[39m\n\u001b[1;32m     77\u001b[0m )\n\u001b[1;32m     78\u001b[0m \u001b[38;5;28;01mtry\u001b[39;00m:\n\u001b[0;32m---> 79\u001b[0m     \u001b[38;5;28;01mimport\u001b[39;00m \u001b[38;5;21;01mopenai\u001b[39;00m\n\u001b[1;32m     81\u001b[0m     openai\u001b[38;5;241m.\u001b[39mapi_key \u001b[38;5;241m=\u001b[39m openai_api_key\n\u001b[1;32m     82\u001b[0m     values[\u001b[38;5;124m\"\u001b[39m\u001b[38;5;124mclient\u001b[39m\u001b[38;5;124m\"\u001b[39m] \u001b[38;5;241m=\u001b[39m openai\u001b[38;5;241m.\u001b[39mCompletion\n",
      "File \u001b[0;32m~/workplace/langchain/.venv/lib/python3.10/site-packages/openai/__init__.py:8\u001b[0m\n\u001b[1;32m      5\u001b[0m \u001b[38;5;28;01mimport\u001b[39;00m \u001b[38;5;21;01mos\u001b[39;00m\n\u001b[1;32m      6\u001b[0m \u001b[38;5;28;01mfrom\u001b[39;00m \u001b[38;5;21;01mtyping\u001b[39;00m \u001b[38;5;28;01mimport\u001b[39;00m Optional\n\u001b[0;32m----> 8\u001b[0m \u001b[38;5;28;01mfrom\u001b[39;00m \u001b[38;5;21;01mopenai\u001b[39;00m\u001b[38;5;21;01m.\u001b[39;00m\u001b[38;5;21;01mapi_resources\u001b[39;00m \u001b[38;5;28;01mimport\u001b[39;00m (\n\u001b[1;32m      9\u001b[0m     Answer,\n\u001b[1;32m     10\u001b[0m     Classification,\n\u001b[1;32m     11\u001b[0m     Completion,\n\u001b[1;32m     12\u001b[0m     Customer,\n\u001b[1;32m     13\u001b[0m     Edit,\n\u001b[1;32m     14\u001b[0m     Deployment,\n\u001b[1;32m     15\u001b[0m     Embedding,\n\u001b[1;32m     16\u001b[0m     Engine,\n\u001b[1;32m     17\u001b[0m     ErrorObject,\n\u001b[1;32m     18\u001b[0m     File,\n\u001b[1;32m     19\u001b[0m     FineTune,\n\u001b[1;32m     20\u001b[0m     Image,\n\u001b[1;32m     21\u001b[0m     Model,\n\u001b[1;32m     22\u001b[0m     Moderation,\n\u001b[1;32m     23\u001b[0m     Search,\n\u001b[1;32m     24\u001b[0m )\n\u001b[1;32m     25\u001b[0m \u001b[38;5;28;01mfrom\u001b[39;00m \u001b[38;5;21;01mopenai\u001b[39;00m\u001b[38;5;21;01m.\u001b[39;00m\u001b[38;5;21;01merror\u001b[39;00m \u001b[38;5;28;01mimport\u001b[39;00m APIError, InvalidRequestError, OpenAIError\n\u001b[1;32m     27\u001b[0m api_key \u001b[38;5;241m=\u001b[39m os\u001b[38;5;241m.\u001b[39menviron\u001b[38;5;241m.\u001b[39mget(\u001b[38;5;124m\"\u001b[39m\u001b[38;5;124mOPENAI_API_KEY\u001b[39m\u001b[38;5;124m\"\u001b[39m)\n",
      "File \u001b[0;32m~/workplace/langchain/.venv/lib/python3.10/site-packages/openai/api_resources/__init__.py:1\u001b[0m\n\u001b[0;32m----> 1\u001b[0m \u001b[38;5;28;01mfrom\u001b[39;00m \u001b[38;5;21;01mopenai\u001b[39;00m\u001b[38;5;21;01m.\u001b[39;00m\u001b[38;5;21;01mapi_resources\u001b[39;00m\u001b[38;5;21;01m.\u001b[39;00m\u001b[38;5;21;01manswer\u001b[39;00m \u001b[38;5;28;01mimport\u001b[39;00m Answer  \u001b[38;5;66;03m# noqa: F401\u001b[39;00m\n\u001b[1;32m      2\u001b[0m \u001b[38;5;28;01mfrom\u001b[39;00m \u001b[38;5;21;01mopenai\u001b[39;00m\u001b[38;5;21;01m.\u001b[39;00m\u001b[38;5;21;01mapi_resources\u001b[39;00m\u001b[38;5;21;01m.\u001b[39;00m\u001b[38;5;21;01mclassification\u001b[39;00m \u001b[38;5;28;01mimport\u001b[39;00m Classification  \u001b[38;5;66;03m# noqa: F401\u001b[39;00m\n\u001b[1;32m      3\u001b[0m \u001b[38;5;28;01mfrom\u001b[39;00m \u001b[38;5;21;01mopenai\u001b[39;00m\u001b[38;5;21;01m.\u001b[39;00m\u001b[38;5;21;01mapi_resources\u001b[39;00m\u001b[38;5;21;01m.\u001b[39;00m\u001b[38;5;21;01mcompletion\u001b[39;00m \u001b[38;5;28;01mimport\u001b[39;00m Completion  \u001b[38;5;66;03m# noqa: F401\u001b[39;00m\n",
      "File \u001b[0;32m~/workplace/langchain/.venv/lib/python3.10/site-packages/openai/api_resources/answer.py:1\u001b[0m\n\u001b[0;32m----> 1\u001b[0m \u001b[38;5;28;01mfrom\u001b[39;00m \u001b[38;5;21;01mopenai\u001b[39;00m\u001b[38;5;21;01m.\u001b[39;00m\u001b[38;5;21;01mopenai_object\u001b[39;00m \u001b[38;5;28;01mimport\u001b[39;00m OpenAIObject\n\u001b[1;32m      4\u001b[0m \u001b[38;5;28;01mclass\u001b[39;00m \u001b[38;5;21;01mAnswer\u001b[39;00m(OpenAIObject):\n\u001b[1;32m      5\u001b[0m     \u001b[38;5;129m@classmethod\u001b[39m\n\u001b[1;32m      6\u001b[0m     \u001b[38;5;28;01mdef\u001b[39;00m \u001b[38;5;21mget_url\u001b[39m(\u001b[38;5;28mself\u001b[39m):\n",
      "File \u001b[0;32m~/workplace/langchain/.venv/lib/python3.10/site-packages/openai/openai_object.py:6\u001b[0m\n\u001b[1;32m      3\u001b[0m \u001b[38;5;28;01mfrom\u001b[39;00m \u001b[38;5;21;01mtyping\u001b[39;00m \u001b[38;5;28;01mimport\u001b[39;00m Optional, Tuple, Union\n\u001b[1;32m      5\u001b[0m \u001b[38;5;28;01mimport\u001b[39;00m \u001b[38;5;21;01mopenai\u001b[39;00m\n\u001b[0;32m----> 6\u001b[0m \u001b[38;5;28;01mfrom\u001b[39;00m \u001b[38;5;21;01mopenai\u001b[39;00m \u001b[38;5;28;01mimport\u001b[39;00m api_requestor, util\n\u001b[1;32m      7\u001b[0m \u001b[38;5;28;01mfrom\u001b[39;00m \u001b[38;5;21;01mopenai\u001b[39;00m\u001b[38;5;21;01m.\u001b[39;00m\u001b[38;5;21;01mopenai_response\u001b[39;00m \u001b[38;5;28;01mimport\u001b[39;00m OpenAIResponse\n\u001b[1;32m      8\u001b[0m \u001b[38;5;28;01mfrom\u001b[39;00m \u001b[38;5;21;01mopenai\u001b[39;00m\u001b[38;5;21;01m.\u001b[39;00m\u001b[38;5;21;01mutil\u001b[39;00m \u001b[38;5;28;01mimport\u001b[39;00m ApiType\n",
      "File \u001b[0;32m~/workplace/langchain/.venv/lib/python3.10/site-packages/openai/api_requestor.py:47\u001b[0m\n\u001b[1;32m     41\u001b[0m     \u001b[38;5;28;01melse\u001b[39;00m:\n\u001b[1;32m     42\u001b[0m         \u001b[38;5;28;01mraise\u001b[39;00m \u001b[38;5;167;01mValueError\u001b[39;00m(\n\u001b[1;32m     43\u001b[0m             \u001b[38;5;124m\"\u001b[39m\u001b[38;5;124m'\u001b[39m\u001b[38;5;124mopenai.proxy\u001b[39m\u001b[38;5;124m'\u001b[39m\u001b[38;5;124m must be specified as either a string URL or a dict with string URL under the https and/or http keys.\u001b[39m\u001b[38;5;124m\"\u001b[39m\n\u001b[1;32m     44\u001b[0m         )\n\u001b[0;32m---> 47\u001b[0m \u001b[38;5;28;01mdef\u001b[39;00m \u001b[38;5;21m_make_session\u001b[39m() \u001b[38;5;241m-\u001b[39m\u001b[38;5;241m>\u001b[39m \u001b[43mrequests\u001b[49m\u001b[38;5;241;43m.\u001b[39;49m\u001b[43mSession\u001b[49m:\n\u001b[1;32m     48\u001b[0m     \u001b[38;5;28;01mif\u001b[39;00m \u001b[38;5;129;01mnot\u001b[39;00m openai\u001b[38;5;241m.\u001b[39mverify_ssl_certs:\n\u001b[1;32m     49\u001b[0m         warnings\u001b[38;5;241m.\u001b[39mwarn(\u001b[38;5;124m\"\u001b[39m\u001b[38;5;124mverify_ssl_certs is ignored; openai always verifies.\u001b[39m\u001b[38;5;124m\"\u001b[39m)\n",
      "\u001b[0;31mAttributeError\u001b[0m: module 'requests' has no attribute 'Session'"
     ]
    }
   ],
   "source": [
    "llm = OpenAI(temperature=0)\n",
    "llm_chain = LLMChain(llm=llm, prompt=prompt)\n",
    "grade_outputs = llm_chain.apply(preds)"
   ]
  },
  {
   "cell_type": "code",
   "execution_count": 5,
   "id": "5ce55e73",
   "metadata": {},
   "outputs": [
    {
     "name": "stdout",
     "output_type": "stream",
     "text": [
      "Requirement already satisfied: openai in /Users/harrisonchase/workplace/langchain/.venv/lib/python3.10/site-packages (0.25.0)\n",
      "Requirement already satisfied: requests>=2.20 in /Users/harrisonchase/workplace/langchain/.venv/lib/python3.10/site-packages (from openai) (2.28.1)\n",
      "Requirement already satisfied: pandas>=1.2.3 in /Users/harrisonchase/workplace/langchain/.venv/lib/python3.10/site-packages (from openai) (1.5.2)\n",
      "Requirement already satisfied: numpy in /Users/harrisonchase/workplace/langchain/.venv/lib/python3.10/site-packages (from openai) (1.23.5)\n",
      "Requirement already satisfied: openpyxl>=3.0.7 in /Users/harrisonchase/workplace/langchain/.venv/lib/python3.10/site-packages (from openai) (3.0.10)\n",
      "Requirement already satisfied: typing-extensions in /Users/harrisonchase/workplace/langchain/.venv/lib/python3.10/site-packages (from openai) (4.4.0)\n",
      "Requirement already satisfied: tqdm in /Users/harrisonchase/workplace/langchain/.venv/lib/python3.10/site-packages (from openai) (4.64.1)\n",
      "Requirement already satisfied: pandas-stubs>=1.1.0.11 in /Users/harrisonchase/workplace/langchain/.venv/lib/python3.10/site-packages (from openai) (1.5.2.221124)\n",
      "Requirement already satisfied: et-xmlfile in /Users/harrisonchase/workplace/langchain/.venv/lib/python3.10/site-packages (from openpyxl>=3.0.7->openai) (1.1.0)\n",
      "Requirement already satisfied: python-dateutil>=2.8.1 in /Users/harrisonchase/workplace/langchain/.venv/lib/python3.10/site-packages (from pandas>=1.2.3->openai) (2.8.2)\n",
      "Requirement already satisfied: pytz>=2020.1 in /Users/harrisonchase/workplace/langchain/.venv/lib/python3.10/site-packages (from pandas>=1.2.3->openai) (2022.6)\n",
      "Requirement already satisfied: types-pytz>=2022.1.1 in /Users/harrisonchase/workplace/langchain/.venv/lib/python3.10/site-packages (from pandas-stubs>=1.1.0.11->openai) (2022.6.0.1)\n",
      "Requirement already satisfied: idna<4,>=2.5 in /Users/harrisonchase/workplace/langchain/.venv/lib/python3.10/site-packages (from requests>=2.20->openai) (3.4)\n",
      "Requirement already satisfied: urllib3<1.27,>=1.21.1 in /Users/harrisonchase/workplace/langchain/.venv/lib/python3.10/site-packages (from requests>=2.20->openai) (1.26.13)\n",
      "Requirement already satisfied: certifi>=2017.4.17 in /Users/harrisonchase/workplace/langchain/.venv/lib/python3.10/site-packages (from requests>=2.20->openai) (2022.9.24)\n",
      "Requirement already satisfied: charset-normalizer<3,>=2 in /Users/harrisonchase/workplace/langchain/.venv/lib/python3.10/site-packages (from requests>=2.20->openai) (2.1.1)\n",
      "Requirement already satisfied: six>=1.5 in /Users/harrisonchase/workplace/langchain/.venv/lib/python3.10/site-packages (from python-dateutil>=2.8.1->pandas>=1.2.3->openai) (1.16.0)\n",
      "\n",
      "\u001b[1m[\u001b[0m\u001b[34;49mnotice\u001b[0m\u001b[1;39;49m]\u001b[0m\u001b[39;49m A new release of pip available: \u001b[0m\u001b[31;49m22.3\u001b[0m\u001b[39;49m -> \u001b[0m\u001b[32;49m22.3.1\u001b[0m\n",
      "\u001b[1m[\u001b[0m\u001b[34;49mnotice\u001b[0m\u001b[1;39;49m]\u001b[0m\u001b[39;49m To update, run: \u001b[0m\u001b[32;49mpip install --upgrade pip\u001b[0m\n"
     ]
    }
   ],
   "source": [
    "!pip install -U openai"
   ]
  },
  {
   "cell_type": "code",
   "execution_count": null,
   "id": "4982ea4a",
   "metadata": {},
   "outputs": [],
   "source": []
  }
 ],
 "metadata": {
  "kernelspec": {
   "display_name": "Python 3 (ipykernel)",
   "language": "python",
   "name": "python3"
  },
  "language_info": {
   "codemirror_mode": {
    "name": "ipython",
    "version": 3
   },
   "file_extension": ".py",
   "mimetype": "text/x-python",
   "name": "python",
   "nbconvert_exporter": "python",
   "pygments_lexer": "ipython3",
   "version": "3.10.8"
  }
 },
 "nbformat": 4,
 "nbformat_minor": 5
}
