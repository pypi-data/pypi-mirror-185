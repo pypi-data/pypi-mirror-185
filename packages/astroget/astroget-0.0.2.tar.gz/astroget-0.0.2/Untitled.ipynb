{
 "cells": [
  {
   "cell_type": "code",
   "execution_count": 1,
   "id": "b323f988-7133-47d9-a61c-17bb7463203b",
   "metadata": {},
   "outputs": [],
   "source": [
    "import numpy as np\n",
    "from astropy.modeling.models import Gaussian2D\n",
    "y, x = np.mgrid[0:500, 0:500]\n",
    "data = Gaussian2D(1, 50, 100, 10, 5, theta=0.5)(x, y)"
   ]
  },
  {
   "cell_type": "code",
   "execution_count": 2,
   "id": "cd39204f-8159-4a3d-ab89-ea8fd0697256",
   "metadata": {},
   "outputs": [
    {
     "data": {
      "text/plain": [
       "<matplotlib.image.AxesImage at 0x7fb225083fd0>"
      ]
     },
     "execution_count": 2,
     "metadata": {},
     "output_type": "execute_result"
    },
    {
     "data": {
      "image/png": "[encoded data removed]",
      "text/plain": [
       "<Figure size 640x480 with 1 Axes>"
      ]
     },
     "metadata": {},
     "output_type": "display_data"
    }
   ],
   "source": [
    "import matplotlib.pyplot as plt\n",
    "plt.imshow(data, origin='lower')"
   ]
  },
  {
   "cell_type": "code",
   "execution_count": 3,
   "id": "5e544a79-b291-4dab-a975-d24f6d06da6b",
   "metadata": {},
   "outputs": [],
   "source": [
    "from astropy.nddata import Cutout2D\n",
    "from astropy import units as u\n",
    "position = (49.7, 100.1)\n",
    "size = (41, 51)     # pixels\n",
    "cutout = Cutout2D(data, position, size)"
   ]
  },
  {
   "cell_type": "code",
   "execution_count": 4,
   "id": "ee3666f2-9c55-4bb0-88bc-ccb9d8f77720",
   "metadata": {},
   "outputs": [
    {
     "data": {
      "text/plain": [
       "<matplotlib.image.AxesImage at 0x7fb224fa7430>"
      ]
     },
     "execution_count": 4,
     "metadata": {},
     "output_type": "execute_result"
    },
    {
     "data": {
      "image/png": "[encoded data removed]",
      "text/plain": [
       "<Figure size 640x480 with 1 Axes>"
      ]
     },
     "metadata": {},
     "output_type": "display_data"
    }
   ],
   "source": [
    "cutout = Cutout2D(data, position, (41, 51))\n",
    "plt.imshow(cutout.data, origin='lower')"
   ]
  },
  {
   "cell_type": "code",
   "execution_count": 9,
   "id": "6b3a7c92-27dd-431f-ad6c-5fe3926487a5",
   "metadata": {},
   "outputs": [],
   "source": [
    "from astropy.io import fits\n",
    "from astropy.nddata import Cutout2D\n",
    "from astropy.utils.data import download_file\n",
    "from astropy.wcs import WCS\n",
    "\n",
    "#url = 'https://astropy.stsci.edu/data/photometry/spitzer_example_image.fits'\n",
    "url = 'https://astroarchive.noirlab.edu/api/retrieve/a099661b099dc299aff828a753367ee8/'\n",
    "\n",
    "position = (500, 300)\n",
    "size = (400, 400)"
   ]
  },
  {
   "cell_type": "code",
   "execution_count": 10,
   "id": "e10b1564-fbc0-4ef8-a2e9-df94be7b40eb",
   "metadata": {},
   "outputs": [],
   "source": [
    "filename = download_file(url)"
   ]
  },
  {
   "cell_type": "code",
   "execution_count": 11,
   "id": "7ddcd8a9-d674-4bb4-b2c7-5b56aeabf248",
   "metadata": {},
   "outputs": [
    {
     "data": {
      "text/plain": [
       "'/tmp/astropy-download-110416-1kf51g16'"
      ]
     },
     "execution_count": 11,
     "metadata": {},
     "output_type": "execute_result"
    }
   ],
   "source": [
    "filename"
   ]
  },
  {
   "cell_type": "code",
   "execution_count": 12,
   "id": "5ef1b09c-9add-4b9f-b729-ca745e1bdc41",
   "metadata": {},
   "outputs": [
    {
     "name": "stderr",
     "output_type": "stream",
     "text": [
      "WARNING: FITSFixedWarning: RADECSYS= 'ICRS ' / Astrometric system \n",
      "the RADECSYS keyword is deprecated, use RADESYSa. [astropy.wcs.wcs]\n",
      "WARNING: FITSFixedWarning: The WCS transformation has more axes (2) than the image it is associated with (0) [astropy.wcs.wcs]\n"
     ]
    }
   ],
   "source": [
    "hdu = fits.open(filename)[0]\n",
    "wcs = WCS(hdu.header)"
   ]
  },
  {
   "cell_type": "code",
   "execution_count": 14,
   "id": "aaac2cc6-e87c-4110-bc20-520b8bbef56e",
   "metadata": {
    "collapsed": true,
    "jupyter": {
     "outputs_hidden": true
    },
    "tags": []
   },
   "outputs": [
    {
     "data": {
      "text/plain": [
       "SIMPLE  =                    T / Fits standard                                  \n",
       "BITPIX  =                   16 / Bits per pixel                                 \n",
       "NAXIS   =                    0 / Number of axes                                 \n",
       "EXTEND  =                    T / File may contain extensions                    \n",
       "ORIGIN  = 'NOAO-IRAF FITS Image Kernel July 2003' / FITS file originator        \n",
       "DATE    = '2019-07-27T11:52:53' / Date FITS file was generated                  \n",
       "IRAF-TLM= '2019-07-27T11:53:05' / Time of last modification                     \n",
       "COMMENT   FITS (Flexible Image Transport System) format is defined in 'Astronomy\n",
       "COMMENT   and Astrophysics', volume 376, page 359; bibcode: 2001A&A...376..359H \n",
       "COMMENT MODIFIED:DATE,DATE-OBS,DTACQNAM,DTCALDAT,DTINSTRU,DTNSANAM,DTPI,DTPROPID\n",
       "COMMENT ,DTSITE,DTTELESC,INSTRUME,OBSERVAT,OBSID,OBSTYPE,ODATEOBS,PROCTYPE,PRODT\n",
       "COMMENT YPE,PROPID,SIMPLE,TELESCOP,TIME-OBS                                     \n",
       "OBJECT  = 'DECaLS_41380_r'     / Name of the object observed                    \n",
       "PROCTYPE= 'InstCal '           / Data processing level                          \n",
       "PRODTYPE= 'dqmask  '           / Data product type                              \n",
       "PIXSCAL1=                 0.27 / [arcsec/pixel] Pixel scale, axis 1             \n",
       "PIXSCAL2=                 0.27 / [arcsec/pixel] Pixel scale, axis 2             \n",
       "OBS-LONG=             70.81489 / [deg] Observatory east longitude               \n",
       "TELESCOP= 'CTIO 4.0-m telescope' / Telescope name                               \n",
       "OBSERVAT= 'CTIO    '           / Observatory name                               \n",
       "OBS-LAT =            -30.16606 / [deg] Observatory latitude                     \n",
       "OBS-ELEV=                2215. / [m] Observatory elevation                      \n",
       "INSTRUME= 'DECam   '           / Instrument used to obtain these data           \n",
       "EXPREQ  =                  77. / [s] Requested exposure duration                \n",
       "EXPTIME =                  77. / [s] Exposure duration                          \n",
       "EXPDUR  =                  77. / [s] Exposure duration                          \n",
       "DARKTIME=             76.75598 / [s] Dark time                                  \n",
       "OBSID   = 'ct4m20180315t064354' / Unique Observation ID                         \n",
       "DATE-OBS= '2018-03-15T06:43:54.979284' / DateTime of observation start (UTC)    \n",
       "TIME-OBS= '06:43:54.979284'    / Time of observation start (UTC)                \n",
       "MJD-OBS =       58192.28049745 / MJD of observation start                       \n",
       "MJD-END =      58192.281388654 / Exposure end                                   \n",
       "OPENSHUT= '2018-03-15T06:43:53.674980' / Time when shutter opened (UTC)         \n",
       "TIMESYS = 'UTC     '           / Time system                                    \n",
       "EXPNUM  =               730518 / DECam exposure number                          \n",
       "OBSTYPE = 'object  '           / Type of observation                            \n",
       "CAMSHUT = 'Open    '           / Camera shutter at exposure start               \n",
       "PROGRAM = 'The DECam Legacy Survey of the SDSS Equatorial Sky' / Current observi\n",
       "OBSERVER= 'M.Landriau, A.Prakash' / Observer name(s)                            \n",
       "PROPOSER= 'Schlegel'           / Proposal Principle Investigator                \n",
       "DTPI    = 'Schlegel'           / Proposal Principle Investigator (iSTB)         \n",
       "PROPID  = '2014B-0404'         / Proposal ID                                    \n",
       "EXCLUDED= '        '           / DECam components not used for this frame       \n",
       "AOS     =                    T / AOS data available if true                     \n",
       "BCAM    =                    F / BCAM data available if true                    \n",
       "GUIDER  =                    1 / Guider (0-absent,1-ok,2-lost star,3-los        \n",
       "SKYSTAT =                    T / Cloud camera (RASICAM) available if true       \n",
       "FILTER  = 'r DECam SDSS c0002 6415.0 1480.0' / Unique filter identifier         \n",
       "FILTPOS = 'cassette_8'         / Filter position in FCM                         \n",
       "INSTANCE= 'DECam_20180314'     / SISPI instance name                            \n",
       "ERRORS  = 'None    '           / SISPI readout errors                           \n",
       "TELEQUIN=                2000. / Equinox of telescope coordinates               \n",
       "TELSTAT = 'Track   '           / Telescope tracking status                      \n",
       "RA      = '12:56:38.879'       / [HH:MM:SS] Target RA                           \n",
       "DEC     = '21:49:19.200'       / [DD:MM:SS] Target DEC                          \n",
       "TELRA   = '12:56:38.580'       / [HH:MM:SS] Telescope RA                        \n",
       "TELDEC  = '21:49:15.596'       / [DD:MM:SS] Telescope DEC                       \n",
       "HA      = '00:34:31.160'       / [HH:MM:SS] Telescope hour angle                \n",
       "ZD      =                52.53 / [deg] Telescope zenith distance                \n",
       "AZ      =             349.9594 / [deg] Telescope azimuth angle                  \n",
       "DOMEAZ  =               354.74 / [deg] Dome azimuth angle                       \n",
       "ZPDELRA =             -81.5807 / [arcsec] Telescope zeropoint adjustment (RA)   \n",
       "ZPDELDEC=                -10.7 / [arcsec] Telescope zeropoint adjustment (DEC)  \n",
       "TELFOCUS= '60.61,-2587.59,2176.45,104.08,-111.19, 0.00' / DECam hexapod settings\n",
       "VSUB    =                    T / True if CCD substrate voltage is on            \n",
       "GSKYPHOT=                    T / RASICAM global sky clear flag                  \n",
       "LSKYPHOT=                    F / RASICAM local sky clear flag                   \n",
       "WINDSPD =               17.059 / [m/s] Wind speed                               \n",
       "WINDDIR =                  18. / [deg] Wind direction (from North)              \n",
       "HUMIDITY=                  37. / [%] Ambient relative humidity (outside)        \n",
       "PRESSURE=                 778. / [Torr] Barometric pressure (outside)           \n",
       "DIMMSEE = 'NaN     '           / [arcsec] DIMM Seeing                           \n",
       "DIMM2SEE=                0.801 / [arcsec] DIMM2 Seeing                          \n",
       "MASS2   =                 0.59 /  MASS(2) FSEE                                  \n",
       "ASTIG1  =                -0.05 / 4MAPS correction 1                             \n",
       "ASTIG2  =                 0.05 / 4MAPS correction 2                             \n",
       "OUTTEMP =                 14.9 / [deg C] Outside temperature                    \n",
       "AIRMASS =                 1.64 / Airmass                                        \n",
       "GSKYVAR =                0.038 / RASICAM global sky standard deviation          \n",
       "GSKYHOT =                 0.07 / RASICAM global sky fraction above threshold    \n",
       "LSKYVAR = 'NaN     '           / RASICAM local sky standard deviation           \n",
       "LSKYHOT = 'NaN     '           / RASICAM local sky fraction above threshold     \n",
       "LSKYPOW = 'NaN     '           / RASICAM local sky normalized power             \n",
       "MSURTEMP=                 13.5 / [deg C] Mirror surface average temperature     \n",
       "MAIRTEMP=                 14.1 / [deg C] Mirror temperature above surface       \n",
       "UPTRTEMP=               15.215 / [deg C] Upper truss average temperature        \n",
       "LWTRTEMP= 'NaN     '           / [deg C] Lower truss average temperature        \n",
       "PMOSTEMP=                13.95 / [deg C] Mirror top surface temperature         \n",
       "UTN-TEMP=                15.38 / [deg C] Upper truss temperature north          \n",
       "UTS-TEMP=                14.97 / [deg C] Upper truss temperature south          \n",
       "UTW-TEMP=               15.345 / [deg C] Upper truss temperature west           \n",
       "UTE-TEMP=               15.165 / [deg C] Upper truss temperature east           \n",
       "PMN-TEMP=                 13.1 / [deg C] Mirror north edge temperature          \n",
       "PMS-TEMP=                 13.5 / [deg C] Mirror south edge temperature          \n",
       "PMW-TEMP=                 13.4 / [deg C] Mirror west edge temperature           \n",
       "PME-TEMP=                  14. / [deg C] Mirror east edge temperature           \n",
       "DOMELOW =                16.08 / [deg C] Low dome temperature                   \n",
       "DOMEHIGH=                   0. / [deg C] High dome temperature                  \n",
       "DOMEFLOR=                 12.3 / [deg C] Dome floor temperature                 \n",
       "G-MEANX =               0.0076 / [arcsec] Guider x-axis mean offset             \n",
       "G-MEANY =               0.0538 / [arcsec] Guider y-axis mean offset             \n",
       "DONUTFS4= '[2.12,1.23,-8.70,-0.17,-0.00,-0.07,-0.15,-0.12,-0.45,]' / Mean Wavefr\n",
       "DONUTFS3= '[0.41,1.89,8.82,0.05,-0.05,0.14,0.01,0.08,-0.37,]' / Mean Wavefront f\n",
       "DONUTFS2= '[0.71,0.36,-9.10,0.13,0.00,0.18,-0.05,0.34,-0.02,]' / Mean Wavefront \n",
       "DONUTFS1= '[1.20,2.28,8.88,0.36,0.14,0.18,-0.00,0.22,0.11,]' / Mean Wavefront fo\n",
       "G-FLXVAR=          5799640.933 / [arcsec] Guider mean guide star flux variances \n",
       "G-MEANXY=            -0.003176 / [arcsec2] Guider (xy) 2nd moment mean offset   \n",
       "DONUTFN1= '[-0.74,-3.54,-8.68,-0.44,-0.05,-0.14,-0.18,0.31,-0.02,]' / Mean Wavef\n",
       "DONUTFN2= '[1.35,1.26,8.77,-0.38,-0.03,0.13,0.01,0.22,-0.07,]' / Mean Wavefront \n",
       "DONUTFN3= '[1.40,1.12,-8.69,0.02,-0.12,-0.06,-0.04,0.03,0.32,]' / Mean Wavefront\n",
       "DONUTFN4= '[1.74,1.59,8.79,0.18,-0.19,0.10,-0.00,-0.06,0.24,]' / Mean Wavefront \n",
       "HIERARCH TIME_RECORDED = '2018-03-15T06:45:33.200473'                           \n",
       "G-FEEDBK= '10, 5   '           / [%] Guider feedback (HA, dec)                  \n",
       "G-CCDNUM=                    4 / Number of guide CCDs that remained active      \n",
       "DOXT    =                 0.04 / [arcsec] X-theta from donut analysis           \n",
       "G-MAXX  =               0.1142 / [arcsec] Guider x-axis maximum offset          \n",
       "FADZ    =                -1.49 / [um] FA Delta focus.                           \n",
       "FADY    =                -3.05 / [um] FA Delta Y.                               \n",
       "FADX    =               -380.9 / [um] FA Delta X.                               \n",
       "G-MODE  = 'auto    '           / Guider operation mode                          \n",
       "FAYT    =                 6.19 / [arcsec] FA Delta Y-theta.                     \n",
       "DODZ    =                -1.49 / [um] Delta-Z from donut analysis               \n",
       "DODY    =                -1.02 / [um] Y-decenter from donut analysis            \n",
       "DODX    =                -0.77 / [um] X-decenter from donut analysis            \n",
       "MULTIEXP=                    F / Frame contains multiple exposures if true      \n",
       "SKYUPDAT= '2018-03-15T06:43:38' / Time of last RASICAM exposure (UTC)           \n",
       "G-SEEING=                1.896 / [arcsec] Guider average seeing                 \n",
       "G-TRANSP=                 0.74 / Guider average sky transparency                \n",
       "G-MEANY2=             0.026967 / [arcsec2] Guider (y) 2nd moment mean offset    \n",
       "DOYT    =                 0.03 / [arcsec] Y-theta from donut analysis           \n",
       "G-LATENC=                1.317 / [s] Guider avg. latency between exposures      \n",
       "LUTVER  = 'v20160516'          / Hexapod Lookup Table version                   \n",
       "FAXT    =                 -0.7 / [arcsec] FA Delta X-theta.                     \n",
       "G-MAXY  =               0.4334 / [arcsec] Guider y-axis maximum offset          \n",
       "G-MEANX2=             0.004521 / [arcsec2] Guider (x) 2nd moment mean offset    \n",
       "SISPIVER= 'trunk   '           / SISPI software version                         \n",
       "CONSTVER= 'DECAM:56'           / SISPI constants version                        \n",
       "HDRVER  = '13      '           / DECam fits header version                      \n",
       "DTCALDAT= '2018-03-14'                                                          \n",
       "DTNSANAM= 'c4d_180315_064354_ood_r_ls9.fits.fz'                                 \n",
       "ODATEOBS= '2018-03-15T06:43:54.979284'                                          \n",
       "DTTELESC= 'ct4m    '                                                            \n",
       "DTACQNAM= '/data_local/images/DTS/2014B-0404/DECam_00730518.fits.fz'            \n",
       "DTPROPID= '2014B-0404'                                                          \n",
       "DTINSTRU= 'decam   '                                                            \n",
       "DTSITE  = 'ct      '                                                            \n",
       "DETSIZE = '[1:29400,1:29050]'  / Detector size                                  \n",
       "CCDSEC  = '[1:2048,1:4096]'    / CCD section to display                         \n",
       "CCDBIN1 =                    1 / Pixel binning, axis 1                          \n",
       "CCDBIN2 =                    1 / Pixel binning, axis 2                          \n",
       "DHEINF  = 'MNSN fermi hardware' / DHE Hardware                                  \n",
       "DHEFIRM = 'demo30  '           / DHE Firmware                                   \n",
       "SLOT01  = 'DESCB 0x0 4.010000' / Monsoon module                                 \n",
       "SLOT03  = 'CCD12 0x0 4.080000' / Monsoon module                                 \n",
       "RADESYS = 'FK5     '           / World coordinate reference frame               \n",
       "EQUINOX =        2000.00000000 / Mean equinox                                   \n",
       "VALIDA  =                    T / Data from amp A is valid                       \n",
       "VALIDB  =                    T / Data from amp B is valid                       \n",
       "NDONUTS =                    0 / AOS number of donuts analyzed for this CCD     \n",
       "        = '        '                                                            \n",
       "PHOTFLAG=                    0 / Night Photometric (1) or not (0)               \n",
       "XTALKFIL= 'xtalk_20130606.txt' / Crosstalk file                                 \n",
       "BAND    = 'r       '                                                            \n",
       "NITE    = '20180314'                                                            \n",
       "LINCFIL = 'linearity_table_v0.4.fits' / Nonlinearity correction file            \n",
       "HISTORY DESDM: mkbleedmask -m -b 5 -f 1.0 -l 7 -n 7 -r 5 -s 40 -t 20 -v 3 -y 1.0\n",
       "HISTORY  -E 5 /data/sharedfs/deccp/NHPPS_DATA/DCP/DCP_CCD/DECALS_DR9_952cf52-fil\n",
       "DES_EXT = 'IMAGE   '                                                            \n",
       "RADECSYS= 'ICRS    '           / Astrometric system                             \n",
       "SCAMPFLG=                    0 / WCS successful                                 \n",
       "HISTORY tections done. Saving with no changes to either masks.                  \n",
       "PUPILSKY=               269.35                                                  \n",
       "PUPILMAX=             2.702855                                                  \n",
       "PUPILAMP=           0.01003473                                                  \n",
       "SKYORDER=                    8                                                  \n",
       "SKYSUB  =             269.5163                                                  \n",
       "NEXTEND =                    2                                                  \n",
       "FILENAME= 'DECALS_DR9_952cf52-r-20180315T064354_od'                             \n",
       "PLVER   = 'V4.8.2a '                                                            \n",
       "PLDNAME = 'DECALS_DR9_952cf52'                                                  \n",
       "PLQUEUE = 'DECALS  '                                                            \n",
       "PLQNAME = 'DR9     '                                                            \n",
       "PLPROCID= '952cf52 '                                                            \n",
       "PLFNAME = 'DECALS_DR9_952cf52-r-20180315T064354_od'                             \n",
       "WCSCAL  = 'Failed  '           / Astrometric calibration                        \n",
       "CHECKSUM= 'RHTWS9SWRGSWR9SW'   / HDU checksum updated 2019-07-30T22:54:45       \n",
       "DATASUM = '0       '           / data unit checksum updated 2019-07-30T22:54:45 "
      ]
     },
     "execution_count": 14,
     "metadata": {},
     "output_type": "execute_result"
    }
   ],
   "source": [
    "hdu.header"
   ]
  },
  {
   "cell_type": "code",
   "execution_count": 15,
   "id": "1ae99678-a505-4bfa-8dd3-3d138d150b65",
   "metadata": {},
   "outputs": [
    {
     "name": "stdout",
     "output_type": "stream",
     "text": [
      "Filename: /tmp/astropy-download-110416-1kf51g16\n",
      "No.    Name      Ver    Type      Cards   Dimensions   Format\n",
      "  0  PRIMARY       1 PrimaryHDU     187   ()      \n",
      "  1  S29           1 CompImageHDU    108   (2046, 4094)   int32   \n",
      "  2  S30           1 CompImageHDU    108   (2046, 4094)   int32   \n",
      "  3  S31           1 CompImageHDU    108   (2046, 4094)   int32   \n",
      "  4  S25           1 CompImageHDU    108   (2046, 4094)   int32   \n",
      "  5  S26           1 CompImageHDU    108   (2046, 4094)   int32   \n",
      "  6  S27           1 CompImageHDU    108   (2046, 4094)   int32   \n",
      "  7  S28           1 CompImageHDU    108   (2046, 4094)   int32   \n",
      "  8  S20           1 CompImageHDU    108   (2046, 4094)   int32   \n",
      "  9  S21           1 CompImageHDU    108   (2046, 4094)   int32   \n",
      " 10  S22           1 CompImageHDU    108   (2046, 4094)   int32   \n",
      " 11  S23           1 CompImageHDU    108   (2046, 4094)   int32   \n",
      " 12  S24           1 CompImageHDU    108   (2046, 4094)   int32   \n",
      " 13  S14           1 CompImageHDU    108   (2046, 4094)   int32   \n",
      " 14  S15           1 CompImageHDU    108   (2046, 4094)   int32   \n",
      " 15  S16           1 CompImageHDU    108   (2046, 4094)   int32   \n",
      " 16  S17           1 CompImageHDU    108   (2046, 4094)   int32   \n",
      " 17  S18           1 CompImageHDU    108   (2046, 4094)   int32   \n",
      " 18  S19           1 CompImageHDU    108   (2046, 4094)   int32   \n",
      " 19  S8            1 CompImageHDU    108   (2046, 4094)   int32   \n",
      " 20  S9            1 CompImageHDU    108   (2046, 4094)   int32   \n",
      " 21  S10           1 CompImageHDU    108   (2046, 4094)   int32   \n",
      " 22  S11           1 CompImageHDU    108   (2046, 4094)   int32   \n",
      " 23  S12           1 CompImageHDU    108   (2046, 4094)   int32   \n",
      " 24  S13           1 CompImageHDU    108   (2046, 4094)   int32   \n",
      " 25  S1            1 CompImageHDU    108   (2046, 4094)   int32   \n",
      " 26  S2            1 CompImageHDU    108   (2046, 4094)   int32   \n",
      " 27  S3            1 CompImageHDU    108   (2046, 4094)   int32   \n",
      " 28  S4            1 CompImageHDU    106   (2046, 4094)   int32   \n",
      " 29  S5            1 CompImageHDU    106   (2046, 4094)   int32   \n",
      " 30  S6            1 CompImageHDU    106   (2046, 4094)   int32   \n",
      " 31  S7            1 CompImageHDU    103   (2046, 4094)   int32   \n",
      " 32  N1            1 CompImageHDU    108   (2046, 4094)   int32   \n",
      " 33  N2            1 CompImageHDU    108   (2046, 4094)   int32   \n",
      " 34  N3            1 CompImageHDU    108   (2046, 4094)   int32   \n",
      " 35  N4            1 CompImageHDU    106   (2046, 4094)   int32   \n",
      " 36  N5            1 CompImageHDU    106   (2046, 4094)   int32   \n",
      " 37  N6            1 CompImageHDU    106   (2046, 4094)   int32   \n",
      " 38  N7            1 CompImageHDU    106   (2046, 4094)   int32   \n",
      " 39  N8            1 CompImageHDU    108   (2046, 4094)   int32   \n",
      " 40  N9            1 CompImageHDU    108   (2046, 4094)   int32   \n",
      " 41  N10           1 CompImageHDU    108   (2046, 4094)   int32   \n",
      " 42  N11           1 CompImageHDU    108   (2046, 4094)   int32   \n",
      " 43  N12           1 CompImageHDU    108   (2046, 4094)   int32   \n",
      " 44  N13           1 CompImageHDU    108   (2046, 4094)   int32   \n",
      " 45  N14           1 CompImageHDU    108   (2046, 4094)   int32   \n",
      " 46  N15           1 CompImageHDU    108   (2046, 4094)   int32   \n",
      " 47  N16           1 CompImageHDU    108   (2046, 4094)   int32   \n",
      " 48  N17           1 CompImageHDU    108   (2046, 4094)   int32   \n",
      " 49  N18           1 CompImageHDU    108   (2046, 4094)   int32   \n",
      " 50  N19           1 CompImageHDU    108   (2046, 4094)   int32   \n",
      " 51  N20           1 CompImageHDU    108   (2046, 4094)   int32   \n",
      " 52  N21           1 CompImageHDU    108   (2046, 4094)   int32   \n",
      " 53  N22           1 CompImageHDU    108   (2046, 4094)   int32   \n",
      " 54  N23           1 CompImageHDU    108   (2046, 4094)   int32   \n",
      " 55  N24           1 CompImageHDU    108   (2046, 4094)   int32   \n",
      " 56  N25           1 CompImageHDU    108   (2046, 4094)   int32   \n",
      " 57  N26           1 CompImageHDU    108   (2046, 4094)   int32   \n",
      " 58  N27           1 CompImageHDU    108   (2046, 4094)   int32   \n",
      " 59  N28           1 CompImageHDU    108   (2046, 4094)   int32   \n",
      " 60  N29           1 CompImageHDU    108   (2046, 4094)   int32   \n",
      " 61  N31           1 CompImageHDU    108   (2046, 4094)   int32   \n"
     ]
    }
   ],
   "source": [
    "fits.info(filename)"
   ]
  },
  {
   "cell_type": "code",
   "execution_count": 16,
   "id": "7816e3d6-24fb-4176-b58f-3b0ecebc2ddf",
   "metadata": {},
   "outputs": [],
   "source": [
    "image_data = fits.getdata(filename, ext=1)"
   ]
  },
  {
   "cell_type": "code",
   "execution_count": 17,
   "id": "ccba2c17-0747-4180-a5c8-75d4d54d539b",
   "metadata": {},
   "outputs": [
    {
     "data": {
      "text/plain": [
       "(4094, 2046)"
      ]
     },
     "execution_count": 17,
     "metadata": {},
     "output_type": "execute_result"
    }
   ],
   "source": [
    "image_data.shape"
   ]
  },
  {
   "cell_type": "code",
   "execution_count": null,
   "id": "ae80f174-1399-45f4-924a-4961e61e119f",
   "metadata": {},
   "outputs": [],
   "source": []
  }
 ],
 "metadata": {
  "kernelspec": {
   "display_name": "Python 3 (ipykernel)",
   "language": "python",
   "name": "python3"
  },
  "language_info": {
   "codemirror_mode": {
    "name": "ipython",
    "version": 3
   },
   "file_extension": ".py",
   "mimetype": "text/x-python",
   "name": "python",
   "nbconvert_exporter": "python",
   "pygments_lexer": "ipython3",
   "version": "3.10.5"
  }
 },
 "nbformat": 4,
 "nbformat_minor": 5
}
