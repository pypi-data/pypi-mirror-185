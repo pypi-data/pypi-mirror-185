{
 "cells": [
  {
   "cell_type": "code",
   "execution_count": 1,
   "metadata": {},
   "outputs": [],
   "source": [
    "__author__ = 'Steve Pothier <steve.pothier@noirlab.edu>'\n",
    "__version__ = '20230112' # yyyymmdd; \n",
    "__keywords__ = ['HowTo', 'astronomy', 'tutorial']"
   ]
  },
  {
   "cell_type": "markdown",
   "metadata": {},
   "source": [
    "# ASTROGET"
   ]
  },
  {
   "cell_type": "markdown",
   "metadata": {},
   "source": [
    "This notebook demonstrates using the `astroget` package to get metadata and pixel data from the [NOIRLab Astro Data Archive](https://astroarchive.noirlab.edu/)."
   ]
  },
  {
   "cell_type": "markdown",
   "metadata": {},
   "source": [
    "### Table of contents\n",
    "* [Goals & Summary](#goalssummary)\n",
    "* [Imports and setup](#imports)\n",
    "* [Data sets available in SPARCL](#datasets)\n",
    "* [Get default field names](#defaultfieldnames)\n",
    "* [Get all field names](#allfieldnames)\n",
    "* [Data discovery I: using SPARCL's <tt>client.find()</tt> method](#datadiscoveryI)\n",
    "* [Data discovery II: using Data Lab's <tt>sparcl.main_desi</tt> table](#datadiscoveryII)\n",
    "* [Retrieve records by <tt>id</tt> using <tt>client.retrieve()</tt>](#retrieve)\n",
    "* [Access fields in records](#access)\n",
    "* [Convert retrieved output to Pandas DataFrame or Spectrum1D object](#convert)\n",
    "* [Plot spectra](#plot)"
   ]
  },
  {
   "cell_type": "markdown",
   "metadata": {
    "tags": []
   },
   "source": [
    "<a class=\"anchor\" id=\"goals\"></a>\n",
    "## Goals & Summary \n",
    "Demonstrate the use of the `astroget` package to get metadata and pixel data from the [NOIRLab Astro Data Archive](https://astroarchive.noirlab.edu/). \n",
    "- Discovery: Search for matching metadata and return metadata records.\n",
    "- Find images containing regions of sky (SIA)\n",
    "- Retrieve images\n",
    "  + Full FITS file\n",
    "  + Single HDU of FITS file\n",
    "  + Cutout of rectangular region of one HDU of a FITS file (as a new FITS file)\n"
   ]
  },
  {
   "cell_type": "markdown",
   "metadata": {},
   "source": [
    "<a class=\"anchor\" id=\"install\"></a>\n",
    "## Install the most recent version of the `astroget`:\n",
    "*NOTE: After installing the most recent version, please restart your kernel.*"
   ]
  },
  {
   "cell_type": "code",
   "execution_count": 3,
   "metadata": {},
   "outputs": [
    {
     "name": "stdout",
     "output_type": "stream",
     "text": [
      "Requirement already satisfied: sparclclient==1.1 in /Users/alice.jacques/anaconda3/lib/python3.8/site-packages (1.1)\n",
      "Requirement already satisfied: numpy in /Users/alice.jacques/anaconda3/lib/python3.8/site-packages (from sparclclient==1.1) (1.23.5)\n",
      "Requirement already satisfied: spectres in /Users/alice.jacques/anaconda3/lib/python3.8/site-packages (from sparclclient==1.1) (2.1.1)\n",
      "Requirement already satisfied: requests==2.26.0 in /Users/alice.jacques/anaconda3/lib/python3.8/site-packages (from sparclclient==1.1) (2.26.0)\n",
      "Requirement already satisfied: certifi>=2017.4.17 in /Users/alice.jacques/anaconda3/lib/python3.8/site-packages (from requests==2.26.0->sparclclient==1.1) (2022.9.24)\n",
      "Requirement already satisfied: idna<4,>=2.5 in /Users/alice.jacques/anaconda3/lib/python3.8/site-packages (from requests==2.26.0->sparclclient==1.1) (3.4)\n",
      "Requirement already satisfied: charset-normalizer~=2.0.0 in /Users/alice.jacques/anaconda3/lib/python3.8/site-packages (from requests==2.26.0->sparclclient==1.1) (2.0.12)\n",
      "Requirement already satisfied: urllib3<1.27,>=1.21.1 in /Users/alice.jacques/anaconda3/lib/python3.8/site-packages (from requests==2.26.0->sparclclient==1.1) (1.26.13)\n",
      "\n",
      "\u001b[1m[\u001b[0m\u001b[34;49mnotice\u001b[0m\u001b[1;39;49m]\u001b[0m\u001b[39;49m A new release of pip available: \u001b[0m\u001b[31;49m22.2.2\u001b[0m\u001b[39;49m -> \u001b[0m\u001b[32;49m22.3.1\u001b[0m\n",
      "\u001b[1m[\u001b[0m\u001b[34;49mnotice\u001b[0m\u001b[1;39;49m]\u001b[0m\u001b[39;49m To update, run: \u001b[0m\u001b[32;49mpip install --upgrade pip\u001b[0m\n"
     ]
    }
   ],
   "source": [
    "!pip install -U astroget"
   ]
  },
  {
   "cell_type": "markdown",
   "metadata": {},
   "source": [
    "<a class=\"anchor\" id=\"imports\"></a>\n",
    "## Imports and Setup"
   ]
  },
  {
   "cell_type": "code",
   "execution_count": 4,
   "metadata": {},
   "outputs": [
    {
     "name": "stderr",
     "output_type": "stream",
     "text": [
      "/Users/alice.jacques/anaconda3/lib/python3.8/site-packages/requests/__init__.py:102: RequestsDependencyWarning: urllib3 (1.26.13) or chardet (5.0.0)/charset_normalizer (2.0.12) doesn't match a supported version!\n",
      "  warnings.warn(\"urllib3 ({}) or chardet ({})/charset_normalizer ({}) doesn't match a supported \"\n",
      "/Users/alice.jacques/anaconda3/lib/python3.8/site-packages/pandas/core/computation/expressions.py:20: UserWarning: Pandas requires version '2.7.3' or newer of 'numexpr' (version '2.7.1' currently installed).\n",
      "  from pandas.core.computation.check import NUMEXPR_INSTALLED\n",
      "<frozen importlib._bootstrap>:219: RuntimeWarning: scipy._lib.messagestream.MessageStream size changed, may indicate binary incompatibility. Expected 56 from C header, got 64 from PyObject\n"
     ]
    }
   ],
   "source": [
    "import astroget.client\n",
    "\n",
    "# %matplotlib inline\n",
    "%matplotlib widget\n",
    "plt.rcParams['font.size'] = 14"
   ]
  },
  {
   "cell_type": "code",
   "execution_count": 5,
   "metadata": {},
   "outputs": [
    {
     "data": {
      "text/plain": [
       "(sparclclient:1.1, api:8.0, https://sparclstage.datalab.noirlab.edu/sparc, verbose=False, connect_timeout=1.1, read_timeout=5400)"
      ]
     },
     "execution_count": 5,
     "metadata": {},
     "output_type": "execute_result"
    }
   ],
   "source": [
    "client = sparcl.client.CsDcClient()\n",
    "client"
   ]
  },
  {
   "cell_type": "markdown",
   "metadata": {},
   "source": [
    "import astroget.client<a class=\"anchor\" id=\"datasets\"></a>\n",
    "## Data sets available in SPARCL\n",
    "List all currently available data sets from the server/url associated with client"
   ]
  },
  {
   "cell_type": "code",
   "execution_count": 6,
   "metadata": {},
   "outputs": [
    {
     "data": {
      "text/plain": [
       "{'BOSS-DR16', 'DESI-EDR', 'SDSS-DR16'}"
      ]
     },
     "execution_count": 6,
     "metadata": {},
     "output_type": "execute_result"
    }
   ],
   "source": [
    "client.all_datasets"
   ]
  },
  {
   "cell_type": "markdown",
   "metadata": {},
   "source": [
    "<a class=\"anchor\" id=\"defaultfieldnames\"></a>\n",
    "## Get default field names\n",
    "Gets fields tagged as 'default' that are common to all data sets in the `dataset_list` passed to the function. If `dataset_list` is None (the default), the function returns the intersection of 'default' fields across all datasets currently available in the SPARC database."
   ]
  },
  {
   "cell_type": "code",
   "execution_count": 7,
   "metadata": {},
   "outputs": [
    {
     "data": {
      "text/plain": [
       "\u001b[0;31mSignature:\u001b[0m \u001b[0mclient\u001b[0m\u001b[0;34m.\u001b[0m\u001b[0mget_default_fields\u001b[0m\u001b[0;34m(\u001b[0m\u001b[0;34m*\u001b[0m\u001b[0;34m,\u001b[0m \u001b[0mdataset_list\u001b[0m\u001b[0;34m=\u001b[0m\u001b[0;32mNone\u001b[0m\u001b[0;34m)\u001b[0m\u001b[0;34m\u001b[0m\u001b[0;34m\u001b[0m\u001b[0m\n",
       "\u001b[0;31mDocstring:\u001b[0m\n",
       "Get fields tagged as 'default' that are in DATASET_LIST.\n",
       "These are the fields used for the DEFAULT value of the include\n",
       "parameter of client.retrieve().\n",
       "\n",
       "Args:\n",
       "    dataset_list (:obj:`list`, optional): List of data sets from\n",
       "        which to get the default fields. Defaults to None, which\n",
       "        will return the intersection of default fields in all\n",
       "        data sets hosted on the SPARC database.\n",
       "\n",
       "Returns:\n",
       "    List of fields tagged as 'default' from DATASET_LIST.\n",
       "\n",
       "Example:\n",
       "    >>> client = sparcl.client.SparclClient()\n",
       "    >>> client.get_default_fields()\n",
       "\u001b[0;31mFile:\u001b[0m      ~/anaconda3/lib/python3.8/site-packages/sparcl/client.py\n",
       "\u001b[0;31mType:\u001b[0m      method\n"
      ]
     },
     "metadata": {},
     "output_type": "display_data"
    }
   ],
   "source": [
    "client.get_default_fields?"
   ]
  },
  {
   "cell_type": "code",
   "execution_count": 8,
   "metadata": {},
   "outputs": [
    {
     "data": {
      "text/plain": [
       "['dec', 'flux', 'id', 'ra', 'specid', 'wavelength']"
      ]
     },
     "execution_count": 8,
     "metadata": {},
     "output_type": "execute_result"
    }
   ],
   "source": [
    "client.get_default_fields(dataset_list=['DESI-EDR'])"
   ]
  },
  {
   "cell_type": "markdown",
   "metadata": {},
   "source": [
    "<a class=\"anchor\" id=\"allfieldnames\"></a>\n",
    "## Get all field names\n",
    "Gets fields tagged as 'all' that are common to all data sets in the `dataset_list` passed to the function. If `dataset_list` is None (the default), the function returns the intersection of 'all' fields across all datasets currently available in the SPARC database. "
   ]
  },
  {
   "cell_type": "code",
   "execution_count": 9,
   "metadata": {},
   "outputs": [
    {
     "data": {
      "text/plain": [
       "\u001b[0;31mSignature:\u001b[0m \u001b[0mclient\u001b[0m\u001b[0;34m.\u001b[0m\u001b[0mget_all_fields\u001b[0m\u001b[0;34m(\u001b[0m\u001b[0;34m*\u001b[0m\u001b[0;34m,\u001b[0m \u001b[0mdataset_list\u001b[0m\u001b[0;34m=\u001b[0m\u001b[0;32mNone\u001b[0m\u001b[0;34m)\u001b[0m\u001b[0;34m\u001b[0m\u001b[0;34m\u001b[0m\u001b[0m\n",
       "\u001b[0;31mDocstring:\u001b[0m\n",
       "Get fields tagged as 'all' that are in DATASET_LIST.\n",
       "These are the fields used for the ALL value of the include parameter\n",
       "of client.retrieve().\n",
       "\n",
       "Args:\n",
       "    dataset_list (:obj:`list`, optional): List of data sets from\n",
       "        which to get all fields. Defaults to None, which\n",
       "        will return the intersection of all fields in all\n",
       "        data sets hosted on the SPARC database.\n",
       "\n",
       "Returns:\n",
       "    List of fields tagged as 'all' from DATASET_LIST.\n",
       "\n",
       "Example:\n",
       "    >>> client = sparcl.client.SparclClient()\n",
       "    >>> client.get_all_fields()\n",
       "\u001b[0;31mFile:\u001b[0m      ~/anaconda3/lib/python3.8/site-packages/sparcl/client.py\n",
       "\u001b[0;31mType:\u001b[0m      method\n"
      ]
     },
     "metadata": {},
     "output_type": "display_data"
    }
   ],
   "source": [
    "client.get_all_fields?"
   ]
  },
  {
   "cell_type": "code",
   "execution_count": 10,
   "metadata": {},
   "outputs": [
    {
     "name": "stdout",
     "output_type": "stream",
     "text": [
      "['data_release', 'datasetgroup', 'dateobs', 'dateobs_center', 'dec', 'exptime', 'flux', 'healpix', 'id', 'instrument', 'ivar', 'mask', 'model', 'program', 'ra', 'redshift', 'redshift_err', 'redshift_warning', 'site', 'specid', 'specprimary', 'spectype', 'survey', 'sv_primary', 'targetid', 'telescope', 'wave_sigma', 'wavelength', 'wavemax', 'wavemin']\n"
     ]
    }
   ],
   "source": [
    "print(sorted(client.get_all_fields(dataset_list=['DESI-EDR'])))"
   ]
  },
  {
   "cell_type": "markdown",
   "metadata": {},
   "source": [
    "<a class=\"anchor\" id=\"datadiscoveryI\"></a>\n",
    "## Data discovery I: using SPARCL's `client.find()` method\n",
    "The first way you can discover your data is by using SPARCL's `client.find()` method, which allows you to find records in the SPARCL database based on certain parameters passed to the function. Only Core fields may be in the `outfields` and `constraints` parameters. The descriptions for all fields, including Core fields, is located [here](http://sparclstage.datalab.noirlab.edu/sparc/sfc/). The SPARCL Core fields constraint types are:\n",
    "\n",
    "\n",
    "| Field name       | Constraint type | Example |\n",
    "|:----------------|:---------------|:-------|\n",
    "| id               | List of values (but not<br>intended for data discovery) | ['00001658-460c-4da1-987d-e493d8c9b89b',<br>'000017b6-56a2-4f87-8828-3a3409ba1083']\n",
    "| specid           | List of values | [6988698046080241664, 6971782884823945216]\n",
    "| targetid         | List of values | [1237679502171374316, 1237678619584692841]\n",
    "| data_release     | List of allowed values<br>from [SPARCL Categoricals](http://sparclstage.datalab.noirlab.edu/sparc/cats/) | ['BOSS-DR16', 'DESI-EDR', 'SDSS-DR16']\n",
    "| datasetgroup     | List of allowed values<br>from [SPARCL Categoricals](hhttp://sparclstage.datalab.noirlab.edu/sparc/cats/) | ['DESI', 'SDSS_BOSS']\n",
    "| ra               | Range of values (may not<br>\"wrap\" around RA=0) | [44.53, 47.96]\n",
    "| dec              | Range of values | [2.03, 7.76]\n",
    "| redshift         | Range of values | [0.5, 0.9]\n",
    "| redshift_err     | Range of values | [0.000225, 0.000516]\n",
    "| redshift_warning | List of values  | [0, 3, 5]\n",
    "| spectype         | List of allowed values<br>from [SPARCL Categoricals](http://sparclstage.datalab.noirlab.edu/sparc/cats/) | ['GALAXY', 'STAR']\n",
    "| instrument       | List of allowed values<br>from [SPARCL Categoricals](http://sparclstage.datalab.noirlab.edu/sparc/cats/) | ['BOSS', 'DESI', 'SDSS']\n",
    "| telescope        | List of allowed values<br>from [SPARCL Categoricals](http://sparclstage.datalab.noirlab.edu/sparc/cats/) | ['kp4m', 'sloan25m']\n",
    "| site             | List of allowed values<br>from [SPARCL Categoricals](http://sparclstage.datalab.noirlab.edu/sparc/cats/) |  ['apo', 'kpno']\n",
    "| specprimary      | List of values (but typically<br>would only include 1 if<br>being used for data<br>discovery constraints) | [1]\n",
    "| wavemin          | Range of values | [3607, 3608]\n",
    "| wavemax          | Range of values | [10363, 10364]\n",
    "| dateobs_center   | Range of values | ['2013-03-14T10:16:17Z',<br>'2014-05-24T12:10:00Z']\n",
    "| exptime          | Range of values | [3603.46, 3810.12]\n",
    "| updated          | Range of values | ['2022-08-20T21:37:50.636363Z',<br>'2022-09-20T20:00:00.000000Z']\n"
   ]
  },
  {
   "cell_type": "code",
   "execution_count": 11,
   "metadata": {},
   "outputs": [
    {
     "data": {
      "text/plain": [
       "\u001b[0;31mSignature:\u001b[0m \u001b[0mclient\u001b[0m\u001b[0;34m.\u001b[0m\u001b[0mfind\u001b[0m\u001b[0;34m(\u001b[0m\u001b[0moutfields\u001b[0m\u001b[0;34m=\u001b[0m\u001b[0;32mNone\u001b[0m\u001b[0;34m,\u001b[0m \u001b[0;34m*\u001b[0m\u001b[0;34m,\u001b[0m \u001b[0mconstraints\u001b[0m\u001b[0;34m=\u001b[0m\u001b[0;34m{\u001b[0m\u001b[0;34m}\u001b[0m\u001b[0;34m,\u001b[0m \u001b[0mlimit\u001b[0m\u001b[0;34m=\u001b[0m\u001b[0;36m500\u001b[0m\u001b[0;34m,\u001b[0m \u001b[0msort\u001b[0m\u001b[0;34m=\u001b[0m\u001b[0;32mNone\u001b[0m\u001b[0;34m)\u001b[0m\u001b[0;34m\u001b[0m\u001b[0;34m\u001b[0m\u001b[0m\n",
       "\u001b[0;31mDocstring:\u001b[0m\n",
       "Find records in the SPARC database.\n",
       "\n",
       "Args:\n",
       "    outfields (:obj:`list`, optional): List of fields to return.\n",
       "        Only CORE fields may be passed to this parameter.\n",
       "        Defaults to None, which will return only the id and _dr\n",
       "        fields.\n",
       "\n",
       "    constraints (:obj:`dict`, optional): Key-Value pairs of\n",
       "        constraints to place on the record selection. The Key\n",
       "        part of the Key-Value pair is the field name and the\n",
       "        Value part of the Key-Value pair is a list of values.\n",
       "        Defaults to no constraints. This will return all records in the\n",
       "        database subject to restrictions imposed by the ``limit``\n",
       "        parameter.\n",
       "\n",
       "    limit (:obj:`int`, optional): Maximum number of records to\n",
       "        return. Defaults to 500.\n",
       "\n",
       "    sort (:obj:`list`, optional): Comma separated list of fields\n",
       "        to sort by. Defaults to None. (no sorting)\n",
       "\n",
       "Returns:\n",
       "    :class:`~sparcl.Results.Found`: Contains header and records.\n",
       "\n",
       "Example:\n",
       "    >>> client = sparcl.client.SparclClient()\n",
       "    >>> outs = ['id', 'ra', 'dec']\n",
       "    >>> cons = {'spectype': ['GALAXY'], 'redshift': [0.5, 0.9]}\n",
       "    >>> found = client.find(outfields=outs, constraints=cons)\n",
       "    >>> found.records\n",
       "\u001b[0;31mFile:\u001b[0m      ~/anaconda3/lib/python3.8/site-packages/sparcl/client.py\n",
       "\u001b[0;31mType:\u001b[0m      method\n"
      ]
     },
     "metadata": {},
     "output_type": "display_data"
    }
   ],
   "source": [
    "client.find?"
   ]
  },
  {
   "cell_type": "markdown",
   "metadata": {},
   "source": [
    "#### Define the fields we want returned (`outfields`) and the constraints (`constraints`):"
   ]
  },
  {
   "cell_type": "code",
   "execution_count": 12,
   "metadata": {},
   "outputs": [],
   "source": [
    "out = ['id', 'ra', 'dec', 'redshift', 'spectype', 'data_release', 'redshift_err']\n",
    "cons = {'spectype': ['GALAXY'],\n",
    "        'redshift': [0.5, 0.9],\n",
    "        'data_release': ['BOSS-DR16', 'SDSS-DR16', 'DESI-EDR']}"
   ]
  },
  {
   "cell_type": "markdown",
   "metadata": {},
   "source": [
    "#### Execute the `client.find()` method with our parameters:\n",
    "The `limit` argument here is being used for demonstration purposes only, and simply returns only the first 20 results here."
   ]
  },
  {
   "cell_type": "code",
   "execution_count": 13,
   "metadata": {},
   "outputs": [
    {
     "data": {
      "text/plain": [
       "['DESI-EDR, 000001ce-1432-4e38-9609-2b579a01f079, 165.061429, 0.813519',\n",
       " 'BOSS-DR16, 00000a7a-579e-4617-bde7-40cb06813278, 133.832300, 0.562171',\n",
       " 'BOSS-DR16, 000025a4-c7b9-4729-afaf-e5b67076c4ec, 136.219720, 0.517059',\n",
       " 'DESI-EDR, 000025d7-d443-47d4-8b86-96eb5a6ecc42, 186.170259, 0.558836',\n",
       " 'BOSS-DR16, 0000369a-273f-4ffa-b700-61a986eafc74, 177.533290, 0.502516',\n",
       " 'DESI-EDR, 00003a53-dba4-4e7e-ba20-33d1d0fa8cbc, 240.298043, 0.886934',\n",
       " 'BOSS-DR16, 00003ab0-15d9-4b62-a187-08889be043a7, 4.177912, 0.885493',\n",
       " 'BOSS-DR16, 00005446-0b24-438f-b11f-b967480aa12f, 342.749110, 0.888598',\n",
       " 'BOSS-DR16, 00005687-1514-47c2-8395-42df66ed6894, 152.388040, 0.582597',\n",
       " 'BOSS-DR16, 00006319-bf2e-4791-947f-49a3f18dac90, 162.858130, 0.592236',\n",
       " 'BOSS-DR16, 00006ac2-23a2-4d1f-b595-73e04ac63158, 21.289818, 0.559281',\n",
       " 'BOSS-DR16, 00006edb-7225-4e14-afcc-121d216556cf, 246.221190, 0.538009',\n",
       " 'BOSS-DR16, 000070af-f9c3-4ccd-b9eb-4cf9bccb172a, 177.944580, 0.508008',\n",
       " 'DESI-EDR, 00007875-1c56-4f84-9680-9acc886a4748, 166.646747, 0.548366',\n",
       " 'BOSS-DR16, 00007f01-0f99-4116-b472-802068e735b6, 30.370707, 0.515920',\n",
       " 'BOSS-DR16, 00008c04-ecaa-4082-ba52-e2d32748fc3a, 166.053070, 0.504173',\n",
       " 'BOSS-DR16, 00009298-d63f-4d49-b80d-32bd033da223, 356.885590, 0.533314',\n",
       " 'BOSS-DR16, 0000941b-ea14-4ae6-9cce-9b98d0a6694d, 350.874650, 0.524597',\n",
       " 'BOSS-DR16, 0000969c-23e8-4d67-9b17-d42f25de4858, 226.933710, 0.550321',\n",
       " 'BOSS-DR16, 0000a1cb-0dc2-48b9-aa75-7d6fb6c283d3, 24.870197, 0.610002']"
      ]
     },
     "execution_count": 13,
     "metadata": {},
     "output_type": "execute_result"
    }
   ],
   "source": [
    "found_I = client.find(outfields=out, constraints=cons, limit=20)\n",
    "[\"%s, %s, %f, %f\" % (f['data_release'],f['id'],f['ra'],f['redshift']) for f in found_I.records]"
   ]
  },
  {
   "cell_type": "markdown",
   "metadata": {},
   "source": [
    "<a class=\"anchor\" id=\"datadiscoveryII\"></a>\n",
    "## Data discovery II: using Data Lab's `sparcl.main_desi` table\n",
    "The second way you can discover your data is by querying the `sparcl.main_desi` table hosted at Data Lab on db01 (temporary place and name until DESI is ready to go public). Once DESI is ready to go public, this table will be renamed to `sparcl.main` and copied to our Production servers."
   ]
  },
  {
   "cell_type": "code",
   "execution_count": 14,
   "metadata": {},
   "outputs": [],
   "source": [
    "qc.set_profile('db01')"
   ]
  },
  {
   "cell_type": "code",
   "execution_count": 15,
   "metadata": {},
   "outputs": [
    {
     "data": {
      "text/plain": [
       "'db01'"
      ]
     },
     "execution_count": 15,
     "metadata": {},
     "output_type": "execute_result"
    }
   ],
   "source": [
    "qc.get_profile()"
   ]
  },
  {
   "cell_type": "markdown",
   "metadata": {},
   "source": [
    "#### Query this table for a few rows of data:"
   ]
  },
  {
   "cell_type": "code",
   "execution_count": 16,
   "metadata": {},
   "outputs": [
    {
     "name": "stdout",
     "output_type": "stream",
     "text": [
      "CPU times: user 37.3 ms, sys: 6.88 ms, total: 44.2 ms\n",
      "Wall time: 278 ms\n"
     ]
    },
    {
     "data": {
      "text/html": [
       "<div>\n",
       "<style scoped>\n",
       "    .dataframe tbody tr th:only-of-type {\n",
       "        vertical-align: middle;\n",
       "    }\n",
       "\n",
       "    .dataframe tbody tr th {\n",
       "        vertical-align: top;\n",
       "    }\n",
       "\n",
       "    .dataframe thead th {\n",
       "        text-align: right;\n",
       "    }\n",
       "</style>\n",
       "<table border=\"1\" class=\"dataframe\">\n",
       "  <thead>\n",
       "    <tr style=\"text-align: right;\">\n",
       "      <th></th>\n",
       "      <th>id</th>\n",
       "      <th>specid</th>\n",
       "      <th>ra</th>\n",
       "      <th>dec</th>\n",
       "      <th>redshift</th>\n",
       "      <th>spectype</th>\n",
       "      <th>data_release</th>\n",
       "      <th>redshift_err</th>\n",
       "    </tr>\n",
       "  </thead>\n",
       "  <tbody>\n",
       "    <tr>\n",
       "      <th>0</th>\n",
       "      <td>bff3b698-7fe7-4f8b-82db-2da926943718</td>\n",
       "      <td>3256236197621557248</td>\n",
       "      <td>181.019720</td>\n",
       "      <td>0.251678</td>\n",
       "      <td>0.533363</td>\n",
       "      <td>GALAXY</td>\n",
       "      <td>SDSS-DR16</td>\n",
       "      <td>0.000038</td>\n",
       "    </tr>\n",
       "    <tr>\n",
       "      <th>1</th>\n",
       "      <td>4cff768f-a28b-4860-a5d7-fd143a75c422</td>\n",
       "      <td>39633416345354557</td>\n",
       "      <td>189.750500</td>\n",
       "      <td>62.500957</td>\n",
       "      <td>0.618982</td>\n",
       "      <td>GALAXY</td>\n",
       "      <td>DESI-EDR</td>\n",
       "      <td>0.000084</td>\n",
       "    </tr>\n",
       "    <tr>\n",
       "      <th>2</th>\n",
       "      <td>7d0e1233-338d-4458-9266-404157f3027b</td>\n",
       "      <td>39627902957913055</td>\n",
       "      <td>211.128546</td>\n",
       "      <td>4.871387</td>\n",
       "      <td>0.847476</td>\n",
       "      <td>GALAXY</td>\n",
       "      <td>DESI-EDR</td>\n",
       "      <td>0.000108</td>\n",
       "    </tr>\n",
       "    <tr>\n",
       "      <th>3</th>\n",
       "      <td>0346aa84-5432-461b-bd5e-4f396e35d625</td>\n",
       "      <td>39628395465670984</td>\n",
       "      <td>193.071361</td>\n",
       "      <td>25.950393</td>\n",
       "      <td>0.826560</td>\n",
       "      <td>GALAXY</td>\n",
       "      <td>DESI-EDR</td>\n",
       "      <td>0.000035</td>\n",
       "    </tr>\n",
       "    <tr>\n",
       "      <th>4</th>\n",
       "      <td>4275d096-2490-4afb-84fa-54098c8f8900</td>\n",
       "      <td>616088504471912965</td>\n",
       "      <td>219.296593</td>\n",
       "      <td>-1.522164</td>\n",
       "      <td>0.653171</td>\n",
       "      <td>GALAXY</td>\n",
       "      <td>DESI-EDR</td>\n",
       "      <td>0.000062</td>\n",
       "    </tr>\n",
       "    <tr>\n",
       "      <th>5</th>\n",
       "      <td>ff594e5e-d15d-48e4-9fe0-28b5e0d78b7d</td>\n",
       "      <td>39628454563415544</td>\n",
       "      <td>193.457294</td>\n",
       "      <td>28.689220</td>\n",
       "      <td>0.734129</td>\n",
       "      <td>GALAXY</td>\n",
       "      <td>DESI-EDR</td>\n",
       "      <td>0.000082</td>\n",
       "    </tr>\n",
       "    <tr>\n",
       "      <th>6</th>\n",
       "      <td>32ad391b-5e7b-41c5-b1c1-68932357f0b1</td>\n",
       "      <td>39627763623135913</td>\n",
       "      <td>182.120423</td>\n",
       "      <td>-0.950399</td>\n",
       "      <td>0.538820</td>\n",
       "      <td>GALAXY</td>\n",
       "      <td>DESI-EDR</td>\n",
       "      <td>0.000110</td>\n",
       "    </tr>\n",
       "    <tr>\n",
       "      <th>7</th>\n",
       "      <td>7ecf8711-1bc8-449b-85e6-fd6238721fd9</td>\n",
       "      <td>39633425279222476</td>\n",
       "      <td>271.739360</td>\n",
       "      <td>63.160572</td>\n",
       "      <td>0.872827</td>\n",
       "      <td>GALAXY</td>\n",
       "      <td>DESI-EDR</td>\n",
       "      <td>0.000036</td>\n",
       "    </tr>\n",
       "    <tr>\n",
       "      <th>8</th>\n",
       "      <td>23075b53-bf8c-443f-bcb1-d41b9fa15452</td>\n",
       "      <td>39632945853498819</td>\n",
       "      <td>186.384933</td>\n",
       "      <td>33.136714</td>\n",
       "      <td>0.800302</td>\n",
       "      <td>GALAXY</td>\n",
       "      <td>DESI-EDR</td>\n",
       "      <td>0.000023</td>\n",
       "    </tr>\n",
       "    <tr>\n",
       "      <th>9</th>\n",
       "      <td>fff2c501-bb4f-4609-be96-6b5c724f081d</td>\n",
       "      <td>39627233710575456</td>\n",
       "      <td>85.338813</td>\n",
       "      <td>-23.384716</td>\n",
       "      <td>0.691024</td>\n",
       "      <td>GALAXY</td>\n",
       "      <td>DESI-EDR</td>\n",
       "      <td>0.000039</td>\n",
       "    </tr>\n",
       "    <tr>\n",
       "      <th>10</th>\n",
       "      <td>383ec3f2-dd2f-4852-8c57-02467e7cb16a</td>\n",
       "      <td>3161547080401446912</td>\n",
       "      <td>256.701740</td>\n",
       "      <td>28.003924</td>\n",
       "      <td>0.753723</td>\n",
       "      <td>GALAXY</td>\n",
       "      <td>SDSS-DR16</td>\n",
       "      <td>0.000130</td>\n",
       "    </tr>\n",
       "    <tr>\n",
       "      <th>11</th>\n",
       "      <td>9da43d3e-c388-45b1-a383-533a6f4f9d3d</td>\n",
       "      <td>39633158261443317</td>\n",
       "      <td>235.819622</td>\n",
       "      <td>44.534959</td>\n",
       "      <td>0.755015</td>\n",
       "      <td>GALAXY</td>\n",
       "      <td>DESI-EDR</td>\n",
       "      <td>0.000161</td>\n",
       "    </tr>\n",
       "    <tr>\n",
       "      <th>12</th>\n",
       "      <td>cc28a19e-0261-40ef-bf27-de4ee5405443</td>\n",
       "      <td>39627776268960769</td>\n",
       "      <td>215.784522</td>\n",
       "      <td>-0.408668</td>\n",
       "      <td>0.634736</td>\n",
       "      <td>GALAXY</td>\n",
       "      <td>DESI-EDR</td>\n",
       "      <td>0.000097</td>\n",
       "    </tr>\n",
       "    <tr>\n",
       "      <th>13</th>\n",
       "      <td>7af7997b-bb2f-4ecf-99a0-b2f9f6106dab</td>\n",
       "      <td>39628460712267527</td>\n",
       "      <td>251.520220</td>\n",
       "      <td>29.064409</td>\n",
       "      <td>0.771297</td>\n",
       "      <td>GALAXY</td>\n",
       "      <td>DESI-EDR</td>\n",
       "      <td>0.000091</td>\n",
       "    </tr>\n",
       "    <tr>\n",
       "      <th>14</th>\n",
       "      <td>fd7685a2-6613-40c9-ae48-a24a29daee83</td>\n",
       "      <td>39627805360652963</td>\n",
       "      <td>149.778057</td>\n",
       "      <td>0.777050</td>\n",
       "      <td>0.817149</td>\n",
       "      <td>GALAXY</td>\n",
       "      <td>DESI-EDR</td>\n",
       "      <td>0.000016</td>\n",
       "    </tr>\n",
       "    <tr>\n",
       "      <th>15</th>\n",
       "      <td>166c7ad1-02ab-418e-82f0-ac47e082bf95</td>\n",
       "      <td>39633290075835488</td>\n",
       "      <td>217.780894</td>\n",
       "      <td>52.838876</td>\n",
       "      <td>0.802857</td>\n",
       "      <td>GALAXY</td>\n",
       "      <td>DESI-EDR</td>\n",
       "      <td>0.000126</td>\n",
       "    </tr>\n",
       "    <tr>\n",
       "      <th>16</th>\n",
       "      <td>8e8d9d19-9020-438c-aa44-8c3f1ac3c5bc</td>\n",
       "      <td>39633314830615098</td>\n",
       "      <td>175.347322</td>\n",
       "      <td>54.443833</td>\n",
       "      <td>0.839805</td>\n",
       "      <td>GALAXY</td>\n",
       "      <td>DESI-EDR</td>\n",
       "      <td>0.000106</td>\n",
       "    </tr>\n",
       "    <tr>\n",
       "      <th>17</th>\n",
       "      <td>bbe841ce-810c-4b07-95aa-edd08ef8c586</td>\n",
       "      <td>39632957232651290</td>\n",
       "      <td>278.354831</td>\n",
       "      <td>33.716423</td>\n",
       "      <td>0.688974</td>\n",
       "      <td>GALAXY</td>\n",
       "      <td>DESI-EDR</td>\n",
       "      <td>0.000073</td>\n",
       "    </tr>\n",
       "    <tr>\n",
       "      <th>18</th>\n",
       "      <td>9a44035c-5ed2-474b-b53b-6f2e6b370be0</td>\n",
       "      <td>39627799866115162</td>\n",
       "      <td>182.291675</td>\n",
       "      <td>0.515507</td>\n",
       "      <td>0.610866</td>\n",
       "      <td>GALAXY</td>\n",
       "      <td>DESI-EDR</td>\n",
       "      <td>0.000117</td>\n",
       "    </tr>\n",
       "    <tr>\n",
       "      <th>19</th>\n",
       "      <td>e3b94ff2-ad29-4c94-b3b6-63d38ec3317e</td>\n",
       "      <td>39628390038245277</td>\n",
       "      <td>194.307202</td>\n",
       "      <td>25.855697</td>\n",
       "      <td>0.787590</td>\n",
       "      <td>GALAXY</td>\n",
       "      <td>DESI-EDR</td>\n",
       "      <td>0.000044</td>\n",
       "    </tr>\n",
       "  </tbody>\n",
       "</table>\n",
       "</div>"
      ],
      "text/plain": [
       "                                      id               specid          ra  \\\n",
       "0   bff3b698-7fe7-4f8b-82db-2da926943718  3256236197621557248  181.019720   \n",
       "1   4cff768f-a28b-4860-a5d7-fd143a75c422    39633416345354557  189.750500   \n",
       "2   7d0e1233-338d-4458-9266-404157f3027b    39627902957913055  211.128546   \n",
       "3   0346aa84-5432-461b-bd5e-4f396e35d625    39628395465670984  193.071361   \n",
       "4   4275d096-2490-4afb-84fa-54098c8f8900   616088504471912965  219.296593   \n",
       "5   ff594e5e-d15d-48e4-9fe0-28b5e0d78b7d    39628454563415544  193.457294   \n",
       "6   32ad391b-5e7b-41c5-b1c1-68932357f0b1    39627763623135913  182.120423   \n",
       "7   7ecf8711-1bc8-449b-85e6-fd6238721fd9    39633425279222476  271.739360   \n",
       "8   23075b53-bf8c-443f-bcb1-d41b9fa15452    39632945853498819  186.384933   \n",
       "9   fff2c501-bb4f-4609-be96-6b5c724f081d    39627233710575456   85.338813   \n",
       "10  383ec3f2-dd2f-4852-8c57-02467e7cb16a  3161547080401446912  256.701740   \n",
       "11  9da43d3e-c388-45b1-a383-533a6f4f9d3d    39633158261443317  235.819622   \n",
       "12  cc28a19e-0261-40ef-bf27-de4ee5405443    39627776268960769  215.784522   \n",
       "13  7af7997b-bb2f-4ecf-99a0-b2f9f6106dab    39628460712267527  251.520220   \n",
       "14  fd7685a2-6613-40c9-ae48-a24a29daee83    39627805360652963  149.778057   \n",
       "15  166c7ad1-02ab-418e-82f0-ac47e082bf95    39633290075835488  217.780894   \n",
       "16  8e8d9d19-9020-438c-aa44-8c3f1ac3c5bc    39633314830615098  175.347322   \n",
       "17  bbe841ce-810c-4b07-95aa-edd08ef8c586    39632957232651290  278.354831   \n",
       "18  9a44035c-5ed2-474b-b53b-6f2e6b370be0    39627799866115162  182.291675   \n",
       "19  e3b94ff2-ad29-4c94-b3b6-63d38ec3317e    39628390038245277  194.307202   \n",
       "\n",
       "          dec  redshift spectype data_release  redshift_err  \n",
       "0    0.251678  0.533363   GALAXY    SDSS-DR16      0.000038  \n",
       "1   62.500957  0.618982   GALAXY     DESI-EDR      0.000084  \n",
       "2    4.871387  0.847476   GALAXY     DESI-EDR      0.000108  \n",
       "3   25.950393  0.826560   GALAXY     DESI-EDR      0.000035  \n",
       "4   -1.522164  0.653171   GALAXY     DESI-EDR      0.000062  \n",
       "5   28.689220  0.734129   GALAXY     DESI-EDR      0.000082  \n",
       "6   -0.950399  0.538820   GALAXY     DESI-EDR      0.000110  \n",
       "7   63.160572  0.872827   GALAXY     DESI-EDR      0.000036  \n",
       "8   33.136714  0.800302   GALAXY     DESI-EDR      0.000023  \n",
       "9  -23.384716  0.691024   GALAXY     DESI-EDR      0.000039  \n",
       "10  28.003924  0.753723   GALAXY    SDSS-DR16      0.000130  \n",
       "11  44.534959  0.755015   GALAXY     DESI-EDR      0.000161  \n",
       "12  -0.408668  0.634736   GALAXY     DESI-EDR      0.000097  \n",
       "13  29.064409  0.771297   GALAXY     DESI-EDR      0.000091  \n",
       "14   0.777050  0.817149   GALAXY     DESI-EDR      0.000016  \n",
       "15  52.838876  0.802857   GALAXY     DESI-EDR      0.000126  \n",
       "16  54.443833  0.839805   GALAXY     DESI-EDR      0.000106  \n",
       "17  33.716423  0.688974   GALAXY     DESI-EDR      0.000073  \n",
       "18   0.515507  0.610866   GALAXY     DESI-EDR      0.000117  \n",
       "19  25.855697  0.787590   GALAXY     DESI-EDR      0.000044  "
      ]
     },
     "execution_count": 16,
     "metadata": {},
     "output_type": "execute_result"
    }
   ],
   "source": [
    "%%time\n",
    "q = \"\"\"SELECT \n",
    "            id, specid, ra, dec, redshift, spectype, data_release, redshift_err\n",
    "        FROM \n",
    "            sparcl.main_desi\n",
    "        WHERE \n",
    "            spectype='GALAXY'\n",
    "            AND redshift>=0.5 AND redshift<=0.9\n",
    "            AND (data_release='DESI-EDR' OR data_release='SDSS-DR16')\n",
    "            AND random_id BETWEEN 25.1 AND 26.4\n",
    "        LIMIT 20\n",
    "    \"\"\"\n",
    "found_II = qc.query(sql=q, fmt='pandas')  # output as Pandas DataFrame\n",
    "found_II"
   ]
  },
  {
   "cell_type": "markdown",
   "metadata": {},
   "source": [
    "<a class=\"anchor\" id=\"retrieve\"></a>\n",
    "## Retrieve records by `id` using `client.retrieve()`\n",
    "In order to retrieve spectra records from SPARCL by `id`, pass the following to the `client.retrieve()` method:\n",
    "```\n",
    "uuid_list : List of IDs.\n",
    "dataset_list : List of data sets to search for the IDs in (default: None).\n",
    "include : List of field names to include in each record (default: 'DEFAULT').\n",
    "```\n",
    "\n",
    "**NOTE: A reasonable amount of records to request retrieval of is about 10,000. Exceeding this value may cause the retrieval to timeout or fail.**"
   ]
  },
  {
   "cell_type": "code",
   "execution_count": 17,
   "metadata": {},
   "outputs": [
    {
     "data": {
      "text/plain": [
       "\u001b[0;31mSignature:\u001b[0m\n",
       "\u001b[0mclient\u001b[0m\u001b[0;34m.\u001b[0m\u001b[0mretrieve\u001b[0m\u001b[0;34m(\u001b[0m\u001b[0;34m\u001b[0m\n",
       "\u001b[0;34m\u001b[0m    \u001b[0muuid_list\u001b[0m\u001b[0;34m,\u001b[0m\u001b[0;34m\u001b[0m\n",
       "\u001b[0;34m\u001b[0m    \u001b[0;34m*\u001b[0m\u001b[0;34m,\u001b[0m\u001b[0;34m\u001b[0m\n",
       "\u001b[0;34m\u001b[0m    \u001b[0msvc\u001b[0m\u001b[0;34m=\u001b[0m\u001b[0;34m'spectras'\u001b[0m\u001b[0;34m,\u001b[0m\u001b[0;34m\u001b[0m\n",
       "\u001b[0;34m\u001b[0m    \u001b[0mformat\u001b[0m\u001b[0;34m=\u001b[0m\u001b[0;34m'pkl'\u001b[0m\u001b[0;34m,\u001b[0m\u001b[0;34m\u001b[0m\n",
       "\u001b[0;34m\u001b[0m    \u001b[0minclude\u001b[0m\u001b[0;34m=\u001b[0m\u001b[0;34m'DEFAULT'\u001b[0m\u001b[0;34m,\u001b[0m\u001b[0;34m\u001b[0m\n",
       "\u001b[0;34m\u001b[0m    \u001b[0mdataset_list\u001b[0m\u001b[0;34m=\u001b[0m\u001b[0;32mNone\u001b[0m\u001b[0;34m,\u001b[0m\u001b[0;34m\u001b[0m\n",
       "\u001b[0;34m\u001b[0m    \u001b[0mlimit\u001b[0m\u001b[0;34m=\u001b[0m\u001b[0;36m500\u001b[0m\u001b[0;34m,\u001b[0m\u001b[0;34m\u001b[0m\n",
       "\u001b[0;34m\u001b[0m    \u001b[0mchunk\u001b[0m\u001b[0;34m=\u001b[0m\u001b[0;36m500\u001b[0m\u001b[0;34m,\u001b[0m\u001b[0;34m\u001b[0m\n",
       "\u001b[0;34m\u001b[0m    \u001b[0mverbose\u001b[0m\u001b[0;34m=\u001b[0m\u001b[0;32mNone\u001b[0m\u001b[0;34m,\u001b[0m\u001b[0;34m\u001b[0m\n",
       "\u001b[0;34m\u001b[0m\u001b[0;34m)\u001b[0m\u001b[0;34m\u001b[0m\u001b[0;34m\u001b[0m\u001b[0m\n",
       "\u001b[0;31mDocstring:\u001b[0m\n",
       "Retrieve spectra records from the SPARC database by list of ids.\n",
       "\n",
       "Args:\n",
       "    uuid_list (:obj:`list`): List of ids.\n",
       "\n",
       "    svc (:obj:`str`, optional): Defaults to 'spectras'.\n",
       "\n",
       "    format (:obj:`str`, optional): Defaults to 'pkl'.\n",
       "\n",
       "    include (:obj:`list`, optional): List of field names to include\n",
       "        in each record. Defaults to 'DEFAULT', which will return\n",
       "        the fields tagged as 'default'.\n",
       "\n",
       "    dataset_list (:obj:`list`, optional): List of data sets from\n",
       "        which to retrieve spectra data. Defaults to None, meaning all\n",
       "        data sets hosted on the SPARC database.\n",
       "\n",
       "    limit (:obj:`int`, optional): Maximum number of records to\n",
       "        return. Defaults to 500.\n",
       "\n",
       "    chunk (:obj:`int`, optional): Size of chunks to break list into.\n",
       "        Defaults to 500.\n",
       "\n",
       "    verbose (:obj:`bool`, optional): Set to True for in-depth return\n",
       "        statement. Defaults to False.\n",
       "\n",
       "Returns:\n",
       "    :class:`~sparcl.Results.Retrieved`: Contains header and records.\n",
       "\n",
       "Example:\n",
       "    >>> client = sparcl.client.SparclClient()\n",
       "    >>> ids = ['000017b6-56a2-4f87-8828-3a3409ba1083',]\n",
       "    >>> inc = ['id', 'flux', 'wavelength', 'model']\n",
       "    >>> ret = client.retrieve(uuid_list=ids, include=inc)\n",
       "    >>> ret.records\n",
       "\u001b[0;31mFile:\u001b[0m      ~/anaconda3/lib/python3.8/site-packages/sparcl/client.py\n",
       "\u001b[0;31mType:\u001b[0m      method\n"
      ]
     },
     "metadata": {},
     "output_type": "display_data"
    }
   ],
   "source": [
    "client.retrieve?"
   ]
  },
  {
   "cell_type": "markdown",
   "metadata": {},
   "source": [
    "#### Use the IDs from the output of using `client.find()` to retrieve records from SPARCL:\n",
    "Note that `ids` in `found_I.ids` is a property name of the Found class. It is a list of records from all records, not a field name of a record."
   ]
  },
  {
   "cell_type": "code",
   "execution_count": 18,
   "metadata": {},
   "outputs": [],
   "source": [
    "# Define the fields to include in the retrieve function\n",
    "inc = ['id', 'specid', 'data_release', 'redshift', 'flux', 'wavelength',\n",
    "       'model', 'ivar', 'mask', 'spectype']"
   ]
  },
  {
   "cell_type": "code",
   "execution_count": 19,
   "metadata": {},
   "outputs": [
    {
     "name": "stdout",
     "output_type": "stream",
     "text": [
      "CPU times: user 65.6 ms, sys: 64.1 ms, total: 130 ms\n",
      "Wall time: 1.62 s\n"
     ]
    },
    {
     "data": {
      "text/plain": [
       "{'status': {'success': True,\n",
       "  'info': [\"Successfully found 20 records in dr_list=['BOSS-DR16', 'SDSS-DR16', 'DESI-EDR']\"],\n",
       "  'warnings': []},\n",
       " 'Count': 20}"
      ]
     },
     "execution_count": 19,
     "metadata": {},
     "output_type": "execute_result"
    }
   ],
   "source": [
    "%%time\n",
    "ids_I = found_I.ids\n",
    "results_I = client.retrieve(uuid_list=ids_I,\n",
    "                          include=inc,\n",
    "                          dataset_list=['BOSS-DR16', 'SDSS-DR16', 'DESI-EDR'])\n",
    "results_I.info"
   ]
  },
  {
   "cell_type": "markdown",
   "metadata": {},
   "source": [
    "#### Find IDs from SDSS-DR16 and BOSS-DR16, then retrieve AUX records"
   ]
  },
  {
   "cell_type": "code",
   "execution_count": 20,
   "metadata": {},
   "outputs": [],
   "source": [
    "out = ['id']\n",
    "cons = {'spectype': ['QSO'],\n",
    "        'specprimary': [1],\n",
    "        'data_release': ['BOSS-DR16', 'SDSS-DR16']}"
   ]
  },
  {
   "cell_type": "code",
   "execution_count": 21,
   "metadata": {},
   "outputs": [],
   "source": [
    "found_III = client.find(outfields=out, constraints=cons, limit=20)"
   ]
  },
  {
   "cell_type": "code",
   "execution_count": 22,
   "metadata": {},
   "outputs": [],
   "source": [
    "incl = ['id', 'specid', 'data_release', 'plate', 'fiberid', 'mjd', 'run2d']"
   ]
  },
  {
   "cell_type": "code",
   "execution_count": 23,
   "metadata": {},
   "outputs": [
    {
     "name": "stdout",
     "output_type": "stream",
     "text": [
      "CPU times: user 34.7 ms, sys: 6.59 ms, total: 41.3 ms\n",
      "Wall time: 263 ms\n"
     ]
    },
    {
     "data": {
      "text/plain": [
       "{'status': {'success': True,\n",
       "  'info': [\"Successfully found 20 records in dr_list=['BOSS-DR16', 'SDSS-DR16']\"],\n",
       "  'warnings': []},\n",
       " 'Count': 20}"
      ]
     },
     "execution_count": 23,
     "metadata": {},
     "output_type": "execute_result"
    }
   ],
   "source": [
    "%%time\n",
    "ids_III = found_III.ids\n",
    "results_III = client.retrieve(uuid_list=ids_III,\n",
    "                          include=incl,\n",
    "                          dataset_list=['BOSS-DR16', 'SDSS-DR16'])\n",
    "results_III.info"
   ]
  },
  {
   "cell_type": "code",
   "execution_count": 24,
   "metadata": {},
   "outputs": [
    {
     "name": "stdout",
     "output_type": "stream",
     "text": [
      "For specid = 6976207868027752448 from data_release = BOSS-DR16\n",
      "Plate: 6196, FiberID: 480, MJD: 56189, Run2D: v5_13_0\n"
     ]
    }
   ],
   "source": [
    "# Access the first retrieved record\n",
    "records_III = results_III.records[0]\n",
    "\n",
    "specid = records_III.specid\n",
    "data_release = records_III.data_release\n",
    "plate = records_III.plate\n",
    "fiberid = records_III.fiberid\n",
    "mjd = records_III.mjd\n",
    "run2d = records_III.run2d\n",
    "\n",
    "print(f\"For specid = {specid} from data_release = {data_release}\\n\"\n",
    "      f\"Plate: {plate}, FiberID: {fiberid}, MJD: {mjd}, Run2D: {run2d}\")"
   ]
  },
  {
   "cell_type": "markdown",
   "metadata": {},
   "source": [
    "#### Use the specIDs from the `sparcl.main_desi` table to retrieve records from SPARCL:\n",
    "We first need to convert the Pandas Series of specIDs into an int list to work with SPARCL. Then we can pass the int list to the `client.retrieve_by_specid()` method."
   ]
  },
  {
   "cell_type": "code",
   "execution_count": 25,
   "metadata": {},
   "outputs": [],
   "source": [
    "specids = [int(s) for s in found_II['specid']]"
   ]
  },
  {
   "cell_type": "code",
   "execution_count": 26,
   "metadata": {},
   "outputs": [
    {
     "name": "stdout",
     "output_type": "stream",
     "text": [
      "CPU times: user 134 ms, sys: 92.5 ms, total: 227 ms\n",
      "Wall time: 2.52 s\n"
     ]
    },
    {
     "data": {
      "text/plain": [
       "{'status': {'success': True,\n",
       "  'info': [\"Successfully found 21 records in dr_list=['DESI-EDR', 'SDSS-DR16']\"],\n",
       "  'warnings': []},\n",
       " 'Count': 21}"
      ]
     },
     "execution_count": 26,
     "metadata": {},
     "output_type": "execute_result"
    }
   ],
   "source": [
    "%%time\n",
    "results_II = client.retrieve_by_specid(specid_list=specids,\n",
    "                          include=inc,\n",
    "                          dataset_list=['DESI-EDR', 'SDSS-DR16'])\n",
    "results_II.info"
   ]
  },
  {
   "cell_type": "markdown",
   "metadata": {},
   "source": [
    "<a class=\"anchor\" id=\"access\"></a>\n",
    "## Access fields in records\n",
    "You can access the fields from records by using dot notation and dictionary indexing."
   ]
  },
  {
   "cell_type": "markdown",
   "metadata": {},
   "source": [
    "#### Accessing a record from our example using `client.find()` and `client.retrieve()`:"
   ]
  },
  {
   "cell_type": "code",
   "execution_count": 27,
   "metadata": {},
   "outputs": [],
   "source": [
    "records_I = results_I.records[0]\n",
    "\n",
    "id_I = records_I.id\n",
    "data_release_I = records_I.data_release\n",
    "redshift_I = records_I.redshift\n",
    "flux_I = records_I.flux\n",
    "wavelength_I = records_I.wavelength\n",
    "model_I = records_I.model\n",
    "ivar_I = records_I.ivar\n",
    "mask_I = records_I.mask\n",
    "spectype_I = records_I.spectype"
   ]
  },
  {
   "cell_type": "markdown",
   "metadata": {},
   "source": [
    "<a class=\"anchor\" id=\"convert\"></a>\n",
    "## Convert retrieved output to Pandas DataFrame or Spectrum1D object"
   ]
  },
  {
   "cell_type": "markdown",
   "metadata": {},
   "source": [
    "#### Pandas DataFrame:"
   ]
  },
  {
   "cell_type": "code",
   "execution_count": 28,
   "metadata": {},
   "outputs": [
    {
     "data": {
      "text/html": [
       "<div>\n",
       "<style scoped>\n",
       "    .dataframe tbody tr th:only-of-type {\n",
       "        vertical-align: middle;\n",
       "    }\n",
       "\n",
       "    .dataframe tbody tr th {\n",
       "        vertical-align: top;\n",
       "    }\n",
       "\n",
       "    .dataframe thead th {\n",
       "        text-align: right;\n",
       "    }\n",
       "</style>\n",
       "<table border=\"1\" class=\"dataframe\">\n",
       "  <thead>\n",
       "    <tr style=\"text-align: right;\">\n",
       "      <th></th>\n",
       "      <th>data_release</th>\n",
       "      <th>id</th>\n",
       "      <th>redshift</th>\n",
       "      <th>wavelength</th>\n",
       "      <th>flux</th>\n",
       "    </tr>\n",
       "  </thead>\n",
       "  <tbody>\n",
       "    <tr>\n",
       "      <th>0</th>\n",
       "      <td>DESI-EDR</td>\n",
       "      <td>000001ce-1432-4e38-9609-2b579a01f079</td>\n",
       "      <td>0.813519</td>\n",
       "      <td>[3600.0, 3600.8, 3601.6000000000004, 3602.4000...</td>\n",
       "      <td>[1.0961802005767822, -1.6880725622177124, 2.30...</td>\n",
       "    </tr>\n",
       "    <tr>\n",
       "      <th>1</th>\n",
       "      <td>BOSS-DR16</td>\n",
       "      <td>00000a7a-579e-4617-bde7-40cb06813278</td>\n",
       "      <td>0.562171</td>\n",
       "      <td>[3555.4944085859292, 3556.3131856898544, 3557....</td>\n",
       "      <td>[3.6426377296447754, 3.642536163330078, 3.6424...</td>\n",
       "    </tr>\n",
       "    <tr>\n",
       "      <th>2</th>\n",
       "      <td>BOSS-DR16</td>\n",
       "      <td>000025a4-c7b9-4729-afaf-e5b67076c4ec</td>\n",
       "      <td>0.517059</td>\n",
       "      <td>[3568.617492834813, 3569.439291988468, 3570.26...</td>\n",
       "      <td>[-0.596808671951294, 0.030597688630223274, 2.3...</td>\n",
       "    </tr>\n",
       "    <tr>\n",
       "      <th>3</th>\n",
       "      <td>DESI-EDR</td>\n",
       "      <td>000025d7-d443-47d4-8b86-96eb5a6ecc42</td>\n",
       "      <td>0.558836</td>\n",
       "      <td>[3600.0, 3600.8, 3601.6000000000004, 3602.4000...</td>\n",
       "      <td>[2.4511337280273438, -2.0913825035095215, 0.15...</td>\n",
       "    </tr>\n",
       "    <tr>\n",
       "      <th>4</th>\n",
       "      <td>BOSS-DR16</td>\n",
       "      <td>0000369a-273f-4ffa-b700-61a986eafc74</td>\n",
       "      <td>0.502516</td>\n",
       "      <td>[3554.6758199906994, 3555.494408585933, 3556.3...</td>\n",
       "      <td>[-10.43215560913086, -10.43178939819336, -7.89...</td>\n",
       "    </tr>\n",
       "    <tr>\n",
       "      <th>5</th>\n",
       "      <td>DESI-EDR</td>\n",
       "      <td>00003a53-dba4-4e7e-ba20-33d1d0fa8cbc</td>\n",
       "      <td>0.886934</td>\n",
       "      <td>[3600.0, 3600.8, 3601.6000000000004, 3602.4000...</td>\n",
       "      <td>[-7.370975017547607, -4.113868713378906, -3.39...</td>\n",
       "    </tr>\n",
       "    <tr>\n",
       "      <th>6</th>\n",
       "      <td>BOSS-DR16</td>\n",
       "      <td>00003ab0-15d9-4b62-a187-08889be043a7</td>\n",
       "      <td>0.885493</td>\n",
       "      <td>[3590.0458899019936, 3590.872623694513, 3591.6...</td>\n",
       "      <td>[-76.72148895263672, -76.70281982421875, -76.6...</td>\n",
       "    </tr>\n",
       "    <tr>\n",
       "      <th>7</th>\n",
       "      <td>BOSS-DR16</td>\n",
       "      <td>00005446-0b24-438f-b11f-b967480aa12f</td>\n",
       "      <td>0.888598</td>\n",
       "      <td>[3576.844005764754, 3577.6676993611104, 3578.4...</td>\n",
       "      <td>[0.8816239833831787, 0.8817424178123474, 0.881...</td>\n",
       "    </tr>\n",
       "    <tr>\n",
       "      <th>8</th>\n",
       "      <td>BOSS-DR16</td>\n",
       "      <td>00005687-1514-47c2-8395-42df66ed6894</td>\n",
       "      <td>0.582597</td>\n",
       "      <td>[3572.7283815192886, 3573.5511273490297, 3574....</td>\n",
       "      <td>[-2.5826632976531982, -2.5840744972229004, -0....</td>\n",
       "    </tr>\n",
       "    <tr>\n",
       "      <th>9</th>\n",
       "      <td>BOSS-DR16</td>\n",
       "      <td>00006319-bf2e-4791-947f-49a3f18dac90</td>\n",
       "      <td>0.592236</td>\n",
       "      <td>[3553.857419860757, 3554.6758199906994, 3555.4...</td>\n",
       "      <td>[30.13748550415039, 7.0281453132629395, -25.78...</td>\n",
       "    </tr>\n",
       "    <tr>\n",
       "      <th>10</th>\n",
       "      <td>BOSS-DR16</td>\n",
       "      <td>00006ac2-23a2-4d1f-b595-73e04ac63158</td>\n",
       "      <td>0.559281</td>\n",
       "      <td>[3553.0392081527184, 3553.8574198607607, 3554....</td>\n",
       "      <td>[-5.523101806640625, 16.563671112060547, -7.58...</td>\n",
       "    </tr>\n",
       "    <tr>\n",
       "      <th>11</th>\n",
       "      <td>BOSS-DR16</td>\n",
       "      <td>00006edb-7225-4e14-afcc-121d216556cf</td>\n",
       "      <td>0.538009</td>\n",
       "      <td>[3586.740857699508, 3587.566830392618, 3588.39...</td>\n",
       "      <td>[4.436182022094727, 2.248577117919922, -5.7886...</td>\n",
       "    </tr>\n",
       "    <tr>\n",
       "      <th>12</th>\n",
       "      <td>BOSS-DR16</td>\n",
       "      <td>000070af-f9c3-4ccd-b9eb-4cf9bccb172a</td>\n",
       "      <td>0.508008</td>\n",
       "      <td>[3553.0392081527184, 3553.8574198607607, 3554....</td>\n",
       "      <td>[-18.79749298095703, -18.799394607543945, -9.0...</td>\n",
       "    </tr>\n",
       "    <tr>\n",
       "      <th>13</th>\n",
       "      <td>DESI-EDR</td>\n",
       "      <td>00007875-1c56-4f84-9680-9acc886a4748</td>\n",
       "      <td>0.548366</td>\n",
       "      <td>[3600.0, 3600.8, 3601.6000000000004, 3602.4000...</td>\n",
       "      <td>[-3.613659143447876, -10.388154029846191, 9.03...</td>\n",
       "    </tr>\n",
       "    <tr>\n",
       "      <th>14</th>\n",
       "      <td>BOSS-DR16</td>\n",
       "      <td>00007f01-0f99-4116-b472-802068e735b6</td>\n",
       "      <td>0.515920</td>\n",
       "      <td>[3550.5857031262385, 3551.403349828825, 3552.2...</td>\n",
       "      <td>[-23.594324111938477, -23.599477767944336, -23...</td>\n",
       "    </tr>\n",
       "    <tr>\n",
       "      <th>15</th>\n",
       "      <td>BOSS-DR16</td>\n",
       "      <td>00008c04-ecaa-4082-ba52-e2d32748fc3a</td>\n",
       "      <td>0.504173</td>\n",
       "      <td>[3553.0392081527184, 3553.8574198607607, 3554....</td>\n",
       "      <td>[-7.003961086273193, 2.4018871784210205, 0.500...</td>\n",
       "    </tr>\n",
       "    <tr>\n",
       "      <th>16</th>\n",
       "      <td>BOSS-DR16</td>\n",
       "      <td>00009298-d63f-4d49-b80d-32bd033da223</td>\n",
       "      <td>0.533314</td>\n",
       "      <td>[3563.6906696823603, 3564.5113342624427, 3565....</td>\n",
       "      <td>[-2.9678332805633545, -2.9674854278564453, -6....</td>\n",
       "    </tr>\n",
       "    <tr>\n",
       "      <th>17</th>\n",
       "      <td>BOSS-DR16</td>\n",
       "      <td>0000941b-ea14-4ae6-9cce-9b98d0a6694d</td>\n",
       "      <td>0.524597</td>\n",
       "      <td>[3563.6906696823603, 3564.5113342624427, 3565....</td>\n",
       "      <td>[-4.180303573608398, -4.181419372558594, -4.18...</td>\n",
       "    </tr>\n",
       "    <tr>\n",
       "      <th>18</th>\n",
       "      <td>BOSS-DR16</td>\n",
       "      <td>0000969c-23e8-4d67-9b17-d42f25de4858</td>\n",
       "      <td>0.550321</td>\n",
       "      <td>[3557.9513055974294, 3558.770648487934, 3559.5...</td>\n",
       "      <td>[-7.070475101470947, -7.070608139038086, -7.07...</td>\n",
       "    </tr>\n",
       "    <tr>\n",
       "      <th>19</th>\n",
       "      <td>BOSS-DR16</td>\n",
       "      <td>0000a1cb-0dc2-48b9-aa75-7d6fb6c283d3</td>\n",
       "      <td>0.610002</td>\n",
       "      <td>[3558.7706484879304, 3559.59018006083, 3560.40...</td>\n",
       "      <td>[-3.85841703414917, -3.85847806930542, -3.8585...</td>\n",
       "    </tr>\n",
       "  </tbody>\n",
       "</table>\n",
       "</div>"
      ],
      "text/plain": [
       "   data_release                                    id  redshift  \\\n",
       "0      DESI-EDR  000001ce-1432-4e38-9609-2b579a01f079  0.813519   \n",
       "1     BOSS-DR16  00000a7a-579e-4617-bde7-40cb06813278  0.562171   \n",
       "2     BOSS-DR16  000025a4-c7b9-4729-afaf-e5b67076c4ec  0.517059   \n",
       "3      DESI-EDR  000025d7-d443-47d4-8b86-96eb5a6ecc42  0.558836   \n",
       "4     BOSS-DR16  0000369a-273f-4ffa-b700-61a986eafc74  0.502516   \n",
       "5      DESI-EDR  00003a53-dba4-4e7e-ba20-33d1d0fa8cbc  0.886934   \n",
       "6     BOSS-DR16  00003ab0-15d9-4b62-a187-08889be043a7  0.885493   \n",
       "7     BOSS-DR16  00005446-0b24-438f-b11f-b967480aa12f  0.888598   \n",
       "8     BOSS-DR16  00005687-1514-47c2-8395-42df66ed6894  0.582597   \n",
       "9     BOSS-DR16  00006319-bf2e-4791-947f-49a3f18dac90  0.592236   \n",
       "10    BOSS-DR16  00006ac2-23a2-4d1f-b595-73e04ac63158  0.559281   \n",
       "11    BOSS-DR16  00006edb-7225-4e14-afcc-121d216556cf  0.538009   \n",
       "12    BOSS-DR16  000070af-f9c3-4ccd-b9eb-4cf9bccb172a  0.508008   \n",
       "13     DESI-EDR  00007875-1c56-4f84-9680-9acc886a4748  0.548366   \n",
       "14    BOSS-DR16  00007f01-0f99-4116-b472-802068e735b6  0.515920   \n",
       "15    BOSS-DR16  00008c04-ecaa-4082-ba52-e2d32748fc3a  0.504173   \n",
       "16    BOSS-DR16  00009298-d63f-4d49-b80d-32bd033da223  0.533314   \n",
       "17    BOSS-DR16  0000941b-ea14-4ae6-9cce-9b98d0a6694d  0.524597   \n",
       "18    BOSS-DR16  0000969c-23e8-4d67-9b17-d42f25de4858  0.550321   \n",
       "19    BOSS-DR16  0000a1cb-0dc2-48b9-aa75-7d6fb6c283d3  0.610002   \n",
       "\n",
       "                                           wavelength  \\\n",
       "0   [3600.0, 3600.8, 3601.6000000000004, 3602.4000...   \n",
       "1   [3555.4944085859292, 3556.3131856898544, 3557....   \n",
       "2   [3568.617492834813, 3569.439291988468, 3570.26...   \n",
       "3   [3600.0, 3600.8, 3601.6000000000004, 3602.4000...   \n",
       "4   [3554.6758199906994, 3555.494408585933, 3556.3...   \n",
       "5   [3600.0, 3600.8, 3601.6000000000004, 3602.4000...   \n",
       "6   [3590.0458899019936, 3590.872623694513, 3591.6...   \n",
       "7   [3576.844005764754, 3577.6676993611104, 3578.4...   \n",
       "8   [3572.7283815192886, 3573.5511273490297, 3574....   \n",
       "9   [3553.857419860757, 3554.6758199906994, 3555.4...   \n",
       "10  [3553.0392081527184, 3553.8574198607607, 3554....   \n",
       "11  [3586.740857699508, 3587.566830392618, 3588.39...   \n",
       "12  [3553.0392081527184, 3553.8574198607607, 3554....   \n",
       "13  [3600.0, 3600.8, 3601.6000000000004, 3602.4000...   \n",
       "14  [3550.5857031262385, 3551.403349828825, 3552.2...   \n",
       "15  [3553.0392081527184, 3553.8574198607607, 3554....   \n",
       "16  [3563.6906696823603, 3564.5113342624427, 3565....   \n",
       "17  [3563.6906696823603, 3564.5113342624427, 3565....   \n",
       "18  [3557.9513055974294, 3558.770648487934, 3559.5...   \n",
       "19  [3558.7706484879304, 3559.59018006083, 3560.40...   \n",
       "\n",
       "                                                 flux  \n",
       "0   [1.0961802005767822, -1.6880725622177124, 2.30...  \n",
       "1   [3.6426377296447754, 3.642536163330078, 3.6424...  \n",
       "2   [-0.596808671951294, 0.030597688630223274, 2.3...  \n",
       "3   [2.4511337280273438, -2.0913825035095215, 0.15...  \n",
       "4   [-10.43215560913086, -10.43178939819336, -7.89...  \n",
       "5   [-7.370975017547607, -4.113868713378906, -3.39...  \n",
       "6   [-76.72148895263672, -76.70281982421875, -76.6...  \n",
       "7   [0.8816239833831787, 0.8817424178123474, 0.881...  \n",
       "8   [-2.5826632976531982, -2.5840744972229004, -0....  \n",
       "9   [30.13748550415039, 7.0281453132629395, -25.78...  \n",
       "10  [-5.523101806640625, 16.563671112060547, -7.58...  \n",
       "11  [4.436182022094727, 2.248577117919922, -5.7886...  \n",
       "12  [-18.79749298095703, -18.799394607543945, -9.0...  \n",
       "13  [-3.613659143447876, -10.388154029846191, 9.03...  \n",
       "14  [-23.594324111938477, -23.599477767944336, -23...  \n",
       "15  [-7.003961086273193, 2.4018871784210205, 0.500...  \n",
       "16  [-2.9678332805633545, -2.9674854278564453, -6....  \n",
       "17  [-4.180303573608398, -4.181419372558594, -4.18...  \n",
       "18  [-7.070475101470947, -7.070608139038086, -7.07...  \n",
       "19  [-3.85841703414917, -3.85847806930542, -3.8585...  "
      ]
     },
     "execution_count": 28,
     "metadata": {},
     "output_type": "execute_result"
    }
   ],
   "source": [
    "df = pd.DataFrame([[r.data_release, r.id, r.redshift, r.wavelength, r.flux]\n",
    "                    for r in results_I.records],\n",
    "                  columns=['data_release', 'id', 'redshift', 'wavelength', 'flux'])\n",
    "df"
   ]
  },
  {
   "cell_type": "markdown",
   "metadata": {},
   "source": [
    "#### Spectrum1D:\n",
    "When applicable, the units for each field are documented on the [SPARCL webpage](http://sparclstage.datalab.noirlab.edu) by clicking the name of the data set"
   ]
  },
  {
   "cell_type": "code",
   "execution_count": 29,
   "metadata": {},
   "outputs": [
    {
     "data": {
      "text/plain": [
       "<Spectrum1D(flux=<Quantity [ 1.09618020e-17, -1.68807256e-17,  2.30594230e-17, ...,\n",
       "            5.18360674e-18,  5.87683260e-18,  6.92537904e-18] erg / (Angstrom cm2 s)>, spectral_axis=<SpectralAxis \n",
       "   (observer to target:\n",
       "      radial_velocity=159991.68640987598 km / s\n",
       "      redshift=0.8135194222888051)\n",
       "  [3600. , 3600.8, 3601.6, ..., 9822.4, 9823.2, 9824. ] Angstrom>, uncertainty=InverseVariance([  0.44933867,   0.56658721,   0.54383731, ...,\n",
       "                  84.21394348, 120.00515747, 193.18800354]))>"
      ]
     },
     "execution_count": 29,
     "metadata": {},
     "output_type": "execute_result"
    }
   ],
   "source": [
    "specs = [Spectrum1D(spectral_axis = r.wavelength*u.AA,\n",
    "                    flux = np.array(r.flux)* 10**-17 * u.Unit('erg cm-2 s-1 AA-1'),\n",
    "                    uncertainty = InverseVariance(np.array(r.ivar)),\n",
    "                    redshift = r.redshift,\n",
    "                    mask = r.mask)\n",
    "        for r in results_I.records]\n",
    "specs[0]"
   ]
  },
  {
   "cell_type": "code",
   "execution_count": 30,
   "metadata": {},
   "outputs": [
    {
     "data": {
      "image/png": "[encoded data removed]",
      "text/plain": [
       "<Figure size 432x288 with 1 Axes>"
      ]
     },
     "metadata": {
      "needs_background": "light"
     },
     "output_type": "display_data"
    }
   ],
   "source": [
    "# Plot a couple\n",
    "f, ax = plt.subplots()  \n",
    "ax.step(specs[0].spectral_axis, specs[0].flux) \n",
    "ax.step(specs[1].spectral_axis, specs[1].flux)\n",
    "plt.show()"
   ]
  },
  {
   "cell_type": "markdown",
   "metadata": {},
   "source": [
    "<a class=\"anchor\" id=\"plot\"></a>\n",
    "## Plot spectra"
   ]
  },
  {
   "cell_type": "code",
   "execution_count": 31,
   "metadata": {},
   "outputs": [],
   "source": [
    "def plot_spec(index, results):\n",
    "    \"\"\"\n",
    "    Pass an index value and the output from using client.retrieve()\n",
    "    to plot the spectrum at the specified index.\n",
    "    \"\"\"\n",
    "    \n",
    "    record = results.records[index]\n",
    "\n",
    "    id_ = record.id\n",
    "    data_release = record.data_release\n",
    "    flux = record.flux\n",
    "    wavelength = record.wavelength\n",
    "    model = record.model\n",
    "    spectype = record.spectype\n",
    "\n",
    "    plt.figure(figsize=(12,7))\n",
    "    plt.title(f\"Data Set = {data_release}, spectype = {spectype}, id = {id_}\")\n",
    "    plt.xlabel('$\\lambda\\ [\\AA]$')\n",
    "    plt.ylabel('$f_{\\lambda}$ $(10^{-17}$ $erg$ $s^{-1}$ $cm^{-2}$ $\\AA^{-1})$')\n",
    "    \n",
    "    # Plot unsmoothed spectrum in grey\n",
    "    plt.plot(wavelength, flux, color='k', alpha=0.2, label='Unsmoothed spectrum')\n",
    "    \n",
    "    # Overplot spectrum smoothed using a 1-D Gaussian Kernel in black\n",
    "    plt.plot(wavelength, convolve(flux, Gaussian1DKernel(5)), color='k', label='Smoothed spectrum')\n",
    "    \n",
    "    # Overplot the model spectrum in red\n",
    "    plt.plot(wavelength, model, color='r', label='Model spectrum')\n",
    "    \n",
    "    plt.legend()\n",
    "    plt.show()"
   ]
  },
  {
   "cell_type": "code",
   "execution_count": 32,
   "metadata": {},
   "outputs": [
    {
     "data": {
      "image/png": "[encoded data removed]",
      "text/plain": [
       "<Figure size 864x504 with 1 Axes>"
      ]
     },
     "metadata": {
      "needs_background": "light"
     },
     "output_type": "display_data"
    }
   ],
   "source": [
    "plot_spec(index=5, results=results_I)"
   ]
  },
  {
   "cell_type": "code",
   "execution_count": null,
   "metadata": {},
   "outputs": [],
   "source": []
  }
 ],
 "metadata": {
  "kernelspec": {
   "display_name": "Python 3 (ipykernel)",
   "language": "python",
   "name": "python3"
  },
  "language_info": {
   "codemirror_mode": {
    "name": "ipython",
    "version": 3
   },
   "file_extension": ".py",
   "mimetype": "text/x-python",
   "name": "python",
   "nbconvert_exporter": "python",
   "pygments_lexer": "ipython3",
   "version": "3.10.5"
  }
 },
 "nbformat": 4,
 "nbformat_minor": 4
}
