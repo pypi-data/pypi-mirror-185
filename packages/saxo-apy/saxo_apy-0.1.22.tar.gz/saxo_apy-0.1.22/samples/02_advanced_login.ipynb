{
 "cells": [
  {
   "cell_type": "markdown",
   "metadata": {},
   "source": [
    "## Advanced Login\n",
    "\n",
    "By default, the client will create a redirect server and launch the user's default browser to show the login page. Neither of these are however required. This is useful for deployed applications that need to be initialized from the command line (also known as \"headless authentication\").\n",
    "\n",
    "Start by initializing the client as usual:"
   ]
  },
  {
   "cell_type": "code",
   "execution_count": 2,
   "metadata": {},
   "outputs": [],
   "source": [
    "from saxo_apy import SaxoOpenAPIClient\n",
    "\n",
    "client = SaxoOpenAPIClient()"
   ]
  },
  {
   "cell_type": "markdown",
   "metadata": {},
   "source": [
    "Next, use the `.login()` method with the below arguments to disable the browser and redirect server.\n",
    "\n",
    "You will manually have to open the login page at the provided link, and copy the URL location you land on into the terminal after you enter your credentials.\n",
    "\n",
    "Note: because no server is listening for the redirect, the browser will show a \"This site can't be reached\" or \"Unable to connect\" error. This is however not a problem, as the required data (the authorization code) is available in the URL's query parameters. Copy the entire URL into your command line when prompted to connect the client."
   ]
  },
  {
   "cell_type": "code",
   "execution_count": null,
   "metadata": {},
   "outputs": [],
   "source": [
    "client.login(launch_browser=False, catch_redirect=False, start_async_refresh=True)"
   ]
  },
  {
   "cell_type": "markdown",
   "metadata": {},
   "source": [
    "The command line will look something like this:\n",
    "\n",
    "```\n",
    "🌐 navigate to the following web page to log in: https://sim.logonvalidation.net/authorize?.....\n",
    "📎 paste redirect location (url): < REDIRECT LOCATION GOES HERE >\n",
    "✅ authorization succeeded - connected to 🛠 SIM environment with 🔧 write / 📈 trade permissions (session ID ea1df9dfd8464915947ba529bd2f02ac)\n",
    "```\n",
    "\n",
    "The client is now connected in the same way as using the browser/redirect server:"
   ]
  },
  {
   "cell_type": "code",
   "execution_count": 4,
   "metadata": {},
   "outputs": [
    {
     "data": {
      "text/plain": [
       "True"
      ]
     },
     "execution_count": 4,
     "metadata": {},
     "output_type": "execute_result"
    }
   ],
   "source": [
    "client.logged_in"
   ]
  },
  {
   "cell_type": "code",
   "execution_count": 5,
   "metadata": {},
   "outputs": [
    {
     "data": {
      "text/plain": [
       "['async_refresh', 'Task-1']"
      ]
     },
     "execution_count": 5,
     "metadata": {},
     "output_type": "execute_result"
    }
   ],
   "source": [
    "# if start_async_refresh was set when logging in, the asyncio tasks list will confirm this\n",
    "import asyncio\n",
    "\n",
    "[task.get_name() for task in asyncio.all_tasks()]"
   ]
  },
  {
   "cell_type": "markdown",
   "metadata": {},
   "source": [
    "## Authenticating a Deployed Application\n",
    "\n",
    "Let's assume you have a cloud server running at `my-dev-box.my-domain.net`. We want to deploy a OpenAPI client on this server and authenticate it with Saxo SSO.\n",
    "\n",
    "We can use the above procedure to authenticate the client from the command line (through SSH for example).\n",
    "\n",
    "However, we can also use the client to seamlessly authenticate while still using a browser and callback server. We first need to ensure we add a new redirect URL to the application on the Developer Portal:\n",
    "\n",
    "`http://my-dev-box.my-domain.net:12321/redirect`\n",
    "\n",
    "Saxo SSO will redirect the user to this location after login credentials are validated. Make sure your cloud instance firewall allows for inbound connections on the chosen port (in this case `12321`), otherwise your server will never be able to catch the callback.\n",
    "\n",
    "Next, we initialize the client as usual:"
   ]
  },
  {
   "cell_type": "code",
   "execution_count": 6,
   "metadata": {},
   "outputs": [],
   "source": [
    "from saxo_apy import SaxoOpenAPIClient\n",
    "import json\n",
    "\n",
    "client = SaxoOpenAPIClient()"
   ]
  },
  {
   "cell_type": "markdown",
   "metadata": {},
   "source": [
    "The client provides a convenience function to show the available redirect URLs:"
   ]
  },
  {
   "cell_type": "code",
   "execution_count": null,
   "metadata": {},
   "outputs": [],
   "source": [
    "[url.host for url in client.available_redirect_urls]\n",
    "# ['localhost', 'my-dev-box.my-domain.net']"
   ]
  },
  {
   "cell_type": "markdown",
   "metadata": {},
   "source": [
    "Next, we select the **second** URL for our login flow:"
   ]
  },
  {
   "cell_type": "code",
   "execution_count": null,
   "metadata": {},
   "outputs": [],
   "source": [
    "client.login(redirect_url=client.available_redirect_urls[1])"
   ]
  },
  {
   "cell_type": "markdown",
   "metadata": {},
   "source": [
    "Enter your credentials and confirm. Saxo SSO now forwards you to the cloud instance, which should be able to catch the callback and authorize your client without you needing to copy URLs back and forth!"
   ]
  }
 ],
 "metadata": {
  "kernelspec": {
   "display_name": "Python 3 (ipykernel)",
   "language": "python",
   "name": "python3"
  },
  "language_info": {
   "codemirror_mode": {
    "name": "ipython",
    "version": 3
   },
   "file_extension": ".py",
   "mimetype": "text/x-python",
   "name": "python",
   "nbconvert_exporter": "python",
   "pygments_lexer": "ipython3",
   "version": "3.10.8"
  },
  "vscode": {
   "interpreter": {
    "hash": "8361e8afa66b46612775fe6a24b07e9cbdf8a73eb81e96bd999faaeec5ba2a27"
   }
  }
 },
 "nbformat": 4,
 "nbformat_minor": 2
}
