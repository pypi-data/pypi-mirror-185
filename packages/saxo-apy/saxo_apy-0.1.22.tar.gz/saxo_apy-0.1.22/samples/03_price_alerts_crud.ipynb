{
 "cells": [
  {
   "cell_type": "markdown",
   "metadata": {},
   "source": [
    "## CRUD Example w/ Price Alerts"
   ]
  },
  {
   "cell_type": "code",
   "execution_count": 1,
   "metadata": {},
   "outputs": [
    {
     "name": "stdout",
     "output_type": "stream",
     "text": [
      "🌐 opening login page in browser - waiting for user to authenticate... 🔑\n",
      "📞 received callback from Saxo SSO\n",
      "✅ authorization succeeded - connected to SIM environment with WRITE / TRADE permissions (session ID b867d739a4144eb58358a0a19e164a1b)\n"
     ]
    }
   ],
   "source": [
    "from saxo_apy import SaxoOpenAPIClient\n",
    "\n",
    "client = SaxoOpenAPIClient()\n",
    "client.login()"
   ]
  },
  {
   "cell_type": "code",
   "execution_count": 2,
   "metadata": {},
   "outputs": [
    {
     "name": "stdout",
     "output_type": "stream",
     "text": [
      "These price alerts are currently configured: []\n"
     ]
    }
   ],
   "source": [
    "# retrieve price alerts\n",
    "alerts = client.get(\"/vas/v1/pricealerts/definitions\")\n",
    "print(\n",
    "    f\"These price alerts are currently configured: {[alert for alert in alerts['Data']]}\"\n",
    ")"
   ]
  },
  {
   "cell_type": "code",
   "execution_count": 3,
   "metadata": {},
   "outputs": [
    {
     "name": "stdout",
     "output_type": "stream",
     "text": [
      "New price alert was configured with ID: 876883\n"
     ]
    }
   ],
   "source": [
    "# create new price alert: AAPL traded above 200 USD\n",
    "account_id = client.get(\"/port/v1/accounts/me\")[\"Data\"][0][\"AccountId\"]\n",
    "\n",
    "new_alert = {\n",
    "    \"AccountId\": account_id,\n",
    "    \"AssetType\": \"Stock\",\n",
    "    \"IsRecurring\": False,\n",
    "    \"Operator\": \"GreaterOrEqual\",\n",
    "    \"PriceVariable\": \"Traded\",\n",
    "    \"TargetValue\": \"200\",\n",
    "    \"Uic\": 211,\n",
    "    \"ExpiryDate\": \"2022-12-31T00:00:00Z\",\n",
    "}\n",
    "\n",
    "created_alert = client.post(\"/vas/v1/pricealerts/definitions\", data=new_alert)\n",
    "alert_id = created_alert[\"AlertDefinitionId\"]\n",
    "print(f\"New price alert was configured with ID: {alert_id}\")"
   ]
  },
  {
   "cell_type": "code",
   "execution_count": 4,
   "metadata": {},
   "outputs": [],
   "source": [
    "# update price alert (price is now 210 USD)\n",
    "updated_alert = {\n",
    "    \"AccountId\": account_id,\n",
    "    \"AssetType\": \"Stock\",\n",
    "    \"IsRecurring\": False,\n",
    "    \"Operator\": \"GreaterOrEqual\",\n",
    "    \"PriceVariable\": \"Traded\",\n",
    "    \"TargetValue\": \"210\",\n",
    "    \"Uic\": 211,\n",
    "    \"ExpiryDate\": \"2022-12-31T00:00:00Z\",\n",
    "}\n",
    "\n",
    "client.put(f\"/vas/v1/pricealerts/definitions/{alert_id}\", data=updated_alert)\n",
    "\n",
    "# no response here because PUT status code is 204"
   ]
  },
  {
   "cell_type": "code",
   "execution_count": 5,
   "metadata": {},
   "outputs": [
    {
     "name": "stdout",
     "output_type": "stream",
     "text": [
      "Target value of price alert 876883 is now: 210.0\n"
     ]
    }
   ],
   "source": [
    "# retrieve updated alert, price is indeed updated to 210\n",
    "alert = client.get(f\"/vas/v1/pricealerts/definitions/{alert_id}\")\n",
    "print(f\"Target value of price alert {alert_id} is now: {alert['TargetValue']}\")"
   ]
  },
  {
   "cell_type": "code",
   "execution_count": 6,
   "metadata": {},
   "outputs": [],
   "source": [
    "# remove alert\n",
    "client.delete(f\"/vas/v1/pricealerts/definitions/{alert_id}\")\n",
    "\n",
    "# again no response because status code is always 204"
   ]
  },
  {
   "cell_type": "code",
   "execution_count": 7,
   "metadata": {},
   "outputs": [
    {
     "name": "stdout",
     "output_type": "stream",
     "text": [
      "These price alerts are currently configured: []\n"
     ]
    }
   ],
   "source": [
    "# alert is indeed removed\n",
    "client.get(\"/vas/v1/pricealerts/definitions/\")\n",
    "print(\n",
    "    f\"These price alerts are currently configured: {[alert for alert in alerts['Data']]}\"\n",
    ")"
   ]
  }
 ],
 "metadata": {
  "kernelspec": {
   "display_name": "Python 3.9.12 ('venv': venv)",
   "language": "python",
   "name": "python3"
  },
  "language_info": {
   "codemirror_mode": {
    "name": "ipython",
    "version": 3
   },
   "file_extension": ".py",
   "mimetype": "text/x-python",
   "name": "python",
   "nbconvert_exporter": "python",
   "pygments_lexer": "ipython3",
   "version": "3.10.8"
  },
  "orig_nbformat": 4,
  "vscode": {
   "interpreter": {
    "hash": "8361e8afa66b46612775fe6a24b07e9cbdf8a73eb81e96bd999faaeec5ba2a27"
   }
  }
 },
 "nbformat": 4,
 "nbformat_minor": 2
}
