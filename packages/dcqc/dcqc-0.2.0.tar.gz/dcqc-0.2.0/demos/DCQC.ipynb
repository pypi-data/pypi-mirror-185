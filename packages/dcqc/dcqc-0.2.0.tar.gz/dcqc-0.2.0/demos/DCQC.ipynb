{
 "cells": [
  {
   "cell_type": "markdown",
   "id": "1af2c847-7f27-4365-bc1b-80c9f34bb190",
   "metadata": {},
   "source": [
    "## Import modules"
   ]
  },
  {
   "cell_type": "code",
   "execution_count": null,
   "id": "eee68e50-439a-4aea-b2d6-741492fb9f15",
   "metadata": {},
   "outputs": [],
   "source": [
    "import json\n",
    "from pathlib import Path\n",
    "\n",
    "import pytest\n",
    "\n",
    "from dcqc.parsers import CsvParser\n",
    "from dcqc.reports import JsonReport\n",
    "from dcqc.tests.test_abc import TestABC\n",
    "from dcqc.utils import open_parent_fs"
   ]
  },
  {
   "cell_type": "markdown",
   "id": "c737582c-d0c3-4087-b848-9ead1404a702",
   "metadata": {},
   "source": [
    "## GIVEN a list of external tests to skip (to remain self-contained)"
   ]
  },
  {
   "cell_type": "code",
   "execution_count": null,
   "id": "3a9cad4a-ddd4-4096-adbe-40e779aac644",
   "metadata": {},
   "outputs": [],
   "source": [
    "all_tests = TestABC.list_tests()\n",
    "skipped_tests = [test.__name__ for test in all_tests if test.is_external_test]"
   ]
  },
  {
   "cell_type": "markdown",
   "id": "367994d3-eb4a-4b5e-8935-65f2e2266cd3",
   "metadata": {},
   "source": [
    "## AND a subset of internal tests to be required (to verify suite status behavior)"
   ]
  },
  {
   "cell_type": "code",
   "execution_count": null,
   "id": "641ebc10-d3bf-486c-9315-d46c811eb711",
   "metadata": {},
   "outputs": [],
   "source": [
    "required_tests = [\"Md5ChecksumTest\"]"
   ]
  },
  {
   "cell_type": "markdown",
   "id": "65dda6a2-ee0f-4384-a7d5-202332ead35c",
   "metadata": {},
   "source": [
    "## AND a CSV file of TXT and TIFF files"
   ]
  },
  {
   "cell_type": "code",
   "execution_count": null,
   "id": "a5de4997-c9ac-4084-b435-33fbbad5bf80",
   "metadata": {},
   "outputs": [],
   "source": [
    "csv_path = Path(\"../tests/data/files.csv\")"
   ]
  },
  {
   "cell_type": "markdown",
   "id": "1e9755cc-54a0-4e7d-ab2b-14b981d4e7c4",
   "metadata": {},
   "source": [
    "## AND a remote destination for the JSON report"
   ]
  },
  {
   "cell_type": "code",
   "execution_count": null,
   "id": "7321a4a8-a6cf-44a6-b4d9-f72fa7f52e1c",
   "metadata": {},
   "outputs": [],
   "source": [
    "report_url = \"syn://syn50696607/report.json\""
   ]
  },
  {
   "cell_type": "markdown",
   "id": "7cb3340e-50e2-4798-a17c-2dddaf4445b3",
   "metadata": {},
   "source": [
    "## WHEN the CSV file is parsed to generate the relevant QC suites"
   ]
  },
  {
   "cell_type": "code",
   "execution_count": null,
   "id": "05d29389-794b-4895-a809-8fb557ff9568",
   "metadata": {},
   "outputs": [],
   "source": [
    "parser = CsvParser(csv_path)\n",
    "suites = parser.create_suites(required_tests, skipped_tests)"
   ]
  },
  {
   "cell_type": "markdown",
   "id": "9773bf52-f224-4313-bcf0-9c81c2aa6143",
   "metadata": {},
   "source": [
    "## AND those suites are used to generate a JSON report"
   ]
  },
  {
   "cell_type": "code",
   "execution_count": null,
   "id": "57f77b89-e058-4c4f-b7af-6a7e88a4950a",
   "metadata": {},
   "outputs": [],
   "source": [
    "report = JsonReport(report_url, overwrite=True)\n",
    "saved = report.save(suites)"
   ]
  },
  {
   "cell_type": "markdown",
   "id": "e38cc15c-4992-4038-abb7-26339d7c1da8",
   "metadata": {},
   "source": [
    "## THEN the file exists"
   ]
  },
  {
   "cell_type": "code",
   "execution_count": null,
   "id": "87ac0c7d-36c0-4a2f-b3b5-480f2e8c31cc",
   "metadata": {},
   "outputs": [],
   "source": [
    "fs, basename = open_parent_fs(report_url)\n",
    "assert fs.exists(basename)"
   ]
  },
  {
   "cell_type": "markdown",
   "id": "334c8073-7812-43fb-be57-3354f6f3c489",
   "metadata": {},
   "source": [
    "## AND the file can be loaded by the `json` module"
   ]
  },
  {
   "cell_type": "code",
   "execution_count": null,
   "id": "40d2dacf-f39e-4433-9495-d730567b12d1",
   "metadata": {},
   "outputs": [],
   "source": [
    "with fs.open(basename) as infile:\n",
    "    contents = json.load(infile)\n",
    "assert contents"
   ]
  },
  {
   "cell_type": "markdown",
   "id": "de5a4cff-994d-4608-86c1-16f5da61bfc2",
   "metadata": {},
   "source": [
    "## Print the report"
   ]
  },
  {
   "cell_type": "code",
   "execution_count": null,
   "id": "b646e29d-dc31-49b8-a627-84aaab661d4e",
   "metadata": {
    "tags": []
   },
   "outputs": [],
   "source": [
    "contents_fmt = json.dumps(contents)\n",
    "\n",
    "print(contents_fmt)"
   ]
  },
  {
   "cell_type": "code",
   "execution_count": null,
   "id": "1b4e26c5-c12c-4d89-bd19-dc43549c989b",
   "metadata": {},
   "outputs": [],
   "source": []
  }
 ],
 "metadata": {
  "kernelspec": {
   "display_name": ".venv",
   "language": "python",
   "name": "python3"
  },
  "language_info": {
   "codemirror_mode": {
    "name": "ipython",
    "version": 3
   },
   "file_extension": ".py",
   "mimetype": "text/x-python",
   "name": "python",
   "nbconvert_exporter": "python",
   "pygments_lexer": "ipython3",
   "version": "3.10.4 (main, Jul  7 2022, 15:39:05) [Clang 12.0.5 (clang-1205.0.22.11)]"
  },
  "vscode": {
   "interpreter": {
    "hash": "b3cc5ad3e41ecdab922a1c2f15e033ac62b3a1f322e57b79d2f2f637461ca57a"
   }
  }
 },
 "nbformat": 4,
 "nbformat_minor": 5
}
